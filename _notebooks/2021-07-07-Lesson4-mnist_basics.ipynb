{
 "cells": [
  {
   "cell_type": "markdown",
   "metadata": {},
   "source": [
    "# Lesson 4 - FastAI"
   ]
  },
  {
   "cell_type": "markdown",
   "metadata": {
    "id": "tkHUr9H-F3e3"
   },
   "source": [
    "## Learning the basics of classification"
   ]
  },
  {
   "cell_type": "code",
   "execution_count": 3,
   "metadata": {
    "id": "BvoXaHi2F3e4"
   },
   "outputs": [],
   "source": [
    "path = untar_data(URLs.MNIST_SAMPLE)  #path for data"
   ]
  },
  {
   "cell_type": "code",
   "execution_count": 4,
   "metadata": {
    "id": "bH29ZnIrF3e4"
   },
   "outputs": [],
   "source": [
    "#hide\n",
    "Path.BASE_PATH = path"
   ]
  },
  {
   "cell_type": "code",
   "execution_count": 5,
   "metadata": {
    "colab": {
     "base_uri": "https://localhost:8080/"
    },
    "id": "cR4GPG7bF3e4",
    "outputId": "660f6c20-39e4-4f40-f04b-a4d067fb9cfc"
   },
   "outputs": [
    {
     "data": {
      "text/plain": [
       "(#3) [Path('train'),Path('labels.csv'),Path('valid')]"
      ]
     },
     "execution_count": 5,
     "metadata": {},
     "output_type": "execute_result"
    }
   ],
   "source": [
    "path.ls()\n"
   ]
  },
  {
   "cell_type": "code",
   "execution_count": 6,
   "metadata": {
    "colab": {
     "base_uri": "https://localhost:8080/"
    },
    "id": "C-06Q_6dF3e5",
    "outputId": "46de53f3-ec1a-4758-a476-7ebce1240764"
   },
   "outputs": [
    {
     "data": {
      "text/plain": [
       "(#2) [Path('train/3'),Path('train/7')]"
      ]
     },
     "execution_count": 6,
     "metadata": {},
     "output_type": "execute_result"
    }
   ],
   "source": [
    "(path/'train').ls()"
   ]
  },
  {
   "cell_type": "code",
   "execution_count": 7,
   "metadata": {
    "colab": {
     "base_uri": "https://localhost:8080/"
    },
    "id": "u49UqnZVF3e5",
    "outputId": "5ebc0d7a-e956-4b05-aaeb-3125af49c104"
   },
   "outputs": [
    {
     "data": {
      "text/plain": [
       "(#6131) [Path('train/3/10.png'),Path('train/3/10000.png'),Path('train/3/10011.png'),Path('train/3/10031.png'),Path('train/3/10034.png'),Path('train/3/10042.png'),Path('train/3/10052.png'),Path('train/3/1007.png'),Path('train/3/10074.png'),Path('train/3/10091.png')...]"
      ]
     },
     "execution_count": 7,
     "metadata": {},
     "output_type": "execute_result"
    }
   ],
   "source": [
    "threes = (path/'train'/'3').ls().sorted() #getting 3's data from path\n",
    "sevens = (path/'train'/'7').ls().sorted() #getting 7's data from path\n",
    "threes"
   ]
  },
  {
   "cell_type": "code",
   "execution_count": 8,
   "metadata": {
    "colab": {
     "base_uri": "https://localhost:8080/",
     "height": 45
    },
    "id": "tAviT2VUF3e5",
    "outputId": "9b2d38c2-2a49-45a8-8328-28313c02a624"
   },
   "outputs": [
    {
     "data": {
      "image/png": "[encoded data removed]",
      "text/plain": [
       "<PIL.PngImagePlugin.PngImageFile image mode=L size=28x28 at 0x7FA34E27C910>"
      ]
     },
     "execution_count": 8,
     "metadata": {},
     "output_type": "execute_result"
    }
   ],
   "source": [
    "im3_path = threes[1]\n",
    "im3 = Image.open(im3_path) #shows image\n",
    "im3"
   ]
  },
  {
   "cell_type": "code",
   "execution_count": 9,
   "metadata": {
    "colab": {
     "base_uri": "https://localhost:8080/"
    },
    "id": "rW3cIOp8F3e5",
    "outputId": "fb64d6ac-7b99-437e-bed2-4505f813ccb5"
   },
   "outputs": [
    {
     "data": {
      "text/plain": [
       "array([[  0,   0,   0,   0,   0,   0],\n",
       "       [  0,   0,   0,   0,   0,  29],\n",
       "       [  0,   0,   0,  48, 166, 224],\n",
       "       [  0,  93, 244, 249, 253, 187],\n",
       "       [  0, 107, 253, 253, 230,  48],\n",
       "       [  0,   3,  20,  20,  15,   0]], dtype=uint8)"
      ]
     },
     "execution_count": 9,
     "metadata": {},
     "output_type": "execute_result"
    }
   ],
   "source": [
    "array(im3)[4:10,4:10] #numpy to convert image into quantitative rep"
   ]
  },
  {
   "cell_type": "code",
   "execution_count": 10,
   "metadata": {
    "colab": {
     "base_uri": "https://localhost:8080/"
    },
    "id": "2N5Mq_xDF3e5",
    "outputId": "c83fa859-bd79-4ff0-cc1a-8d8c94a4b104"
   },
   "outputs": [
    {
     "data": {
      "text/plain": [
       "tensor([[  0,   0,   0,   0,   0,   0],\n",
       "        [  0,   0,   0,   0,   0,  29],\n",
       "        [  0,   0,   0,  48, 166, 224],\n",
       "        [  0,  93, 244, 249, 253, 187],\n",
       "        [  0, 107, 253, 253, 230,  48],\n",
       "        [  0,   3,  20,  20,  15,   0]], dtype=torch.uint8)"
      ]
     },
     "execution_count": 10,
     "metadata": {},
     "output_type": "execute_result"
    }
   ],
   "source": [
    "tensor(im3)[4:10,4:10] #same thing as numpy array but work better on GPU's (preferred)"
   ]
  },
  {
   "cell_type": "code",
   "execution_count": 11,
   "metadata": {
    "colab": {
     "base_uri": "https://localhost:8080/"
    },
    "id": "2ImEf3fnwWaZ",
    "outputId": "412e2a74-52e4-412d-cb55-afb9ab1c1be1"
   },
   "outputs": [
    {
     "data": {
      "text/plain": [
       "(28, 28)"
      ]
     },
     "execution_count": 11,
     "metadata": {},
     "output_type": "execute_result"
    }
   ],
   "source": [
    "im3.shape"
   ]
  },
  {
   "cell_type": "code",
   "execution_count": 12,
   "metadata": {
    "colab": {
     "base_uri": "https://localhost:8080/",
     "height": 258
    },
    "id": "CbU6mH8aF3e6",
    "outputId": "55ff50cb-fc57-4956-9996-f073c58846b9"
   },
   "outputs": [
    {
     "data": {
      "text/html": [
       "<style  type=\"text/css\" >\n",
       "#T_a0057490_de75_11eb_a28d_92db55bb3f12row0_col0,#T_a0057490_de75_11eb_a28d_92db55bb3f12row0_col1,#T_a0057490_de75_11eb_a28d_92db55bb3f12row0_col2,#T_a0057490_de75_11eb_a28d_92db55bb3f12row0_col3,#T_a0057490_de75_11eb_a28d_92db55bb3f12row0_col4,#T_a0057490_de75_11eb_a28d_92db55bb3f12row0_col5,#T_a0057490_de75_11eb_a28d_92db55bb3f12row0_col6,#T_a0057490_de75_11eb_a28d_92db55bb3f12row0_col7,#T_a0057490_de75_11eb_a28d_92db55bb3f12row0_col8,#T_a0057490_de75_11eb_a28d_92db55bb3f12row0_col9,#T_a0057490_de75_11eb_a28d_92db55bb3f12row0_col10,#T_a0057490_de75_11eb_a28d_92db55bb3f12row0_col11,#T_a0057490_de75_11eb_a28d_92db55bb3f12row0_col12,#T_a0057490_de75_11eb_a28d_92db55bb3f12row0_col13,#T_a0057490_de75_11eb_a28d_92db55bb3f12row0_col14,#T_a0057490_de75_11eb_a28d_92db55bb3f12row0_col15,#T_a0057490_de75_11eb_a28d_92db55bb3f12row0_col16,#T_a0057490_de75_11eb_a28d_92db55bb3f12row0_col17,#T_a0057490_de75_11eb_a28d_92db55bb3f12row1_col0,#T_a0057490_de75_11eb_a28d_92db55bb3f12row1_col1,#T_a0057490_de75_11eb_a28d_92db55bb3f12row1_col2,#T_a0057490_de75_11eb_a28d_92db55bb3f12row1_col3,#T_a0057490_de75_11eb_a28d_92db55bb3f12row1_col4,#T_a0057490_de75_11eb_a28d_92db55bb3f12row1_col15,#T_a0057490_de75_11eb_a28d_92db55bb3f12row1_col16,#T_a0057490_de75_11eb_a28d_92db55bb3f12row1_col17,#T_a0057490_de75_11eb_a28d_92db55bb3f12row2_col0,#T_a0057490_de75_11eb_a28d_92db55bb3f12row2_col1,#T_a0057490_de75_11eb_a28d_92db55bb3f12row2_col2,#T_a0057490_de75_11eb_a28d_92db55bb3f12row2_col15,#T_a0057490_de75_11eb_a28d_92db55bb3f12row2_col16,#T_a0057490_de75_11eb_a28d_92db55bb3f12row2_col17,#T_a0057490_de75_11eb_a28d_92db55bb3f12row3_col0,#T_a0057490_de75_11eb_a28d_92db55bb3f12row3_col15,#T_a0057490_de75_11eb_a28d_92db55bb3f12row3_col16,#T_a0057490_de75_11eb_a28d_92db55bb3f12row3_col17,#T_a0057490_de75_11eb_a28d_92db55bb3f12row4_col0,#T_a0057490_de75_11eb_a28d_92db55bb3f12row4_col6,#T_a0057490_de75_11eb_a28d_92db55bb3f12row4_col7,#T_a0057490_de75_11eb_a28d_92db55bb3f12row4_col8,#T_a0057490_de75_11eb_a28d_92db55bb3f12row4_col9,#T_a0057490_de75_11eb_a28d_92db55bb3f12row4_col10,#T_a0057490_de75_11eb_a28d_92db55bb3f12row4_col15,#T_a0057490_de75_11eb_a28d_92db55bb3f12row4_col16,#T_a0057490_de75_11eb_a28d_92db55bb3f12row4_col17,#T_a0057490_de75_11eb_a28d_92db55bb3f12row5_col0,#T_a0057490_de75_11eb_a28d_92db55bb3f12row5_col5,#T_a0057490_de75_11eb_a28d_92db55bb3f12row5_col6,#T_a0057490_de75_11eb_a28d_92db55bb3f12row5_col7,#T_a0057490_de75_11eb_a28d_92db55bb3f12row5_col8,#T_a0057490_de75_11eb_a28d_92db55bb3f12row5_col9,#T_a0057490_de75_11eb_a28d_92db55bb3f12row5_col15,#T_a0057490_de75_11eb_a28d_92db55bb3f12row5_col16,#T_a0057490_de75_11eb_a28d_92db55bb3f12row5_col17,#T_a0057490_de75_11eb_a28d_92db55bb3f12row6_col0,#T_a0057490_de75_11eb_a28d_92db55bb3f12row6_col1,#T_a0057490_de75_11eb_a28d_92db55bb3f12row6_col2,#T_a0057490_de75_11eb_a28d_92db55bb3f12row6_col3,#T_a0057490_de75_11eb_a28d_92db55bb3f12row6_col4,#T_a0057490_de75_11eb_a28d_92db55bb3f12row6_col5,#T_a0057490_de75_11eb_a28d_92db55bb3f12row6_col6,#T_a0057490_de75_11eb_a28d_92db55bb3f12row6_col7,#T_a0057490_de75_11eb_a28d_92db55bb3f12row6_col8,#T_a0057490_de75_11eb_a28d_92db55bb3f12row6_col9,#T_a0057490_de75_11eb_a28d_92db55bb3f12row6_col14,#T_a0057490_de75_11eb_a28d_92db55bb3f12row6_col15,#T_a0057490_de75_11eb_a28d_92db55bb3f12row6_col16,#T_a0057490_de75_11eb_a28d_92db55bb3f12row6_col17,#T_a0057490_de75_11eb_a28d_92db55bb3f12row7_col0,#T_a0057490_de75_11eb_a28d_92db55bb3f12row7_col1,#T_a0057490_de75_11eb_a28d_92db55bb3f12row7_col2,#T_a0057490_de75_11eb_a28d_92db55bb3f12row7_col3,#T_a0057490_de75_11eb_a28d_92db55bb3f12row7_col4,#T_a0057490_de75_11eb_a28d_92db55bb3f12row7_col5,#T_a0057490_de75_11eb_a28d_92db55bb3f12row7_col6,#T_a0057490_de75_11eb_a28d_92db55bb3f12row7_col13,#T_a0057490_de75_11eb_a28d_92db55bb3f12row7_col14,#T_a0057490_de75_11eb_a28d_92db55bb3f12row7_col15,#T_a0057490_de75_11eb_a28d_92db55bb3f12row7_col16,#T_a0057490_de75_11eb_a28d_92db55bb3f12row7_col17,#T_a0057490_de75_11eb_a28d_92db55bb3f12row8_col0,#T_a0057490_de75_11eb_a28d_92db55bb3f12row8_col1,#T_a0057490_de75_11eb_a28d_92db55bb3f12row8_col2,#T_a0057490_de75_11eb_a28d_92db55bb3f12row8_col3,#T_a0057490_de75_11eb_a28d_92db55bb3f12row8_col4,#T_a0057490_de75_11eb_a28d_92db55bb3f12row8_col13,#T_a0057490_de75_11eb_a28d_92db55bb3f12row8_col14,#T_a0057490_de75_11eb_a28d_92db55bb3f12row8_col15,#T_a0057490_de75_11eb_a28d_92db55bb3f12row8_col16,#T_a0057490_de75_11eb_a28d_92db55bb3f12row8_col17,#T_a0057490_de75_11eb_a28d_92db55bb3f12row9_col0,#T_a0057490_de75_11eb_a28d_92db55bb3f12row9_col1,#T_a0057490_de75_11eb_a28d_92db55bb3f12row9_col2,#T_a0057490_de75_11eb_a28d_92db55bb3f12row9_col3,#T_a0057490_de75_11eb_a28d_92db55bb3f12row9_col4,#T_a0057490_de75_11eb_a28d_92db55bb3f12row9_col16,#T_a0057490_de75_11eb_a28d_92db55bb3f12row9_col17,#T_a0057490_de75_11eb_a28d_92db55bb3f12row10_col0,#T_a0057490_de75_11eb_a28d_92db55bb3f12row10_col1,#T_a0057490_de75_11eb_a28d_92db55bb3f12row10_col2,#T_a0057490_de75_11eb_a28d_92db55bb3f12row10_col3,#T_a0057490_de75_11eb_a28d_92db55bb3f12row10_col4,#T_a0057490_de75_11eb_a28d_92db55bb3f12row10_col5,#T_a0057490_de75_11eb_a28d_92db55bb3f12row10_col6,#T_a0057490_de75_11eb_a28d_92db55bb3f12row10_col17{\n",
       "            font-size:  6pt;\n",
       "            background-color:  #ffffff;\n",
       "            color:  #000000;\n",
       "        }#T_a0057490_de75_11eb_a28d_92db55bb3f12row1_col5{\n",
       "            font-size:  6pt;\n",
       "            background-color:  #efefef;\n",
       "            color:  #000000;\n",
       "        }#T_a0057490_de75_11eb_a28d_92db55bb3f12row1_col6,#T_a0057490_de75_11eb_a28d_92db55bb3f12row1_col13{\n",
       "            font-size:  6pt;\n",
       "            background-color:  #7c7c7c;\n",
       "            color:  #000000;\n",
       "        }#T_a0057490_de75_11eb_a28d_92db55bb3f12row1_col7{\n",
       "            font-size:  6pt;\n",
       "            background-color:  #4a4a4a;\n",
       "            color:  #f1f1f1;\n",
       "        }#T_a0057490_de75_11eb_a28d_92db55bb3f12row1_col8,#T_a0057490_de75_11eb_a28d_92db55bb3f12row1_col9,#T_a0057490_de75_11eb_a28d_92db55bb3f12row1_col10,#T_a0057490_de75_11eb_a28d_92db55bb3f12row2_col5,#T_a0057490_de75_11eb_a28d_92db55bb3f12row2_col6,#T_a0057490_de75_11eb_a28d_92db55bb3f12row2_col7,#T_a0057490_de75_11eb_a28d_92db55bb3f12row2_col11,#T_a0057490_de75_11eb_a28d_92db55bb3f12row2_col12,#T_a0057490_de75_11eb_a28d_92db55bb3f12row2_col13,#T_a0057490_de75_11eb_a28d_92db55bb3f12row3_col4,#T_a0057490_de75_11eb_a28d_92db55bb3f12row3_col12,#T_a0057490_de75_11eb_a28d_92db55bb3f12row3_col13,#T_a0057490_de75_11eb_a28d_92db55bb3f12row4_col1,#T_a0057490_de75_11eb_a28d_92db55bb3f12row4_col2,#T_a0057490_de75_11eb_a28d_92db55bb3f12row4_col3,#T_a0057490_de75_11eb_a28d_92db55bb3f12row4_col12,#T_a0057490_de75_11eb_a28d_92db55bb3f12row4_col13,#T_a0057490_de75_11eb_a28d_92db55bb3f12row5_col12,#T_a0057490_de75_11eb_a28d_92db55bb3f12row6_col11,#T_a0057490_de75_11eb_a28d_92db55bb3f12row9_col11,#T_a0057490_de75_11eb_a28d_92db55bb3f12row10_col11,#T_a0057490_de75_11eb_a28d_92db55bb3f12row10_col12,#T_a0057490_de75_11eb_a28d_92db55bb3f12row10_col13,#T_a0057490_de75_11eb_a28d_92db55bb3f12row10_col14,#T_a0057490_de75_11eb_a28d_92db55bb3f12row10_col15,#T_a0057490_de75_11eb_a28d_92db55bb3f12row10_col16{\n",
       "            font-size:  6pt;\n",
       "            background-color:  #000000;\n",
       "            color:  #f1f1f1;\n",
       "        }#T_a0057490_de75_11eb_a28d_92db55bb3f12row1_col11{\n",
       "            font-size:  6pt;\n",
       "            background-color:  #606060;\n",
       "            color:  #f1f1f1;\n",
       "        }#T_a0057490_de75_11eb_a28d_92db55bb3f12row1_col12{\n",
       "            font-size:  6pt;\n",
       "            background-color:  #4d4d4d;\n",
       "            color:  #f1f1f1;\n",
       "        }#T_a0057490_de75_11eb_a28d_92db55bb3f12row1_col14{\n",
       "            font-size:  6pt;\n",
       "            background-color:  #bbbbbb;\n",
       "            color:  #000000;\n",
       "        }#T_a0057490_de75_11eb_a28d_92db55bb3f12row2_col3{\n",
       "            font-size:  6pt;\n",
       "            background-color:  #e4e4e4;\n",
       "            color:  #000000;\n",
       "        }#T_a0057490_de75_11eb_a28d_92db55bb3f12row2_col4,#T_a0057490_de75_11eb_a28d_92db55bb3f12row8_col6{\n",
       "            font-size:  6pt;\n",
       "            background-color:  #6b6b6b;\n",
       "            color:  #000000;\n",
       "        }#T_a0057490_de75_11eb_a28d_92db55bb3f12row2_col8,#T_a0057490_de75_11eb_a28d_92db55bb3f12row2_col14,#T_a0057490_de75_11eb_a28d_92db55bb3f12row3_col14{\n",
       "            font-size:  6pt;\n",
       "            background-color:  #171717;\n",
       "            color:  #f1f1f1;\n",
       "        }#T_a0057490_de75_11eb_a28d_92db55bb3f12row2_col9,#T_a0057490_de75_11eb_a28d_92db55bb3f12row3_col11{\n",
       "            font-size:  6pt;\n",
       "            background-color:  #4b4b4b;\n",
       "            color:  #f1f1f1;\n",
       "        }#T_a0057490_de75_11eb_a28d_92db55bb3f12row2_col10,#T_a0057490_de75_11eb_a28d_92db55bb3f12row7_col10,#T_a0057490_de75_11eb_a28d_92db55bb3f12row8_col8,#T_a0057490_de75_11eb_a28d_92db55bb3f12row8_col10,#T_a0057490_de75_11eb_a28d_92db55bb3f12row9_col8,#T_a0057490_de75_11eb_a28d_92db55bb3f12row9_col10{\n",
       "            font-size:  6pt;\n",
       "            background-color:  #010101;\n",
       "            color:  #f1f1f1;\n",
       "        }#T_a0057490_de75_11eb_a28d_92db55bb3f12row3_col1{\n",
       "            font-size:  6pt;\n",
       "            background-color:  #272727;\n",
       "            color:  #f1f1f1;\n",
       "        }#T_a0057490_de75_11eb_a28d_92db55bb3f12row3_col2{\n",
       "            font-size:  6pt;\n",
       "            background-color:  #0a0a0a;\n",
       "            color:  #f1f1f1;\n",
       "        }#T_a0057490_de75_11eb_a28d_92db55bb3f12row3_col3{\n",
       "            font-size:  6pt;\n",
       "            background-color:  #050505;\n",
       "            color:  #f1f1f1;\n",
       "        }#T_a0057490_de75_11eb_a28d_92db55bb3f12row3_col5{\n",
       "            font-size:  6pt;\n",
       "            background-color:  #333333;\n",
       "            color:  #f1f1f1;\n",
       "        }#T_a0057490_de75_11eb_a28d_92db55bb3f12row3_col6{\n",
       "            font-size:  6pt;\n",
       "            background-color:  #e6e6e6;\n",
       "            color:  #000000;\n",
       "        }#T_a0057490_de75_11eb_a28d_92db55bb3f12row3_col7,#T_a0057490_de75_11eb_a28d_92db55bb3f12row3_col10{\n",
       "            font-size:  6pt;\n",
       "            background-color:  #fafafa;\n",
       "            color:  #000000;\n",
       "        }#T_a0057490_de75_11eb_a28d_92db55bb3f12row3_col8{\n",
       "            font-size:  6pt;\n",
       "            background-color:  #fbfbfb;\n",
       "            color:  #000000;\n",
       "        }#T_a0057490_de75_11eb_a28d_92db55bb3f12row3_col9{\n",
       "            font-size:  6pt;\n",
       "            background-color:  #fdfdfd;\n",
       "            color:  #000000;\n",
       "        }#T_a0057490_de75_11eb_a28d_92db55bb3f12row4_col4{\n",
       "            font-size:  6pt;\n",
       "            background-color:  #1b1b1b;\n",
       "            color:  #f1f1f1;\n",
       "        }#T_a0057490_de75_11eb_a28d_92db55bb3f12row4_col5{\n",
       "            font-size:  6pt;\n",
       "            background-color:  #e0e0e0;\n",
       "            color:  #000000;\n",
       "        }#T_a0057490_de75_11eb_a28d_92db55bb3f12row4_col11{\n",
       "            font-size:  6pt;\n",
       "            background-color:  #4e4e4e;\n",
       "            color:  #f1f1f1;\n",
       "        }#T_a0057490_de75_11eb_a28d_92db55bb3f12row4_col14{\n",
       "            font-size:  6pt;\n",
       "            background-color:  #767676;\n",
       "            color:  #000000;\n",
       "        }#T_a0057490_de75_11eb_a28d_92db55bb3f12row5_col1{\n",
       "            font-size:  6pt;\n",
       "            background-color:  #fcfcfc;\n",
       "            color:  #000000;\n",
       "        }#T_a0057490_de75_11eb_a28d_92db55bb3f12row5_col2,#T_a0057490_de75_11eb_a28d_92db55bb3f12row5_col3{\n",
       "            font-size:  6pt;\n",
       "            background-color:  #f6f6f6;\n",
       "            color:  #000000;\n",
       "        }#T_a0057490_de75_11eb_a28d_92db55bb3f12row5_col4,#T_a0057490_de75_11eb_a28d_92db55bb3f12row7_col7{\n",
       "            font-size:  6pt;\n",
       "            background-color:  #f8f8f8;\n",
       "            color:  #000000;\n",
       "        }#T_a0057490_de75_11eb_a28d_92db55bb3f12row5_col10,#T_a0057490_de75_11eb_a28d_92db55bb3f12row10_col7{\n",
       "            font-size:  6pt;\n",
       "            background-color:  #e8e8e8;\n",
       "            color:  #000000;\n",
       "        }#T_a0057490_de75_11eb_a28d_92db55bb3f12row5_col11{\n",
       "            font-size:  6pt;\n",
       "            background-color:  #222222;\n",
       "            color:  #f1f1f1;\n",
       "        }#T_a0057490_de75_11eb_a28d_92db55bb3f12row5_col13,#T_a0057490_de75_11eb_a28d_92db55bb3f12row6_col12{\n",
       "            font-size:  6pt;\n",
       "            background-color:  #090909;\n",
       "            color:  #f1f1f1;\n",
       "        }#T_a0057490_de75_11eb_a28d_92db55bb3f12row5_col14{\n",
       "            font-size:  6pt;\n",
       "            background-color:  #d0d0d0;\n",
       "            color:  #000000;\n",
       "        }#T_a0057490_de75_11eb_a28d_92db55bb3f12row6_col10,#T_a0057490_de75_11eb_a28d_92db55bb3f12row7_col11,#T_a0057490_de75_11eb_a28d_92db55bb3f12row9_col6{\n",
       "            font-size:  6pt;\n",
       "            background-color:  #060606;\n",
       "            color:  #f1f1f1;\n",
       "        }#T_a0057490_de75_11eb_a28d_92db55bb3f12row6_col13{\n",
       "            font-size:  6pt;\n",
       "            background-color:  #979797;\n",
       "            color:  #000000;\n",
       "        }#T_a0057490_de75_11eb_a28d_92db55bb3f12row7_col8{\n",
       "            font-size:  6pt;\n",
       "            background-color:  #b6b6b6;\n",
       "            color:  #000000;\n",
       "        }#T_a0057490_de75_11eb_a28d_92db55bb3f12row7_col9{\n",
       "            font-size:  6pt;\n",
       "            background-color:  #252525;\n",
       "            color:  #f1f1f1;\n",
       "        }#T_a0057490_de75_11eb_a28d_92db55bb3f12row7_col12{\n",
       "            font-size:  6pt;\n",
       "            background-color:  #999999;\n",
       "            color:  #000000;\n",
       "        }#T_a0057490_de75_11eb_a28d_92db55bb3f12row8_col5{\n",
       "            font-size:  6pt;\n",
       "            background-color:  #f9f9f9;\n",
       "            color:  #000000;\n",
       "        }#T_a0057490_de75_11eb_a28d_92db55bb3f12row8_col7{\n",
       "            font-size:  6pt;\n",
       "            background-color:  #101010;\n",
       "            color:  #f1f1f1;\n",
       "        }#T_a0057490_de75_11eb_a28d_92db55bb3f12row8_col9,#T_a0057490_de75_11eb_a28d_92db55bb3f12row9_col9{\n",
       "            font-size:  6pt;\n",
       "            background-color:  #020202;\n",
       "            color:  #f1f1f1;\n",
       "        }#T_a0057490_de75_11eb_a28d_92db55bb3f12row8_col11{\n",
       "            font-size:  6pt;\n",
       "            background-color:  #545454;\n",
       "            color:  #f1f1f1;\n",
       "        }#T_a0057490_de75_11eb_a28d_92db55bb3f12row8_col12{\n",
       "            font-size:  6pt;\n",
       "            background-color:  #f1f1f1;\n",
       "            color:  #000000;\n",
       "        }#T_a0057490_de75_11eb_a28d_92db55bb3f12row9_col5{\n",
       "            font-size:  6pt;\n",
       "            background-color:  #f7f7f7;\n",
       "            color:  #000000;\n",
       "        }#T_a0057490_de75_11eb_a28d_92db55bb3f12row9_col7{\n",
       "            font-size:  6pt;\n",
       "            background-color:  #030303;\n",
       "            color:  #f1f1f1;\n",
       "        }#T_a0057490_de75_11eb_a28d_92db55bb3f12row9_col12{\n",
       "            font-size:  6pt;\n",
       "            background-color:  #181818;\n",
       "            color:  #f1f1f1;\n",
       "        }#T_a0057490_de75_11eb_a28d_92db55bb3f12row9_col13{\n",
       "            font-size:  6pt;\n",
       "            background-color:  #303030;\n",
       "            color:  #f1f1f1;\n",
       "        }#T_a0057490_de75_11eb_a28d_92db55bb3f12row9_col14{\n",
       "            font-size:  6pt;\n",
       "            background-color:  #a9a9a9;\n",
       "            color:  #000000;\n",
       "        }#T_a0057490_de75_11eb_a28d_92db55bb3f12row9_col15{\n",
       "            font-size:  6pt;\n",
       "            background-color:  #fefefe;\n",
       "            color:  #000000;\n",
       "        }#T_a0057490_de75_11eb_a28d_92db55bb3f12row10_col8,#T_a0057490_de75_11eb_a28d_92db55bb3f12row10_col9{\n",
       "            font-size:  6pt;\n",
       "            background-color:  #bababa;\n",
       "            color:  #000000;\n",
       "        }#T_a0057490_de75_11eb_a28d_92db55bb3f12row10_col10{\n",
       "            font-size:  6pt;\n",
       "            background-color:  #393939;\n",
       "            color:  #f1f1f1;\n",
       "        }</style><table id=\"T_a0057490_de75_11eb_a28d_92db55bb3f12\" ><thead>    <tr>        <th class=\"blank level0\" ></th>        <th class=\"col_heading level0 col0\" >0</th>        <th class=\"col_heading level0 col1\" >1</th>        <th class=\"col_heading level0 col2\" >2</th>        <th class=\"col_heading level0 col3\" >3</th>        <th class=\"col_heading level0 col4\" >4</th>        <th class=\"col_heading level0 col5\" >5</th>        <th class=\"col_heading level0 col6\" >6</th>        <th class=\"col_heading level0 col7\" >7</th>        <th class=\"col_heading level0 col8\" >8</th>        <th class=\"col_heading level0 col9\" >9</th>        <th class=\"col_heading level0 col10\" >10</th>        <th class=\"col_heading level0 col11\" >11</th>        <th class=\"col_heading level0 col12\" >12</th>        <th class=\"col_heading level0 col13\" >13</th>        <th class=\"col_heading level0 col14\" >14</th>        <th class=\"col_heading level0 col15\" >15</th>        <th class=\"col_heading level0 col16\" >16</th>        <th class=\"col_heading level0 col17\" >17</th>    </tr></thead><tbody>\n",
       "                <tr>\n",
       "                        <th id=\"T_a0057490_de75_11eb_a28d_92db55bb3f12level0_row0\" class=\"row_heading level0 row0\" >0</th>\n",
       "                        <td id=\"T_a0057490_de75_11eb_a28d_92db55bb3f12row0_col0\" class=\"data row0 col0\" >0</td>\n",
       "                        <td id=\"T_a0057490_de75_11eb_a28d_92db55bb3f12row0_col1\" class=\"data row0 col1\" >0</td>\n",
       "                        <td id=\"T_a0057490_de75_11eb_a28d_92db55bb3f12row0_col2\" class=\"data row0 col2\" >0</td>\n",
       "                        <td id=\"T_a0057490_de75_11eb_a28d_92db55bb3f12row0_col3\" class=\"data row0 col3\" >0</td>\n",
       "                        <td id=\"T_a0057490_de75_11eb_a28d_92db55bb3f12row0_col4\" class=\"data row0 col4\" >0</td>\n",
       "                        <td id=\"T_a0057490_de75_11eb_a28d_92db55bb3f12row0_col5\" class=\"data row0 col5\" >0</td>\n",
       "                        <td id=\"T_a0057490_de75_11eb_a28d_92db55bb3f12row0_col6\" class=\"data row0 col6\" >0</td>\n",
       "                        <td id=\"T_a0057490_de75_11eb_a28d_92db55bb3f12row0_col7\" class=\"data row0 col7\" >0</td>\n",
       "                        <td id=\"T_a0057490_de75_11eb_a28d_92db55bb3f12row0_col8\" class=\"data row0 col8\" >0</td>\n",
       "                        <td id=\"T_a0057490_de75_11eb_a28d_92db55bb3f12row0_col9\" class=\"data row0 col9\" >0</td>\n",
       "                        <td id=\"T_a0057490_de75_11eb_a28d_92db55bb3f12row0_col10\" class=\"data row0 col10\" >0</td>\n",
       "                        <td id=\"T_a0057490_de75_11eb_a28d_92db55bb3f12row0_col11\" class=\"data row0 col11\" >0</td>\n",
       "                        <td id=\"T_a0057490_de75_11eb_a28d_92db55bb3f12row0_col12\" class=\"data row0 col12\" >0</td>\n",
       "                        <td id=\"T_a0057490_de75_11eb_a28d_92db55bb3f12row0_col13\" class=\"data row0 col13\" >0</td>\n",
       "                        <td id=\"T_a0057490_de75_11eb_a28d_92db55bb3f12row0_col14\" class=\"data row0 col14\" >0</td>\n",
       "                        <td id=\"T_a0057490_de75_11eb_a28d_92db55bb3f12row0_col15\" class=\"data row0 col15\" >0</td>\n",
       "                        <td id=\"T_a0057490_de75_11eb_a28d_92db55bb3f12row0_col16\" class=\"data row0 col16\" >0</td>\n",
       "                        <td id=\"T_a0057490_de75_11eb_a28d_92db55bb3f12row0_col17\" class=\"data row0 col17\" >0</td>\n",
       "            </tr>\n",
       "            <tr>\n",
       "                        <th id=\"T_a0057490_de75_11eb_a28d_92db55bb3f12level0_row1\" class=\"row_heading level0 row1\" >1</th>\n",
       "                        <td id=\"T_a0057490_de75_11eb_a28d_92db55bb3f12row1_col0\" class=\"data row1 col0\" >0</td>\n",
       "                        <td id=\"T_a0057490_de75_11eb_a28d_92db55bb3f12row1_col1\" class=\"data row1 col1\" >0</td>\n",
       "                        <td id=\"T_a0057490_de75_11eb_a28d_92db55bb3f12row1_col2\" class=\"data row1 col2\" >0</td>\n",
       "                        <td id=\"T_a0057490_de75_11eb_a28d_92db55bb3f12row1_col3\" class=\"data row1 col3\" >0</td>\n",
       "                        <td id=\"T_a0057490_de75_11eb_a28d_92db55bb3f12row1_col4\" class=\"data row1 col4\" >0</td>\n",
       "                        <td id=\"T_a0057490_de75_11eb_a28d_92db55bb3f12row1_col5\" class=\"data row1 col5\" >29</td>\n",
       "                        <td id=\"T_a0057490_de75_11eb_a28d_92db55bb3f12row1_col6\" class=\"data row1 col6\" >150</td>\n",
       "                        <td id=\"T_a0057490_de75_11eb_a28d_92db55bb3f12row1_col7\" class=\"data row1 col7\" >195</td>\n",
       "                        <td id=\"T_a0057490_de75_11eb_a28d_92db55bb3f12row1_col8\" class=\"data row1 col8\" >254</td>\n",
       "                        <td id=\"T_a0057490_de75_11eb_a28d_92db55bb3f12row1_col9\" class=\"data row1 col9\" >255</td>\n",
       "                        <td id=\"T_a0057490_de75_11eb_a28d_92db55bb3f12row1_col10\" class=\"data row1 col10\" >254</td>\n",
       "                        <td id=\"T_a0057490_de75_11eb_a28d_92db55bb3f12row1_col11\" class=\"data row1 col11\" >176</td>\n",
       "                        <td id=\"T_a0057490_de75_11eb_a28d_92db55bb3f12row1_col12\" class=\"data row1 col12\" >193</td>\n",
       "                        <td id=\"T_a0057490_de75_11eb_a28d_92db55bb3f12row1_col13\" class=\"data row1 col13\" >150</td>\n",
       "                        <td id=\"T_a0057490_de75_11eb_a28d_92db55bb3f12row1_col14\" class=\"data row1 col14\" >96</td>\n",
       "                        <td id=\"T_a0057490_de75_11eb_a28d_92db55bb3f12row1_col15\" class=\"data row1 col15\" >0</td>\n",
       "                        <td id=\"T_a0057490_de75_11eb_a28d_92db55bb3f12row1_col16\" class=\"data row1 col16\" >0</td>\n",
       "                        <td id=\"T_a0057490_de75_11eb_a28d_92db55bb3f12row1_col17\" class=\"data row1 col17\" >0</td>\n",
       "            </tr>\n",
       "            <tr>\n",
       "                        <th id=\"T_a0057490_de75_11eb_a28d_92db55bb3f12level0_row2\" class=\"row_heading level0 row2\" >2</th>\n",
       "                        <td id=\"T_a0057490_de75_11eb_a28d_92db55bb3f12row2_col0\" class=\"data row2 col0\" >0</td>\n",
       "                        <td id=\"T_a0057490_de75_11eb_a28d_92db55bb3f12row2_col1\" class=\"data row2 col1\" >0</td>\n",
       "                        <td id=\"T_a0057490_de75_11eb_a28d_92db55bb3f12row2_col2\" class=\"data row2 col2\" >0</td>\n",
       "                        <td id=\"T_a0057490_de75_11eb_a28d_92db55bb3f12row2_col3\" class=\"data row2 col3\" >48</td>\n",
       "                        <td id=\"T_a0057490_de75_11eb_a28d_92db55bb3f12row2_col4\" class=\"data row2 col4\" >166</td>\n",
       "                        <td id=\"T_a0057490_de75_11eb_a28d_92db55bb3f12row2_col5\" class=\"data row2 col5\" >224</td>\n",
       "                        <td id=\"T_a0057490_de75_11eb_a28d_92db55bb3f12row2_col6\" class=\"data row2 col6\" >253</td>\n",
       "                        <td id=\"T_a0057490_de75_11eb_a28d_92db55bb3f12row2_col7\" class=\"data row2 col7\" >253</td>\n",
       "                        <td id=\"T_a0057490_de75_11eb_a28d_92db55bb3f12row2_col8\" class=\"data row2 col8\" >234</td>\n",
       "                        <td id=\"T_a0057490_de75_11eb_a28d_92db55bb3f12row2_col9\" class=\"data row2 col9\" >196</td>\n",
       "                        <td id=\"T_a0057490_de75_11eb_a28d_92db55bb3f12row2_col10\" class=\"data row2 col10\" >253</td>\n",
       "                        <td id=\"T_a0057490_de75_11eb_a28d_92db55bb3f12row2_col11\" class=\"data row2 col11\" >253</td>\n",
       "                        <td id=\"T_a0057490_de75_11eb_a28d_92db55bb3f12row2_col12\" class=\"data row2 col12\" >253</td>\n",
       "                        <td id=\"T_a0057490_de75_11eb_a28d_92db55bb3f12row2_col13\" class=\"data row2 col13\" >253</td>\n",
       "                        <td id=\"T_a0057490_de75_11eb_a28d_92db55bb3f12row2_col14\" class=\"data row2 col14\" >233</td>\n",
       "                        <td id=\"T_a0057490_de75_11eb_a28d_92db55bb3f12row2_col15\" class=\"data row2 col15\" >0</td>\n",
       "                        <td id=\"T_a0057490_de75_11eb_a28d_92db55bb3f12row2_col16\" class=\"data row2 col16\" >0</td>\n",
       "                        <td id=\"T_a0057490_de75_11eb_a28d_92db55bb3f12row2_col17\" class=\"data row2 col17\" >0</td>\n",
       "            </tr>\n",
       "            <tr>\n",
       "                        <th id=\"T_a0057490_de75_11eb_a28d_92db55bb3f12level0_row3\" class=\"row_heading level0 row3\" >3</th>\n",
       "                        <td id=\"T_a0057490_de75_11eb_a28d_92db55bb3f12row3_col0\" class=\"data row3 col0\" >0</td>\n",
       "                        <td id=\"T_a0057490_de75_11eb_a28d_92db55bb3f12row3_col1\" class=\"data row3 col1\" >93</td>\n",
       "                        <td id=\"T_a0057490_de75_11eb_a28d_92db55bb3f12row3_col2\" class=\"data row3 col2\" >244</td>\n",
       "                        <td id=\"T_a0057490_de75_11eb_a28d_92db55bb3f12row3_col3\" class=\"data row3 col3\" >249</td>\n",
       "                        <td id=\"T_a0057490_de75_11eb_a28d_92db55bb3f12row3_col4\" class=\"data row3 col4\" >253</td>\n",
       "                        <td id=\"T_a0057490_de75_11eb_a28d_92db55bb3f12row3_col5\" class=\"data row3 col5\" >187</td>\n",
       "                        <td id=\"T_a0057490_de75_11eb_a28d_92db55bb3f12row3_col6\" class=\"data row3 col6\" >46</td>\n",
       "                        <td id=\"T_a0057490_de75_11eb_a28d_92db55bb3f12row3_col7\" class=\"data row3 col7\" >10</td>\n",
       "                        <td id=\"T_a0057490_de75_11eb_a28d_92db55bb3f12row3_col8\" class=\"data row3 col8\" >8</td>\n",
       "                        <td id=\"T_a0057490_de75_11eb_a28d_92db55bb3f12row3_col9\" class=\"data row3 col9\" >4</td>\n",
       "                        <td id=\"T_a0057490_de75_11eb_a28d_92db55bb3f12row3_col10\" class=\"data row3 col10\" >10</td>\n",
       "                        <td id=\"T_a0057490_de75_11eb_a28d_92db55bb3f12row3_col11\" class=\"data row3 col11\" >194</td>\n",
       "                        <td id=\"T_a0057490_de75_11eb_a28d_92db55bb3f12row3_col12\" class=\"data row3 col12\" >253</td>\n",
       "                        <td id=\"T_a0057490_de75_11eb_a28d_92db55bb3f12row3_col13\" class=\"data row3 col13\" >253</td>\n",
       "                        <td id=\"T_a0057490_de75_11eb_a28d_92db55bb3f12row3_col14\" class=\"data row3 col14\" >233</td>\n",
       "                        <td id=\"T_a0057490_de75_11eb_a28d_92db55bb3f12row3_col15\" class=\"data row3 col15\" >0</td>\n",
       "                        <td id=\"T_a0057490_de75_11eb_a28d_92db55bb3f12row3_col16\" class=\"data row3 col16\" >0</td>\n",
       "                        <td id=\"T_a0057490_de75_11eb_a28d_92db55bb3f12row3_col17\" class=\"data row3 col17\" >0</td>\n",
       "            </tr>\n",
       "            <tr>\n",
       "                        <th id=\"T_a0057490_de75_11eb_a28d_92db55bb3f12level0_row4\" class=\"row_heading level0 row4\" >4</th>\n",
       "                        <td id=\"T_a0057490_de75_11eb_a28d_92db55bb3f12row4_col0\" class=\"data row4 col0\" >0</td>\n",
       "                        <td id=\"T_a0057490_de75_11eb_a28d_92db55bb3f12row4_col1\" class=\"data row4 col1\" >107</td>\n",
       "                        <td id=\"T_a0057490_de75_11eb_a28d_92db55bb3f12row4_col2\" class=\"data row4 col2\" >253</td>\n",
       "                        <td id=\"T_a0057490_de75_11eb_a28d_92db55bb3f12row4_col3\" class=\"data row4 col3\" >253</td>\n",
       "                        <td id=\"T_a0057490_de75_11eb_a28d_92db55bb3f12row4_col4\" class=\"data row4 col4\" >230</td>\n",
       "                        <td id=\"T_a0057490_de75_11eb_a28d_92db55bb3f12row4_col5\" class=\"data row4 col5\" >48</td>\n",
       "                        <td id=\"T_a0057490_de75_11eb_a28d_92db55bb3f12row4_col6\" class=\"data row4 col6\" >0</td>\n",
       "                        <td id=\"T_a0057490_de75_11eb_a28d_92db55bb3f12row4_col7\" class=\"data row4 col7\" >0</td>\n",
       "                        <td id=\"T_a0057490_de75_11eb_a28d_92db55bb3f12row4_col8\" class=\"data row4 col8\" >0</td>\n",
       "                        <td id=\"T_a0057490_de75_11eb_a28d_92db55bb3f12row4_col9\" class=\"data row4 col9\" >0</td>\n",
       "                        <td id=\"T_a0057490_de75_11eb_a28d_92db55bb3f12row4_col10\" class=\"data row4 col10\" >0</td>\n",
       "                        <td id=\"T_a0057490_de75_11eb_a28d_92db55bb3f12row4_col11\" class=\"data row4 col11\" >192</td>\n",
       "                        <td id=\"T_a0057490_de75_11eb_a28d_92db55bb3f12row4_col12\" class=\"data row4 col12\" >253</td>\n",
       "                        <td id=\"T_a0057490_de75_11eb_a28d_92db55bb3f12row4_col13\" class=\"data row4 col13\" >253</td>\n",
       "                        <td id=\"T_a0057490_de75_11eb_a28d_92db55bb3f12row4_col14\" class=\"data row4 col14\" >156</td>\n",
       "                        <td id=\"T_a0057490_de75_11eb_a28d_92db55bb3f12row4_col15\" class=\"data row4 col15\" >0</td>\n",
       "                        <td id=\"T_a0057490_de75_11eb_a28d_92db55bb3f12row4_col16\" class=\"data row4 col16\" >0</td>\n",
       "                        <td id=\"T_a0057490_de75_11eb_a28d_92db55bb3f12row4_col17\" class=\"data row4 col17\" >0</td>\n",
       "            </tr>\n",
       "            <tr>\n",
       "                        <th id=\"T_a0057490_de75_11eb_a28d_92db55bb3f12level0_row5\" class=\"row_heading level0 row5\" >5</th>\n",
       "                        <td id=\"T_a0057490_de75_11eb_a28d_92db55bb3f12row5_col0\" class=\"data row5 col0\" >0</td>\n",
       "                        <td id=\"T_a0057490_de75_11eb_a28d_92db55bb3f12row5_col1\" class=\"data row5 col1\" >3</td>\n",
       "                        <td id=\"T_a0057490_de75_11eb_a28d_92db55bb3f12row5_col2\" class=\"data row5 col2\" >20</td>\n",
       "                        <td id=\"T_a0057490_de75_11eb_a28d_92db55bb3f12row5_col3\" class=\"data row5 col3\" >20</td>\n",
       "                        <td id=\"T_a0057490_de75_11eb_a28d_92db55bb3f12row5_col4\" class=\"data row5 col4\" >15</td>\n",
       "                        <td id=\"T_a0057490_de75_11eb_a28d_92db55bb3f12row5_col5\" class=\"data row5 col5\" >0</td>\n",
       "                        <td id=\"T_a0057490_de75_11eb_a28d_92db55bb3f12row5_col6\" class=\"data row5 col6\" >0</td>\n",
       "                        <td id=\"T_a0057490_de75_11eb_a28d_92db55bb3f12row5_col7\" class=\"data row5 col7\" >0</td>\n",
       "                        <td id=\"T_a0057490_de75_11eb_a28d_92db55bb3f12row5_col8\" class=\"data row5 col8\" >0</td>\n",
       "                        <td id=\"T_a0057490_de75_11eb_a28d_92db55bb3f12row5_col9\" class=\"data row5 col9\" >0</td>\n",
       "                        <td id=\"T_a0057490_de75_11eb_a28d_92db55bb3f12row5_col10\" class=\"data row5 col10\" >43</td>\n",
       "                        <td id=\"T_a0057490_de75_11eb_a28d_92db55bb3f12row5_col11\" class=\"data row5 col11\" >224</td>\n",
       "                        <td id=\"T_a0057490_de75_11eb_a28d_92db55bb3f12row5_col12\" class=\"data row5 col12\" >253</td>\n",
       "                        <td id=\"T_a0057490_de75_11eb_a28d_92db55bb3f12row5_col13\" class=\"data row5 col13\" >245</td>\n",
       "                        <td id=\"T_a0057490_de75_11eb_a28d_92db55bb3f12row5_col14\" class=\"data row5 col14\" >74</td>\n",
       "                        <td id=\"T_a0057490_de75_11eb_a28d_92db55bb3f12row5_col15\" class=\"data row5 col15\" >0</td>\n",
       "                        <td id=\"T_a0057490_de75_11eb_a28d_92db55bb3f12row5_col16\" class=\"data row5 col16\" >0</td>\n",
       "                        <td id=\"T_a0057490_de75_11eb_a28d_92db55bb3f12row5_col17\" class=\"data row5 col17\" >0</td>\n",
       "            </tr>\n",
       "            <tr>\n",
       "                        <th id=\"T_a0057490_de75_11eb_a28d_92db55bb3f12level0_row6\" class=\"row_heading level0 row6\" >6</th>\n",
       "                        <td id=\"T_a0057490_de75_11eb_a28d_92db55bb3f12row6_col0\" class=\"data row6 col0\" >0</td>\n",
       "                        <td id=\"T_a0057490_de75_11eb_a28d_92db55bb3f12row6_col1\" class=\"data row6 col1\" >0</td>\n",
       "                        <td id=\"T_a0057490_de75_11eb_a28d_92db55bb3f12row6_col2\" class=\"data row6 col2\" >0</td>\n",
       "                        <td id=\"T_a0057490_de75_11eb_a28d_92db55bb3f12row6_col3\" class=\"data row6 col3\" >0</td>\n",
       "                        <td id=\"T_a0057490_de75_11eb_a28d_92db55bb3f12row6_col4\" class=\"data row6 col4\" >0</td>\n",
       "                        <td id=\"T_a0057490_de75_11eb_a28d_92db55bb3f12row6_col5\" class=\"data row6 col5\" >0</td>\n",
       "                        <td id=\"T_a0057490_de75_11eb_a28d_92db55bb3f12row6_col6\" class=\"data row6 col6\" >0</td>\n",
       "                        <td id=\"T_a0057490_de75_11eb_a28d_92db55bb3f12row6_col7\" class=\"data row6 col7\" >0</td>\n",
       "                        <td id=\"T_a0057490_de75_11eb_a28d_92db55bb3f12row6_col8\" class=\"data row6 col8\" >0</td>\n",
       "                        <td id=\"T_a0057490_de75_11eb_a28d_92db55bb3f12row6_col9\" class=\"data row6 col9\" >0</td>\n",
       "                        <td id=\"T_a0057490_de75_11eb_a28d_92db55bb3f12row6_col10\" class=\"data row6 col10\" >249</td>\n",
       "                        <td id=\"T_a0057490_de75_11eb_a28d_92db55bb3f12row6_col11\" class=\"data row6 col11\" >253</td>\n",
       "                        <td id=\"T_a0057490_de75_11eb_a28d_92db55bb3f12row6_col12\" class=\"data row6 col12\" >245</td>\n",
       "                        <td id=\"T_a0057490_de75_11eb_a28d_92db55bb3f12row6_col13\" class=\"data row6 col13\" >126</td>\n",
       "                        <td id=\"T_a0057490_de75_11eb_a28d_92db55bb3f12row6_col14\" class=\"data row6 col14\" >0</td>\n",
       "                        <td id=\"T_a0057490_de75_11eb_a28d_92db55bb3f12row6_col15\" class=\"data row6 col15\" >0</td>\n",
       "                        <td id=\"T_a0057490_de75_11eb_a28d_92db55bb3f12row6_col16\" class=\"data row6 col16\" >0</td>\n",
       "                        <td id=\"T_a0057490_de75_11eb_a28d_92db55bb3f12row6_col17\" class=\"data row6 col17\" >0</td>\n",
       "            </tr>\n",
       "            <tr>\n",
       "                        <th id=\"T_a0057490_de75_11eb_a28d_92db55bb3f12level0_row7\" class=\"row_heading level0 row7\" >7</th>\n",
       "                        <td id=\"T_a0057490_de75_11eb_a28d_92db55bb3f12row7_col0\" class=\"data row7 col0\" >0</td>\n",
       "                        <td id=\"T_a0057490_de75_11eb_a28d_92db55bb3f12row7_col1\" class=\"data row7 col1\" >0</td>\n",
       "                        <td id=\"T_a0057490_de75_11eb_a28d_92db55bb3f12row7_col2\" class=\"data row7 col2\" >0</td>\n",
       "                        <td id=\"T_a0057490_de75_11eb_a28d_92db55bb3f12row7_col3\" class=\"data row7 col3\" >0</td>\n",
       "                        <td id=\"T_a0057490_de75_11eb_a28d_92db55bb3f12row7_col4\" class=\"data row7 col4\" >0</td>\n",
       "                        <td id=\"T_a0057490_de75_11eb_a28d_92db55bb3f12row7_col5\" class=\"data row7 col5\" >0</td>\n",
       "                        <td id=\"T_a0057490_de75_11eb_a28d_92db55bb3f12row7_col6\" class=\"data row7 col6\" >0</td>\n",
       "                        <td id=\"T_a0057490_de75_11eb_a28d_92db55bb3f12row7_col7\" class=\"data row7 col7\" >14</td>\n",
       "                        <td id=\"T_a0057490_de75_11eb_a28d_92db55bb3f12row7_col8\" class=\"data row7 col8\" >101</td>\n",
       "                        <td id=\"T_a0057490_de75_11eb_a28d_92db55bb3f12row7_col9\" class=\"data row7 col9\" >223</td>\n",
       "                        <td id=\"T_a0057490_de75_11eb_a28d_92db55bb3f12row7_col10\" class=\"data row7 col10\" >253</td>\n",
       "                        <td id=\"T_a0057490_de75_11eb_a28d_92db55bb3f12row7_col11\" class=\"data row7 col11\" >248</td>\n",
       "                        <td id=\"T_a0057490_de75_11eb_a28d_92db55bb3f12row7_col12\" class=\"data row7 col12\" >124</td>\n",
       "                        <td id=\"T_a0057490_de75_11eb_a28d_92db55bb3f12row7_col13\" class=\"data row7 col13\" >0</td>\n",
       "                        <td id=\"T_a0057490_de75_11eb_a28d_92db55bb3f12row7_col14\" class=\"data row7 col14\" >0</td>\n",
       "                        <td id=\"T_a0057490_de75_11eb_a28d_92db55bb3f12row7_col15\" class=\"data row7 col15\" >0</td>\n",
       "                        <td id=\"T_a0057490_de75_11eb_a28d_92db55bb3f12row7_col16\" class=\"data row7 col16\" >0</td>\n",
       "                        <td id=\"T_a0057490_de75_11eb_a28d_92db55bb3f12row7_col17\" class=\"data row7 col17\" >0</td>\n",
       "            </tr>\n",
       "            <tr>\n",
       "                        <th id=\"T_a0057490_de75_11eb_a28d_92db55bb3f12level0_row8\" class=\"row_heading level0 row8\" >8</th>\n",
       "                        <td id=\"T_a0057490_de75_11eb_a28d_92db55bb3f12row8_col0\" class=\"data row8 col0\" >0</td>\n",
       "                        <td id=\"T_a0057490_de75_11eb_a28d_92db55bb3f12row8_col1\" class=\"data row8 col1\" >0</td>\n",
       "                        <td id=\"T_a0057490_de75_11eb_a28d_92db55bb3f12row8_col2\" class=\"data row8 col2\" >0</td>\n",
       "                        <td id=\"T_a0057490_de75_11eb_a28d_92db55bb3f12row8_col3\" class=\"data row8 col3\" >0</td>\n",
       "                        <td id=\"T_a0057490_de75_11eb_a28d_92db55bb3f12row8_col4\" class=\"data row8 col4\" >0</td>\n",
       "                        <td id=\"T_a0057490_de75_11eb_a28d_92db55bb3f12row8_col5\" class=\"data row8 col5\" >11</td>\n",
       "                        <td id=\"T_a0057490_de75_11eb_a28d_92db55bb3f12row8_col6\" class=\"data row8 col6\" >166</td>\n",
       "                        <td id=\"T_a0057490_de75_11eb_a28d_92db55bb3f12row8_col7\" class=\"data row8 col7\" >239</td>\n",
       "                        <td id=\"T_a0057490_de75_11eb_a28d_92db55bb3f12row8_col8\" class=\"data row8 col8\" >253</td>\n",
       "                        <td id=\"T_a0057490_de75_11eb_a28d_92db55bb3f12row8_col9\" class=\"data row8 col9\" >253</td>\n",
       "                        <td id=\"T_a0057490_de75_11eb_a28d_92db55bb3f12row8_col10\" class=\"data row8 col10\" >253</td>\n",
       "                        <td id=\"T_a0057490_de75_11eb_a28d_92db55bb3f12row8_col11\" class=\"data row8 col11\" >187</td>\n",
       "                        <td id=\"T_a0057490_de75_11eb_a28d_92db55bb3f12row8_col12\" class=\"data row8 col12\" >30</td>\n",
       "                        <td id=\"T_a0057490_de75_11eb_a28d_92db55bb3f12row8_col13\" class=\"data row8 col13\" >0</td>\n",
       "                        <td id=\"T_a0057490_de75_11eb_a28d_92db55bb3f12row8_col14\" class=\"data row8 col14\" >0</td>\n",
       "                        <td id=\"T_a0057490_de75_11eb_a28d_92db55bb3f12row8_col15\" class=\"data row8 col15\" >0</td>\n",
       "                        <td id=\"T_a0057490_de75_11eb_a28d_92db55bb3f12row8_col16\" class=\"data row8 col16\" >0</td>\n",
       "                        <td id=\"T_a0057490_de75_11eb_a28d_92db55bb3f12row8_col17\" class=\"data row8 col17\" >0</td>\n",
       "            </tr>\n",
       "            <tr>\n",
       "                        <th id=\"T_a0057490_de75_11eb_a28d_92db55bb3f12level0_row9\" class=\"row_heading level0 row9\" >9</th>\n",
       "                        <td id=\"T_a0057490_de75_11eb_a28d_92db55bb3f12row9_col0\" class=\"data row9 col0\" >0</td>\n",
       "                        <td id=\"T_a0057490_de75_11eb_a28d_92db55bb3f12row9_col1\" class=\"data row9 col1\" >0</td>\n",
       "                        <td id=\"T_a0057490_de75_11eb_a28d_92db55bb3f12row9_col2\" class=\"data row9 col2\" >0</td>\n",
       "                        <td id=\"T_a0057490_de75_11eb_a28d_92db55bb3f12row9_col3\" class=\"data row9 col3\" >0</td>\n",
       "                        <td id=\"T_a0057490_de75_11eb_a28d_92db55bb3f12row9_col4\" class=\"data row9 col4\" >0</td>\n",
       "                        <td id=\"T_a0057490_de75_11eb_a28d_92db55bb3f12row9_col5\" class=\"data row9 col5\" >16</td>\n",
       "                        <td id=\"T_a0057490_de75_11eb_a28d_92db55bb3f12row9_col6\" class=\"data row9 col6\" >248</td>\n",
       "                        <td id=\"T_a0057490_de75_11eb_a28d_92db55bb3f12row9_col7\" class=\"data row9 col7\" >250</td>\n",
       "                        <td id=\"T_a0057490_de75_11eb_a28d_92db55bb3f12row9_col8\" class=\"data row9 col8\" >253</td>\n",
       "                        <td id=\"T_a0057490_de75_11eb_a28d_92db55bb3f12row9_col9\" class=\"data row9 col9\" >253</td>\n",
       "                        <td id=\"T_a0057490_de75_11eb_a28d_92db55bb3f12row9_col10\" class=\"data row9 col10\" >253</td>\n",
       "                        <td id=\"T_a0057490_de75_11eb_a28d_92db55bb3f12row9_col11\" class=\"data row9 col11\" >253</td>\n",
       "                        <td id=\"T_a0057490_de75_11eb_a28d_92db55bb3f12row9_col12\" class=\"data row9 col12\" >232</td>\n",
       "                        <td id=\"T_a0057490_de75_11eb_a28d_92db55bb3f12row9_col13\" class=\"data row9 col13\" >213</td>\n",
       "                        <td id=\"T_a0057490_de75_11eb_a28d_92db55bb3f12row9_col14\" class=\"data row9 col14\" >111</td>\n",
       "                        <td id=\"T_a0057490_de75_11eb_a28d_92db55bb3f12row9_col15\" class=\"data row9 col15\" >2</td>\n",
       "                        <td id=\"T_a0057490_de75_11eb_a28d_92db55bb3f12row9_col16\" class=\"data row9 col16\" >0</td>\n",
       "                        <td id=\"T_a0057490_de75_11eb_a28d_92db55bb3f12row9_col17\" class=\"data row9 col17\" >0</td>\n",
       "            </tr>\n",
       "            <tr>\n",
       "                        <th id=\"T_a0057490_de75_11eb_a28d_92db55bb3f12level0_row10\" class=\"row_heading level0 row10\" >10</th>\n",
       "                        <td id=\"T_a0057490_de75_11eb_a28d_92db55bb3f12row10_col0\" class=\"data row10 col0\" >0</td>\n",
       "                        <td id=\"T_a0057490_de75_11eb_a28d_92db55bb3f12row10_col1\" class=\"data row10 col1\" >0</td>\n",
       "                        <td id=\"T_a0057490_de75_11eb_a28d_92db55bb3f12row10_col2\" class=\"data row10 col2\" >0</td>\n",
       "                        <td id=\"T_a0057490_de75_11eb_a28d_92db55bb3f12row10_col3\" class=\"data row10 col3\" >0</td>\n",
       "                        <td id=\"T_a0057490_de75_11eb_a28d_92db55bb3f12row10_col4\" class=\"data row10 col4\" >0</td>\n",
       "                        <td id=\"T_a0057490_de75_11eb_a28d_92db55bb3f12row10_col5\" class=\"data row10 col5\" >0</td>\n",
       "                        <td id=\"T_a0057490_de75_11eb_a28d_92db55bb3f12row10_col6\" class=\"data row10 col6\" >0</td>\n",
       "                        <td id=\"T_a0057490_de75_11eb_a28d_92db55bb3f12row10_col7\" class=\"data row10 col7\" >43</td>\n",
       "                        <td id=\"T_a0057490_de75_11eb_a28d_92db55bb3f12row10_col8\" class=\"data row10 col8\" >98</td>\n",
       "                        <td id=\"T_a0057490_de75_11eb_a28d_92db55bb3f12row10_col9\" class=\"data row10 col9\" >98</td>\n",
       "                        <td id=\"T_a0057490_de75_11eb_a28d_92db55bb3f12row10_col10\" class=\"data row10 col10\" >208</td>\n",
       "                        <td id=\"T_a0057490_de75_11eb_a28d_92db55bb3f12row10_col11\" class=\"data row10 col11\" >253</td>\n",
       "                        <td id=\"T_a0057490_de75_11eb_a28d_92db55bb3f12row10_col12\" class=\"data row10 col12\" >253</td>\n",
       "                        <td id=\"T_a0057490_de75_11eb_a28d_92db55bb3f12row10_col13\" class=\"data row10 col13\" >253</td>\n",
       "                        <td id=\"T_a0057490_de75_11eb_a28d_92db55bb3f12row10_col14\" class=\"data row10 col14\" >253</td>\n",
       "                        <td id=\"T_a0057490_de75_11eb_a28d_92db55bb3f12row10_col15\" class=\"data row10 col15\" >187</td>\n",
       "                        <td id=\"T_a0057490_de75_11eb_a28d_92db55bb3f12row10_col16\" class=\"data row10 col16\" >22</td>\n",
       "                        <td id=\"T_a0057490_de75_11eb_a28d_92db55bb3f12row10_col17\" class=\"data row10 col17\" >0</td>\n",
       "            </tr>\n",
       "    </tbody></table>"
      ],
      "text/plain": [
       "<pandas.io.formats.style.Styler at 0x7fa345483c40>"
      ]
     },
     "execution_count": 12,
     "metadata": {},
     "output_type": "execute_result"
    }
   ],
   "source": [
    "im3_t = tensor(im3)\n",
    "df = pd.DataFrame(im3_t[4:15,4:22])\n",
    "df.style.set_properties(**{'font-size':'6pt'}).background_gradient('Greys') #Using panda's framework"
   ]
  },
  {
   "cell_type": "markdown",
   "metadata": {
    "id": "3Q-zZ5wnF3e6"
   },
   "source": [
    "## First Try: Pixel Similarity"
   ]
  },
  {
   "cell_type": "code",
   "execution_count": 13,
   "metadata": {
    "colab": {
     "base_uri": "https://localhost:8080/"
    },
    "id": "Lr0MJTYGF3e6",
    "outputId": "e7fa6e62-7fff-4dbe-a45c-c077c3b8417a"
   },
   "outputs": [
    {
     "data": {
      "text/plain": [
       "(6131, 6265)"
      ]
     },
     "execution_count": 13,
     "metadata": {},
     "output_type": "execute_result"
    }
   ],
   "source": [
    "#create list of all images in the form of tensors\n",
    "seven_tensors = [tensor(Image.open(o)) for o in sevens]\n",
    "three_tensors = [tensor(Image.open(o)) for o in threes]\n",
    "len(three_tensors), len(seven_tensors)"
   ]
  },
  {
   "cell_type": "code",
   "execution_count": 33,
   "metadata": {
    "colab": {
     "base_uri": "https://localhost:8080/",
     "height": 85
    },
    "id": "_qJzMNjPF3e6",
    "outputId": "c711456a-6e2b-4374-8f5c-ef82d0d3908e"
   },
   "outputs": [
    {
     "data": {
      "image/png": "[encoded data removed]",
      "text/plain": [
       "<Figure size 72x72 with 1 Axes>"
      ]
     },
     "metadata": {
      "needs_background": "light"
     },
     "output_type": "display_data"
    }
   ],
   "source": [
    "show_image(three_tensors[1]);"
   ]
  },
  {
   "cell_type": "code",
   "execution_count": null,
   "metadata": {
    "colab": {
     "base_uri": "https://localhost:8080/"
    },
    "id": "wrF5SIM-JEdf",
    "outputId": "8737bf9b-f9f5-4397-8a21-334344a09b42"
   },
   "outputs": [
    {
     "data": {
      "text/plain": [
       "list"
      ]
     },
     "execution_count": 16,
     "metadata": {
      "tags": []
     },
     "output_type": "execute_result"
    }
   ],
   "source": [
    "#Right now our tensors are lists. We must fix this.\n",
    "type(three_tensors)"
   ]
  },
  {
   "cell_type": "code",
   "execution_count": 14,
   "metadata": {
    "colab": {
     "base_uri": "https://localhost:8080/"
    },
    "id": "vzsO_h9xF3e6",
    "outputId": "8cd6097d-2d21-415e-c91f-ede5fdfc35ca"
   },
   "outputs": [
    {
     "data": {
      "text/plain": [
       "torch.Size([6131, 28, 28])"
      ]
     },
     "execution_count": 14,
     "metadata": {},
     "output_type": "execute_result"
    }
   ],
   "source": [
    "stacked_sevens = torch.stack(seven_tensors).float()/255\n",
    "stacked_threes = torch.stack(three_tensors).float()/255\n",
    "stacked_threes.shape"
   ]
  },
  {
   "cell_type": "code",
   "execution_count": 16,
   "metadata": {
    "colab": {
     "base_uri": "https://localhost:8080/"
    },
    "id": "7rpJI4yQF3e7",
    "outputId": "bdf01c02-b004-4ba2-fbee-5a169355a47b"
   },
   "outputs": [
    {
     "data": {
      "text/plain": [
       "3"
      ]
     },
     "execution_count": 16,
     "metadata": {},
     "output_type": "execute_result"
    }
   ],
   "source": [
    "len(stacked_threes.shape) #Returns rank. Rank means it has n dementions"
   ]
  },
  {
   "cell_type": "code",
   "execution_count": 17,
   "metadata": {
    "colab": {
     "base_uri": "https://localhost:8080/"
    },
    "id": "gmo62oraF3e7",
    "outputId": "95455f8a-ad3d-40ac-8260-940692b1efc5"
   },
   "outputs": [
    {
     "data": {
      "text/plain": [
       "3"
      ]
     },
     "execution_count": 17,
     "metadata": {},
     "output_type": "execute_result"
    }
   ],
   "source": [
    "stacked_threes.ndim"
   ]
  },
  {
   "cell_type": "code",
   "execution_count": 15,
   "metadata": {
    "colab": {
     "base_uri": "https://localhost:8080/"
    },
    "id": "wZKyf7w4J9KA",
    "outputId": "6b3932ed-8a28-4fc6-bdc7-89fd8ffd9831"
   },
   "outputs": [
    {
     "data": {
      "text/plain": [
       "tensor(0.1415)"
      ]
     },
     "execution_count": 15,
     "metadata": {},
     "output_type": "execute_result"
    }
   ],
   "source": [
    "mean3 = stacked_threes.mean() #notice taking mean gives a number\n",
    "mean3"
   ]
  },
  {
   "cell_type": "code",
   "execution_count": 16,
   "metadata": {
    "colab": {
     "base_uri": "https://localhost:8080/",
     "height": 85
    },
    "id": "rNHj8K3MF3e7",
    "outputId": "4214b47f-fd63-4da6-bc1b-8ecdb0525429"
   },
   "outputs": [
    {
     "data": {
      "image/png": "[encoded data removed]",
      "text/plain": [
       "<Figure size 72x72 with 1 Axes>"
      ]
     },
     "metadata": {
      "needs_background": "light"
     },
     "output_type": "display_data"
    }
   ],
   "source": [
    "mean3 = stacked_threes.mean(0) #the 0 represents the axis we are doing the mean across (In this case across the first axis 6131)\n",
    "show_image(mean3);"
   ]
  },
  {
   "cell_type": "code",
   "execution_count": 17,
   "metadata": {
    "colab": {
     "base_uri": "https://localhost:8080/",
     "height": 85
    },
    "id": "ZdakJASaF3e7",
    "outputId": "71b31451-3d06-4bfa-dd27-944e8a93ec9a"
   },
   "outputs": [
    {
     "data": {
      "image/png": "[encoded data removed]",
      "text/plain": [
       "<Figure size 72x72 with 1 Axes>"
      ]
     },
     "metadata": {
      "needs_background": "light"
     },
     "output_type": "display_data"
    }
   ],
   "source": [
    "mean7 = stacked_sevens.mean(0)\n",
    "show_image(mean7);"
   ]
  },
  {
   "cell_type": "code",
   "execution_count": 18,
   "metadata": {
    "colab": {
     "base_uri": "https://localhost:8080/",
     "height": 85
    },
    "id": "Hwhv0rXsF3e7",
    "outputId": "fda09b37-fc65-4135-dd4b-636aa53c0764"
   },
   "outputs": [
    {
     "data": {
      "image/png": "[encoded data removed]",
      "text/plain": [
       "<Figure size 72x72 with 1 Axes>"
      ]
     },
     "metadata": {
      "needs_background": "light"
     },
     "output_type": "display_data"
    }
   ],
   "source": [
    "a_3 = stacked_threes[1]\n",
    "show_image(a_3);"
   ]
  },
  {
   "cell_type": "code",
   "execution_count": null,
   "metadata": {
    "colab": {
     "base_uri": "https://localhost:8080/"
    },
    "id": "47z6Wx-HF3e7",
    "outputId": "eb978f22-523a-429d-d85e-69921eba451d"
   },
   "outputs": [
    {
     "data": {
      "text/plain": [
       "(tensor(0.1114), tensor(0.2021))"
      ]
     },
     "execution_count": 31,
     "metadata": {
      "tags": []
     },
     "output_type": "execute_result"
    }
   ],
   "source": [
    "#Find difference between images using one of the following:\n",
    "dist_3_abs = (a_3 - mean3).abs().mean() #L1 norm\n",
    "dist_3_sqr = ((a_3 - mean3)**2).mean().sqrt() #RMSE or L2 norm\n",
    "dist_3_abs,dist_3_sqr"
   ]
  },
  {
   "cell_type": "code",
   "execution_count": null,
   "metadata": {
    "colab": {
     "base_uri": "https://localhost:8080/"
    },
    "id": "kWZAL4T2F3e8",
    "outputId": "fc84bde7-a712-4081-f89f-cb6865637c9c"
   },
   "outputs": [
    {
     "data": {
      "text/plain": [
       "(tensor(0.1586), tensor(0.3021))"
      ]
     },
     "execution_count": 32,
     "metadata": {
      "tags": []
     },
     "output_type": "execute_result"
    }
   ],
   "source": [
    "dist_7_abs = (a_3 - mean7).abs().mean()\n",
    "dist_7_sqr = ((a_3 - mean7)**2).mean().sqrt()\n",
    "dist_7_abs,dist_7_sqr"
   ]
  },
  {
   "cell_type": "code",
   "execution_count": null,
   "metadata": {
    "colab": {
     "base_uri": "https://localhost:8080/"
    },
    "id": "w_gdc5F7F3e8",
    "outputId": "92158161-3ef3-430e-db18-0e66aa8540ed"
   },
   "outputs": [
    {
     "data": {
      "text/plain": [
       "(tensor(0.1586), tensor(0.3021))"
      ]
     },
     "execution_count": 33,
     "metadata": {
      "tags": []
     },
     "output_type": "execute_result"
    }
   ],
   "source": [
    "#Another approach\n",
    "F.l1_loss(a_3.float(),mean7),   F.mse_loss(a_3,mean7).sqrt()"
   ]
  },
  {
   "cell_type": "markdown",
   "metadata": {
    "id": "oGrQbE-SF3e8"
   },
   "source": [
    "### NumPy Arrays and PyTorch Tensors\n",
    "#### ***Just some comparison between tensors and numpy arrays***"
   ]
  },
  {
   "cell_type": "code",
   "execution_count": null,
   "metadata": {
    "id": "eTbcts6cF3e8"
   },
   "outputs": [],
   "source": [
    "data = [[1,2,3],[4,5,6]]\n",
    "arr = array (data)\n",
    "tns = tensor(data)"
   ]
  },
  {
   "cell_type": "code",
   "execution_count": null,
   "metadata": {
    "colab": {
     "base_uri": "https://localhost:8080/"
    },
    "id": "bk290aj-F3e8",
    "outputId": "9415b3a6-aab7-4c77-f068-dab76b347665"
   },
   "outputs": [
    {
     "data": {
      "text/plain": [
       "array([[1, 2, 3],\n",
       "       [4, 5, 6]])"
      ]
     },
     "execution_count": 46,
     "metadata": {
      "tags": []
     },
     "output_type": "execute_result"
    }
   ],
   "source": [
    "arr  # numpy"
   ]
  },
  {
   "cell_type": "code",
   "execution_count": null,
   "metadata": {
    "colab": {
     "base_uri": "https://localhost:8080/"
    },
    "id": "eZ5gruUlF3e8",
    "outputId": "3e938f29-493e-474a-d053-97e67cad79df"
   },
   "outputs": [
    {
     "data": {
      "text/plain": [
       "tensor([[1, 2, 3],\n",
       "        [4, 5, 6]])"
      ]
     },
     "execution_count": 48,
     "metadata": {
      "tags": []
     },
     "output_type": "execute_result"
    }
   ],
   "source": [
    "tns  # pytorch"
   ]
  },
  {
   "cell_type": "code",
   "execution_count": null,
   "metadata": {
    "colab": {
     "base_uri": "https://localhost:8080/"
    },
    "id": "DtLi13PdF3e8",
    "outputId": "dc153971-3005-4fda-b842-ac3faa9bbb3f"
   },
   "outputs": [
    {
     "data": {
      "text/plain": [
       "tensor([4, 5, 6])"
      ]
     },
     "execution_count": 49,
     "metadata": {
      "tags": []
     },
     "output_type": "execute_result"
    }
   ],
   "source": [
    "tns[1]"
   ]
  },
  {
   "cell_type": "code",
   "execution_count": null,
   "metadata": {
    "colab": {
     "base_uri": "https://localhost:8080/"
    },
    "id": "WM_dMTo4F3e9",
    "outputId": "f53184af-008d-4923-dd02-fca618efb9c6"
   },
   "outputs": [
    {
     "data": {
      "text/plain": [
       "tensor([2, 5])"
      ]
     },
     "execution_count": 50,
     "metadata": {
      "tags": []
     },
     "output_type": "execute_result"
    }
   ],
   "source": [
    "tns[:,1]"
   ]
  },
  {
   "cell_type": "code",
   "execution_count": null,
   "metadata": {
    "colab": {
     "base_uri": "https://localhost:8080/"
    },
    "id": "I7oQ5y2fF3e9",
    "outputId": "72a9140e-4325-4f9d-ef94-36147c96c86c"
   },
   "outputs": [
    {
     "data": {
      "text/plain": [
       "tensor([5, 6])"
      ]
     },
     "execution_count": 51,
     "metadata": {
      "tags": []
     },
     "output_type": "execute_result"
    }
   ],
   "source": [
    "tns[1,1:3]"
   ]
  },
  {
   "cell_type": "code",
   "execution_count": null,
   "metadata": {
    "colab": {
     "base_uri": "https://localhost:8080/"
    },
    "id": "D0oQrZTMF3e9",
    "outputId": "869e39f8-0e20-428b-ebaf-9a1afac0b05a"
   },
   "outputs": [
    {
     "data": {
      "text/plain": [
       "tensor([[2, 3, 4],\n",
       "        [5, 6, 7]])"
      ]
     },
     "execution_count": 52,
     "metadata": {
      "tags": []
     },
     "output_type": "execute_result"
    }
   ],
   "source": [
    "tns+1"
   ]
  },
  {
   "cell_type": "code",
   "execution_count": null,
   "metadata": {
    "colab": {
     "base_uri": "https://localhost:8080/",
     "height": 35
    },
    "id": "9AuHhEb6F3e9",
    "outputId": "013a8df5-1c00-40bb-9302-63618be63f23"
   },
   "outputs": [
    {
     "data": {
      "application/vnd.google.colaboratory.intrinsic+json": {
       "type": "string"
      },
      "text/plain": [
       "'torch.LongTensor'"
      ]
     },
     "execution_count": 53,
     "metadata": {
      "tags": []
     },
     "output_type": "execute_result"
    }
   ],
   "source": [
    "tns.type()"
   ]
  },
  {
   "cell_type": "code",
   "execution_count": null,
   "metadata": {
    "colab": {
     "base_uri": "https://localhost:8080/"
    },
    "id": "_tpvyULwF3e9",
    "outputId": "dad68643-ad44-4c16-f851-873a4fdd3e54"
   },
   "outputs": [
    {
     "data": {
      "text/plain": [
       "tensor([[1.5000, 3.0000, 4.5000],\n",
       "        [6.0000, 7.5000, 9.0000]])"
      ]
     },
     "execution_count": 54,
     "metadata": {
      "tags": []
     },
     "output_type": "execute_result"
    }
   ],
   "source": [
    "tns*1.5"
   ]
  },
  {
   "cell_type": "markdown",
   "metadata": {
    "id": "g-DyAgOJF3e9"
   },
   "source": [
    "## Computing Metrics Using Broadcasting"
   ]
  },
  {
   "cell_type": "code",
   "execution_count": 19,
   "metadata": {
    "colab": {
     "base_uri": "https://localhost:8080/"
    },
    "id": "xfbuwiEYF3e9",
    "outputId": "34761951-bae0-4f3d-f7f9-b95f768aa502"
   },
   "outputs": [
    {
     "data": {
      "text/plain": [
       "(torch.Size([1010, 28, 28]), torch.Size([1028, 28, 28]))"
      ]
     },
     "execution_count": 19,
     "metadata": {},
     "output_type": "execute_result"
    }
   ],
   "source": [
    "valid_3_tens = torch.stack([tensor(Image.open(o)) \n",
    "                            for o in (path/'valid'/'3').ls()])\n",
    "valid_3_tens = valid_3_tens.float()/255\n",
    "\n",
    "valid_7_tens = torch.stack([tensor(Image.open(o)) \n",
    "                            for o in (path/'valid'/'7').ls()])\n",
    "valid_7_tens = valid_7_tens.float()/255\n",
    "\n",
    "\n",
    "valid_3_tens.shape,   valid_7_tens.shape"
   ]
  },
  {
   "cell_type": "code",
   "execution_count": 20,
   "metadata": {
    "colab": {
     "base_uri": "https://localhost:8080/"
    },
    "id": "Am7Wh5NAF3e-",
    "outputId": "df88e418-9b00-41a5-a4b3-3d99dbe0efdf"
   },
   "outputs": [
    {
     "data": {
      "text/plain": [
       "tensor(0.1114)"
      ]
     },
     "execution_count": 20,
     "metadata": {},
     "output_type": "execute_result"
    }
   ],
   "source": [
    "def mnist_distance(a,b): \n",
    "  return (a-b).abs().mean((-1,-2)) #mean across 2nd and last axis (28,28)\n",
    "mnist_distance(a_3, mean3)"
   ]
  },
  {
   "cell_type": "code",
   "execution_count": 21,
   "metadata": {
    "colab": {
     "base_uri": "https://localhost:8080/"
    },
    "id": "3V6Fn8YHF3e-",
    "outputId": "be20b1f6-d87a-4ee2-b826-ae56dff4837c"
   },
   "outputs": [
    {
     "data": {
      "text/plain": [
       "(tensor([0.1787, 0.1422, 0.1412,  ..., 0.1358, 0.1301, 0.1110]),\n",
       " torch.Size([1010]))"
      ]
     },
     "execution_count": 21,
     "metadata": {},
     "output_type": "execute_result"
    }
   ],
   "source": [
    "valid_3_dist = mnist_distance(valid_3_tens, mean3) #broadcast method across entire validation set\n",
    "valid_3_dist, valid_3_dist.shape"
   ]
  },
  {
   "cell_type": "code",
   "execution_count": null,
   "metadata": {
    "colab": {
     "base_uri": "https://localhost:8080/"
    },
    "id": "62rUfDGzF3e-",
    "outputId": "615535bd-e8a0-46d0-980e-479b180902d1"
   },
   "outputs": [
    {
     "data": {
      "text/plain": [
       "tensor([2, 3, 4])"
      ]
     },
     "execution_count": 37,
     "metadata": {
      "tags": []
     },
     "output_type": "execute_result"
    }
   ],
   "source": [
    "tensor([1,2,3]) + tensor([1]) #broadcasting example"
   ]
  },
  {
   "cell_type": "code",
   "execution_count": null,
   "metadata": {
    "colab": {
     "base_uri": "https://localhost:8080/"
    },
    "id": "73GNtXyvF3e-",
    "outputId": "700a830b-d092-4eb3-9ef4-7699692291e7"
   },
   "outputs": [
    {
     "data": {
      "text/plain": [
       "torch.Size([1010, 28, 28])"
      ]
     },
     "execution_count": 38,
     "metadata": {
      "tags": []
     },
     "output_type": "execute_result"
    }
   ],
   "source": [
    "(valid_3_tens-mean3).shape"
   ]
  },
  {
   "cell_type": "code",
   "execution_count": 19,
   "metadata": {
    "id": "ll-LfupMF3e-"
   },
   "outputs": [],
   "source": [
    "def is_3(x): return mnist_distance(x,mean3) < mnist_distance(x,mean7)"
   ]
  },
  {
   "cell_type": "code",
   "execution_count": 24,
   "metadata": {
    "colab": {
     "base_uri": "https://localhost:8080/"
    },
    "id": "KWIzGeAKF3e-",
    "outputId": "e75ccc9c-06cd-4baf-a03f-185653c67594"
   },
   "outputs": [
    {
     "data": {
      "text/plain": [
       "(tensor(True), tensor(1.))"
      ]
     },
     "execution_count": 24,
     "metadata": {},
     "output_type": "execute_result"
    }
   ],
   "source": [
    "is_3(a_3), is_3(a_3).float()"
   ]
  },
  {
   "cell_type": "code",
   "execution_count": null,
   "metadata": {
    "id": "x0vRSI9BW8v9"
   },
   "outputs": [],
   "source": [
    "a_7 = stacked_sevens[1]\n",
    "a_7"
   ]
  },
  {
   "cell_type": "code",
   "execution_count": 26,
   "metadata": {
    "colab": {
     "base_uri": "https://localhost:8080/",
     "height": 102
    },
    "id": "wPuPAUEvXBJC",
    "outputId": "b6d7ca14-7b3e-4438-9c92-aced84856ff5"
   },
   "outputs": [
    {
     "data": {
      "text/plain": [
       "<AxesSubplot:>"
      ]
     },
     "execution_count": 26,
     "metadata": {},
     "output_type": "execute_result"
    },
    {
     "data": {
      "image/png": "[encoded data removed]",
      "text/plain": [
       "<Figure size 72x72 with 1 Axes>"
      ]
     },
     "metadata": {
      "needs_background": "light"
     },
     "output_type": "display_data"
    }
   ],
   "source": [
    "show_image(a_7)"
   ]
  },
  {
   "cell_type": "code",
   "execution_count": null,
   "metadata": {
    "colab": {
     "base_uri": "https://localhost:8080/"
    },
    "id": "VBVsyquLXD12",
    "outputId": "9381a14c-d909-4a87-babf-1049f8cef3b0"
   },
   "outputs": [
    {
     "data": {
      "text/plain": [
       "(tensor(False), tensor(0.))"
      ]
     },
     "execution_count": 42,
     "metadata": {
      "tags": []
     },
     "output_type": "execute_result"
    }
   ],
   "source": [
    "is_3(a_7), is_3(a_7).float() #tensor val is 0"
   ]
  },
  {
   "cell_type": "code",
   "execution_count": null,
   "metadata": {
    "colab": {
     "base_uri": "https://localhost:8080/"
    },
    "id": "-BJwz0bkF3e_",
    "outputId": "96224f99-4220-4891-c919-6e3ffe6a0202"
   },
   "outputs": [
    {
     "data": {
      "text/plain": [
       "tensor([True, True, True,  ..., True, True, True])"
      ]
     },
     "execution_count": 43,
     "metadata": {
      "tags": []
     },
     "output_type": "execute_result"
    }
   ],
   "source": [
    "is_3(valid_3_tens)"
   ]
  },
  {
   "cell_type": "code",
   "execution_count": 20,
   "metadata": {
    "colab": {
     "base_uri": "https://localhost:8080/"
    },
    "id": "ojXwbucPF3e_",
    "outputId": "52277c3f-0d77-413c-f63a-7a74e1edede8"
   },
   "outputs": [
    {
     "data": {
      "text/plain": [
       "(tensor(0.9168), tensor(0.9854), tensor(0.9511))"
      ]
     },
     "execution_count": 20,
     "metadata": {},
     "output_type": "execute_result"
    }
   ],
   "source": [
    "accuracy_3s =      is_3(valid_3_tens).float() .mean()\n",
    "accuracy_7s = (1 - is_3(valid_7_tens).float()).mean()\n",
    "\n",
    "accuracy_3s,accuracy_7s,(accuracy_3s+accuracy_7s)/2"
   ]
  },
  {
   "cell_type": "markdown",
   "metadata": {
    "id": "GjunLX6PyrFs"
   },
   "source": [
    "## **I will test this simple model below with my input image I drew in paint**"
   ]
  },
  {
   "cell_type": "code",
   "execution_count": 65,
   "metadata": {
    "colab": {
     "base_uri": "https://localhost:8080/",
     "height": 49,
     "referenced_widgets": [
      "7c87cfef9dba4b4387e11331b95fc7d2",
      "bb9b6f91c49d48fea4a1cbf4738b183e",
      "f1a751648f224263a1435c228d5d1e32"
     ]
    },
    "id": "k6-JeSUoywGo",
    "outputId": "9903e10f-39c0-4723-86e0-f701de267b5f"
   },
   "outputs": [
    {
     "data": {
      "application/vnd.jupyter.widget-view+json": {
       "model_id": "53608ad378494b50b996a15c72de5c14",
       "version_major": 2,
       "version_minor": 0
      },
      "text/plain": [
       "FileUpload(value={}, description='Upload')"
      ]
     },
     "metadata": {},
     "output_type": "display_data"
    }
   ],
   "source": [
    "uploader = widgets.FileUpload()\n",
    "uploader"
   ]
  },
  {
   "cell_type": "code",
   "execution_count": 66,
   "metadata": {
    "colab": {
     "base_uri": "https://localhost:8080/",
     "height": 57
    },
    "id": "f3z_yaotzRj-",
    "outputId": "fea974b5-e20a-46a7-d2aa-25ff40b6b53b"
   },
   "outputs": [
    {
     "data": {
      "image/png": "[encoded data removed]",
      "text/plain": [
       "<PIL.Image.Image image mode=RGB size=35x40 at 0x7FADD3B32460>"
      ]
     },
     "execution_count": 66,
     "metadata": {},
     "output_type": "execute_result"
    }
   ],
   "source": [
    "img = PILImage.create(uploader.data[0])\n",
    "img.to_thumb(40)"
   ]
  },
  {
   "cell_type": "code",
   "execution_count": 67,
   "metadata": {
    "id": "5_YcgQbBzZXr"
   },
   "outputs": [],
   "source": [
    "img = img.resize((28,28)) #Resizing img"
   ]
  },
  {
   "cell_type": "code",
   "execution_count": 68,
   "metadata": {
    "id": "WzKOslcz0sme"
   },
   "outputs": [],
   "source": [
    "t_3 = tensor(img) #converting to tensor"
   ]
  },
  {
   "cell_type": "code",
   "execution_count": 69,
   "metadata": {
    "colab": {
     "base_uri": "https://localhost:8080/"
    },
    "id": "ueo8Zp_80W1A",
    "outputId": "fd48c2bd-85c8-43bd-caf6-048bbc5d1a96"
   },
   "outputs": [],
   "source": [
    "#t_3.view(-1,28*28)"
   ]
  },
  {
   "cell_type": "code",
   "execution_count": 70,
   "metadata": {},
   "outputs": [
    {
     "data": {
      "text/plain": [
       "torch.Size([28, 28, 3])"
      ]
     },
     "execution_count": 70,
     "metadata": {},
     "output_type": "execute_result"
    }
   ],
   "source": [
    "t_3.shape"
   ]
  },
  {
   "cell_type": "code",
   "execution_count": 71,
   "metadata": {
    "id": "FM1fFpJT3fld"
   },
   "outputs": [],
   "source": [
    "t_3 = t_3[:,:,0] #dropping channels"
   ]
  },
  {
   "cell_type": "code",
   "execution_count": 72,
   "metadata": {
    "colab": {
     "base_uri": "https://localhost:8080/",
     "height": 102
    },
    "id": "6iUR7mpA371H",
    "outputId": "82da4488-1aa8-49d1-9d28-3bc7d2b9f32d"
   },
   "outputs": [
    {
     "data": {
      "text/plain": [
       "<AxesSubplot:>"
      ]
     },
     "execution_count": 72,
     "metadata": {},
     "output_type": "execute_result"
    },
    {
     "data": {
      "image/png": "[encoded data removed]",
      "text/plain": [
       "<Figure size 72x72 with 1 Axes>"
      ]
     },
     "metadata": {
      "needs_background": "light"
     },
     "output_type": "display_data"
    }
   ],
   "source": [
    "show_image(t_3)"
   ]
  },
  {
   "cell_type": "code",
   "execution_count": 73,
   "metadata": {
    "colab": {
     "base_uri": "https://localhost:8080/"
    },
    "id": "DXKRtZ7i3JLw",
    "outputId": "3c774dfb-cf6f-47a6-fca4-88b7643b526b"
   },
   "outputs": [
    {
     "data": {
      "text/plain": [
       "torch.Size([28, 28])"
      ]
     },
     "execution_count": 73,
     "metadata": {},
     "output_type": "execute_result"
    }
   ],
   "source": [
    "t_3.shape"
   ]
  },
  {
   "cell_type": "code",
   "execution_count": 74,
   "metadata": {
    "colab": {
     "base_uri": "https://localhost:8080/"
    },
    "id": "R2OgPQjRzvJ5",
    "outputId": "79c46882-4173-4d7b-ffe5-0585304b5ce1"
   },
   "outputs": [
    {
     "data": {
      "text/plain": [
       "tensor(True)"
      ]
     },
     "execution_count": 74,
     "metadata": {},
     "output_type": "execute_result"
    }
   ],
   "source": [
    "is_3(t_3) #Nice, it got it right!"
   ]
  },
  {
   "cell_type": "markdown",
   "metadata": {
    "id": "-Li-j2SMF3e_"
   },
   "source": [
    "## Stochastic Gradient Descent (SGD)"
   ]
  },
  {
   "cell_type": "code",
   "execution_count": 38,
   "metadata": {
    "id": "_7m-YkXBF3e_"
   },
   "outputs": [],
   "source": [
    "def f(x): return x**2"
   ]
  },
  {
   "cell_type": "code",
   "execution_count": 39,
   "metadata": {
    "colab": {
     "base_uri": "https://localhost:8080/",
     "height": 340
    },
    "id": "JUUtf-sPF3e_",
    "outputId": "f826d0a7-b06f-4ebe-ef48-eaef0a3c8a63"
   },
   "outputs": [
    {
     "name": "stderr",
     "output_type": "stream",
     "text": [
      "/opt/conda/envs/fastai/lib/python3.8/site-packages/fastbook/__init__.py:73: UserWarning: Not providing a value for linspace's steps is deprecated and will throw a runtime error in a future release. This warning will appear only once per process. (Triggered internally at  /opt/conda/conda-bld/pytorch_1603729096996/work/aten/src/ATen/native/RangeFactories.cpp:23.)\n",
      "  x = torch.linspace(min,max)\n"
     ]
    },
    {
     "data": {
      "image/png": "[encoded data removed]",
      "text/plain": [
       "<Figure size 432x288 with 1 Axes>"
      ]
     },
     "metadata": {
      "needs_background": "light"
     },
     "output_type": "display_data"
    }
   ],
   "source": [
    "plot_function(f, 'x', 'x**2')"
   ]
  },
  {
   "cell_type": "code",
   "execution_count": 40,
   "metadata": {
    "colab": {
     "base_uri": "https://localhost:8080/",
     "height": 285
    },
    "id": "7w7vAXG0F3e_",
    "outputId": "ace9294d-b297-4b6a-a41f-cf565875259d"
   },
   "outputs": [
    {
     "data": {
      "image/png": "[encoded data removed]",
      "text/plain": [
       "<Figure size 432x288 with 1 Axes>"
      ]
     },
     "metadata": {
      "needs_background": "light"
     },
     "output_type": "display_data"
    }
   ],
   "source": [
    "plot_function(f, 'x', 'x**2')\n",
    "plt.scatter(-1.5, f(-1.5), color='red');"
   ]
  },
  {
   "cell_type": "markdown",
   "metadata": {
    "id": "x_Dv29QOF3fA"
   },
   "source": [
    "### Calculating Gradients"
   ]
  },
  {
   "cell_type": "code",
   "execution_count": 41,
   "metadata": {
    "id": "my4QJ2lnF3fA"
   },
   "outputs": [],
   "source": [
    "xt = tensor(3.).requires_grad_() #The method requires_grade_ tells pyTorch that it must keep track of all comput. so we can calc grad on them later"
   ]
  },
  {
   "cell_type": "code",
   "execution_count": 42,
   "metadata": {
    "id": "Lk3iE3bUF3fA"
   },
   "outputs": [
    {
     "data": {
      "text/plain": [
       "tensor(9., grad_fn=<PowBackward0>)"
      ]
     },
     "execution_count": 42,
     "metadata": {},
     "output_type": "execute_result"
    }
   ],
   "source": [
    "yt = f(xt)\n",
    "yt"
   ]
  },
  {
   "cell_type": "code",
   "execution_count": 43,
   "metadata": {
    "id": "pnPbK1akF3fA"
   },
   "outputs": [],
   "source": [
    "yt.backward() #backprop"
   ]
  },
  {
   "cell_type": "code",
   "execution_count": 44,
   "metadata": {
    "id": "1pxWueuXF3fA"
   },
   "outputs": [
    {
     "data": {
      "text/plain": [
       "tensor(6.)"
      ]
     },
     "execution_count": 44,
     "metadata": {},
     "output_type": "execute_result"
    }
   ],
   "source": [
    "xt.grad #Slope at pos 3"
   ]
  },
  {
   "cell_type": "code",
   "execution_count": 45,
   "metadata": {
    "id": "dKuOf1lmF3fA"
   },
   "outputs": [
    {
     "data": {
      "text/plain": [
       "tensor([ 3.,  4., 10.], requires_grad=True)"
      ]
     },
     "execution_count": 45,
     "metadata": {},
     "output_type": "execute_result"
    }
   ],
   "source": [
    "#Another example, but this time with an array of values\n",
    "xt = tensor([3.,4.,10.]).requires_grad_()\n",
    "xt"
   ]
  },
  {
   "cell_type": "code",
   "execution_count": 46,
   "metadata": {
    "id": "pD7WCrWyF3fA"
   },
   "outputs": [
    {
     "data": {
      "text/plain": [
       "tensor(125., grad_fn=<SumBackward0>)"
      ]
     },
     "execution_count": 46,
     "metadata": {},
     "output_type": "execute_result"
    }
   ],
   "source": [
    "def f(x): return (x**2).sum()\n",
    "\n",
    "yt = f(xt)\n",
    "yt"
   ]
  },
  {
   "cell_type": "code",
   "execution_count": 47,
   "metadata": {
    "id": "LBsdZoxaF3fB"
   },
   "outputs": [
    {
     "data": {
      "text/plain": [
       "tensor([ 6.,  8., 20.])"
      ]
     },
     "execution_count": 47,
     "metadata": {},
     "output_type": "execute_result"
    }
   ],
   "source": [
    "yt.backward()\n",
    "xt.grad"
   ]
  },
  {
   "cell_type": "markdown",
   "metadata": {
    "id": "w0xQ0jfUF3fB"
   },
   "source": [
    "### Stepping With a Learning Rate"
   ]
  },
  {
   "cell_type": "markdown",
   "metadata": {
    "id": "W7uLCxewF3fB"
   },
   "source": [
    "### An End-to-End SGD Example"
   ]
  },
  {
   "cell_type": "code",
   "execution_count": 48,
   "metadata": {
    "id": "Ufw1d9PtF3fB",
    "scrolled": true
   },
   "outputs": [
    {
     "data": {
      "text/plain": [
       "tensor([ 0.,  1.,  2.,  3.,  4.,  5.,  6.,  7.,  8.,  9., 10., 11., 12., 13., 14., 15., 16., 17., 18., 19.])"
      ]
     },
     "execution_count": 48,
     "metadata": {},
     "output_type": "execute_result"
    }
   ],
   "source": [
    "time = torch.arange(0,20).float(); time"
   ]
  },
  {
   "cell_type": "code",
   "execution_count": 49,
   "metadata": {
    "id": "leos1DO-F3fB"
   },
   "outputs": [
    {
     "data": {
      "image/png": "[encoded data removed]",
      "text/plain": [
       "<Figure size 432x288 with 1 Axes>"
      ]
     },
     "metadata": {
      "needs_background": "light"
     },
     "output_type": "display_data"
    }
   ],
   "source": [
    "speed = torch.randn(20)*3 + 0.75*(time-9.5)**2 + 1\n",
    "plt.scatter(time,speed);"
   ]
  },
  {
   "cell_type": "code",
   "execution_count": 50,
   "metadata": {
    "id": "dWcNOZcMF3fB"
   },
   "outputs": [],
   "source": [
    "#our assumed function for the above graph\n",
    "def f(t, params):\n",
    "    a,b,c = params\n",
    "    return a*(t**2) + (b*t) + c"
   ]
  },
  {
   "cell_type": "code",
   "execution_count": 51,
   "metadata": {
    "id": "RF_nzbSJF3fB"
   },
   "outputs": [],
   "source": [
    "#calculates loss\n",
    "def mse(preds, targets): \n",
    "    return ((preds-targets)**2).mean().sqrt() #mean squared error"
   ]
  },
  {
   "cell_type": "markdown",
   "metadata": {
    "id": "QA6v4Dv3F3fC"
   },
   "source": [
    "#### Step 1: Initialize the parameters"
   ]
  },
  {
   "cell_type": "code",
   "execution_count": 52,
   "metadata": {
    "id": "OvzuES29F3fC"
   },
   "outputs": [
    {
     "data": {
      "text/plain": [
       "tensor([0.2815, 0.0562, 0.5227], requires_grad=True)"
      ]
     },
     "execution_count": 52,
     "metadata": {},
     "output_type": "execute_result"
    }
   ],
   "source": [
    "params = torch.randn(3).requires_grad_() #Getting random weights\n",
    "params"
   ]
  },
  {
   "cell_type": "code",
   "execution_count": 53,
   "metadata": {
    "id": "JbVaQkamF3fC"
   },
   "outputs": [],
   "source": [
    "#hide\n",
    "orig_params = params.clone()"
   ]
  },
  {
   "cell_type": "markdown",
   "metadata": {
    "id": "V81Sx8esF3fC"
   },
   "source": [
    "#### Step 2: Calculate the predictions"
   ]
  },
  {
   "cell_type": "code",
   "execution_count": 54,
   "metadata": {
    "id": "IVISWPFZF3fC"
   },
   "outputs": [],
   "source": [
    "preds = f(time, params)"
   ]
  },
  {
   "cell_type": "code",
   "execution_count": 55,
   "metadata": {
    "id": "xqFrg6VvF3fC"
   },
   "outputs": [],
   "source": [
    "def show_preds(preds, ax=None):\n",
    "    if ax is None: ax=plt.subplots()[1]\n",
    "    ax.scatter(time, speed)\n",
    "    ax.scatter(time, to_np(preds), color='red')\n",
    "    ax.set_ylim(-300,100)"
   ]
  },
  {
   "cell_type": "code",
   "execution_count": 56,
   "metadata": {
    "id": "_svLEKVuF3fC"
   },
   "outputs": [
    {
     "data": {
      "image/png": "[encoded data removed]",
      "text/plain": [
       "<Figure size 432x288 with 1 Axes>"
      ]
     },
     "metadata": {
      "needs_background": "light"
     },
     "output_type": "display_data"
    }
   ],
   "source": [
    "show_preds(preds) #Red is our predictions, Blue is the labels"
   ]
  },
  {
   "cell_type": "markdown",
   "metadata": {
    "id": "emoOEbh5F3fD"
   },
   "source": [
    "#### Step 3: Calculate the loss"
   ]
  },
  {
   "cell_type": "code",
   "execution_count": 58,
   "metadata": {
    "id": "Jr_Qb5yPF3fD"
   },
   "outputs": [
    {
     "data": {
      "text/plain": [
       "tensor(35.6327, grad_fn=<SqrtBackward>)"
      ]
     },
     "execution_count": 58,
     "metadata": {},
     "output_type": "execute_result"
    }
   ],
   "source": [
    "loss = mse(preds, speed) #Current loss\n",
    "loss"
   ]
  },
  {
   "cell_type": "markdown",
   "metadata": {
    "id": "RN0dLckxF3fD"
   },
   "source": [
    "#### Step 4: Calculate the gradients"
   ]
  },
  {
   "cell_type": "code",
   "execution_count": 59,
   "metadata": {
    "id": "XXRjP9xOF3fD"
   },
   "outputs": [
    {
     "data": {
      "text/plain": [
       "tensor([121.4830,   7.8875,   0.3013])"
      ]
     },
     "execution_count": 59,
     "metadata": {},
     "output_type": "execute_result"
    }
   ],
   "source": [
    "loss.backward()\n",
    "params.grad"
   ]
  },
  {
   "cell_type": "code",
   "execution_count": 60,
   "metadata": {
    "id": "y6q0X7hRF3fD"
   },
   "outputs": [
    {
     "data": {
      "text/plain": [
       "tensor([1.2148e-03, 7.8875e-05, 3.0131e-06])"
      ]
     },
     "execution_count": 60,
     "metadata": {},
     "output_type": "execute_result"
    }
   ],
   "source": [
    "params.grad * 1e-5      #1e-5 is the learning rate"
   ]
  },
  {
   "cell_type": "markdown",
   "metadata": {
    "id": "LPuqzfJKF3fD"
   },
   "source": [
    "#### Step 5: Step the weights. "
   ]
  },
  {
   "cell_type": "code",
   "execution_count": 61,
   "metadata": {
    "scrolled": true
   },
   "outputs": [
    {
     "name": "stdout",
     "output_type": "stream",
     "text": [
      "tensor([0.2815, 0.0562, 0.5227])\n",
      "tensor([0.2815, 0.0562, 0.5227], requires_grad=True)\n"
     ]
    }
   ],
   "source": [
    "print(params.data)  #.data is used so gradient is NOT calc\n",
    "print(params)"
   ]
  },
  {
   "cell_type": "code",
   "execution_count": 62,
   "metadata": {
    "id": "4AlZ8kYBF3fE"
   },
   "outputs": [],
   "source": [
    "lr = 1e-4\n",
    "params.data -= lr * params.grad.data\n",
    "params.grad = None"
   ]
  },
  {
   "cell_type": "code",
   "execution_count": 63,
   "metadata": {
    "id": "N3C2OGuIF3fE"
   },
   "outputs": [
    {
     "data": {
      "text/plain": [
       "tensor(34.1798, grad_fn=<SqrtBackward>)"
      ]
     },
     "execution_count": 63,
     "metadata": {},
     "output_type": "execute_result"
    }
   ],
   "source": [
    "preds = f(time,params)\n",
    "mse(preds, speed) #loss improved"
   ]
  },
  {
   "cell_type": "code",
   "execution_count": 64,
   "metadata": {
    "id": "gk-04vphF3fE"
   },
   "outputs": [
    {
     "data": {
      "image/png": "[encoded data removed]",
      "text/plain": [
       "<Figure size 432x288 with 1 Axes>"
      ]
     },
     "metadata": {
      "needs_background": "light"
     },
     "output_type": "display_data"
    }
   ],
   "source": [
    "show_preds(preds)"
   ]
  },
  {
   "cell_type": "markdown",
   "metadata": {},
   "source": [
    "## Putting all of the above into a simple function"
   ]
  },
  {
   "cell_type": "code",
   "execution_count": 65,
   "metadata": {
    "id": "ESj5f-m9F3fE"
   },
   "outputs": [],
   "source": [
    "def apply_step(params, prn=True):\n",
    "    preds = f(time, params)\n",
    "    loss = mse(preds, speed)\n",
    "    loss.backward()\n",
    "    params.data -= lr * params.grad.data\n",
    "    params.grad = None\n",
    "    if prn: print(loss.item())\n",
    "    return preds"
   ]
  },
  {
   "cell_type": "markdown",
   "metadata": {
    "id": "1P-RgMV6F3fF"
   },
   "source": [
    "#### Step 6: Repeat the process "
   ]
  },
  {
   "cell_type": "code",
   "execution_count": 66,
   "metadata": {
    "id": "pjvP0EFNF3fF"
   },
   "outputs": [
    {
     "name": "stdout",
     "output_type": "stream",
     "text": [
      "34.17982482910156\n",
      "32.844730377197266\n",
      "31.63145637512207\n",
      "30.54193687438965\n",
      "29.575712203979492\n",
      "28.729764938354492\n",
      "27.998600006103516\n",
      "27.374542236328125\n",
      "26.84825325012207\n",
      "26.409330368041992\n"
     ]
    }
   ],
   "source": [
    "for i in range(10): apply_step(params) #running it 10 times (Notice loss improving)"
   ]
  },
  {
   "cell_type": "code",
   "execution_count": 67,
   "metadata": {
    "id": "nCUblazBF3fF"
   },
   "outputs": [],
   "source": [
    "#hide\n",
    "params = orig_params.detach().requires_grad_()"
   ]
  },
  {
   "cell_type": "code",
   "execution_count": 68,
   "metadata": {
    "id": "E7-gQY1XF3fF"
   },
   "outputs": [
    {
     "data": {
      "image/png": "[encoded data removed]",
      "text/plain": [
       "<Figure size 864x216 with 4 Axes>"
      ]
     },
     "metadata": {
      "needs_background": "light"
     },
     "output_type": "display_data"
    }
   ],
   "source": [
    "_,axs = plt.subplots(1,4,figsize=(12,3))\n",
    "for ax in axs: show_preds(apply_step(params, False), ax)\n",
    "plt.tight_layout()"
   ]
  },
  {
   "cell_type": "markdown",
   "metadata": {
    "id": "vBB0Gu6XF3fF"
   },
   "source": [
    "#### Step 7: stop"
   ]
  },
  {
   "cell_type": "markdown",
   "metadata": {
    "id": "Fsv-gCCdF3fG"
   },
   "source": [
    "## The MNIST Loss Function"
   ]
  },
  {
   "cell_type": "code",
   "execution_count": 69,
   "metadata": {
    "id": "oTzkTmtOF3fG"
   },
   "outputs": [],
   "source": [
    "train_x = torch.cat([stacked_threes, stacked_sevens]).view(-1, 28*28) #.view reshapes the image where each row has 1 image \n",
    "                                                                    # with all its content in a single row (each image is 28x28)"
   ]
  },
  {
   "cell_type": "code",
   "execution_count": 70,
   "metadata": {
    "id": "fhykVXXCF3fG"
   },
   "outputs": [
    {
     "data": {
      "text/plain": [
       "(torch.Size([12396, 784]), torch.Size([12396, 1]))"
      ]
     },
     "execution_count": 70,
     "metadata": {},
     "output_type": "execute_result"
    }
   ],
   "source": [
    "#Creating labels: 1 represents a three and 0 represents seven\n",
    "train_y = tensor([1]*len(threes) + [0]*len(sevens)).unsqueeze(1)\n",
    "train_x.shape,train_y.shape"
   ]
  },
  {
   "cell_type": "code",
   "execution_count": 71,
   "metadata": {
    "id": "59gphQZIF3fG"
   },
   "outputs": [
    {
     "data": {
      "text/plain": [
       "(torch.Size([784]), tensor([1]))"
      ]
     },
     "execution_count": 71,
     "metadata": {},
     "output_type": "execute_result"
    }
   ],
   "source": [
    "dset = list(zip(train_x,train_y)) #zip() creates a concatination of x,y\n",
    "x,y = dset[0] \n",
    "x.shape,y"
   ]
  },
  {
   "cell_type": "code",
   "execution_count": 72,
   "metadata": {
    "id": "Ow23YEifF3fH"
   },
   "outputs": [],
   "source": [
    "#create validation set using same approach as above\n",
    "valid_x = torch.cat([valid_3_tens, valid_7_tens]).view(-1, 28*28)\n",
    "valid_y = tensor([1]*len(valid_3_tens) + [0]*len(valid_7_tens)).unsqueeze(1)\n",
    "valid_dset = list(zip(valid_x,valid_y))"
   ]
  },
  {
   "cell_type": "code",
   "execution_count": 73,
   "metadata": {
    "id": "5dJYQo4-F3fH"
   },
   "outputs": [],
   "source": [
    "#initializing weights\n",
    "def init_params(size, var=1.0): return (torch.randn(size)*var).requires_grad_()"
   ]
  },
  {
   "cell_type": "code",
   "execution_count": 74,
   "metadata": {
    "id": "g1i6CAL6F3fI"
   },
   "outputs": [],
   "source": [
    "weights = init_params((28*28,1)) #weights needed for every pixel, hence 28*28"
   ]
  },
  {
   "cell_type": "code",
   "execution_count": 77,
   "metadata": {
    "id": "E-NTjVD-F3fI"
   },
   "outputs": [],
   "source": [
    "bias = init_params(1) #Need bias because w*p = 0 when p=0 (p = pixel)"
   ]
  },
  {
   "cell_type": "code",
   "execution_count": 78,
   "metadata": {
    "id": "N_t5fLxoF3fI"
   },
   "outputs": [
    {
     "data": {
      "text/plain": [
       "tensor([21.8052], grad_fn=<AddBackward0>)"
      ]
     },
     "execution_count": 78,
     "metadata": {},
     "output_type": "execute_result"
    }
   ],
   "source": [
    "#Single pred for 1 image\n",
    "(train_x[0]*weights.T).sum() + bias #Must transpose so multi can happen"
   ]
  },
  {
   "cell_type": "code",
   "execution_count": 79,
   "metadata": {
    "id": "5vEc4CFWF3fI"
   },
   "outputs": [
    {
     "data": {
      "text/plain": [
       "tensor([[21.8052],\n",
       "        [11.4321],\n",
       "        [19.5403],\n",
       "        ...,\n",
       "        [ 6.7101],\n",
       "        [ 7.7558],\n",
       "        [ 0.4296]], grad_fn=<AddBackward0>)"
      ]
     },
     "execution_count": 79,
     "metadata": {},
     "output_type": "execute_result"
    }
   ],
   "source": [
    "#More efficient using matrix multi\n",
    "def linear1(xb): \n",
    "    return xb@weights + bias #@ repersents matrix multi\n",
    "\n",
    "preds = linear1(train_x)\n",
    "preds #preds of all images "
   ]
  },
  {
   "cell_type": "markdown",
   "metadata": {},
   "source": [
    "### Lets assume everything greater 0 is correctly labeled"
   ]
  },
  {
   "cell_type": "code",
   "execution_count": 80,
   "metadata": {
    "id": "iHShX2vhF3fI"
   },
   "outputs": [
    {
     "data": {
      "text/plain": [
       "tensor([[ True],\n",
       "        [ True],\n",
       "        [ True],\n",
       "        ...,\n",
       "        [False],\n",
       "        [False],\n",
       "        [False]])"
      ]
     },
     "execution_count": 80,
     "metadata": {},
     "output_type": "execute_result"
    }
   ],
   "source": [
    "corrects = (preds>0.0).float() == train_y\n",
    "corrects"
   ]
  },
  {
   "cell_type": "code",
   "execution_count": 81,
   "metadata": {
    "id": "nreEhfQyF3fI"
   },
   "outputs": [
    {
     "data": {
      "text/plain": [
       "0.49951598048210144"
      ]
     },
     "execution_count": 81,
     "metadata": {},
     "output_type": "execute_result"
    }
   ],
   "source": [
    "corrects.float().mean().item() #Displays accuracy"
   ]
  },
  {
   "cell_type": "markdown",
   "metadata": {},
   "source": [
    "## Now lets see how the accuracy changes for a small change in the weights"
   ]
  },
  {
   "cell_type": "code",
   "execution_count": 82,
   "metadata": {
    "id": "mymhLycSF3fJ"
   },
   "outputs": [],
   "source": [
    "weights[0] *= 1.0001"
   ]
  },
  {
   "cell_type": "markdown",
   "metadata": {},
   "source": [
    "#### Notice that the accuracy did not change  - This is why we make use of a loss function"
   ]
  },
  {
   "cell_type": "code",
   "execution_count": 83,
   "metadata": {
    "id": "8pDyUxTVF3fJ"
   },
   "outputs": [
    {
     "data": {
      "text/plain": [
       "0.49951598048210144"
      ]
     },
     "execution_count": 83,
     "metadata": {},
     "output_type": "execute_result"
    }
   ],
   "source": [
    "preds = linear1(train_x)\n",
    "((preds>0.0).float() == train_y).float().mean().item()"
   ]
  },
  {
   "cell_type": "markdown",
   "metadata": {},
   "source": [
    "### Example showcasing the effects of loss"
   ]
  },
  {
   "cell_type": "code",
   "execution_count": 84,
   "metadata": {
    "id": "2ga8KyqcF3fJ"
   },
   "outputs": [],
   "source": [
    "#Example - Assume we have these targets and these predictions\n",
    "trgts  = tensor([1,0,1])\n",
    "prds   = tensor([0.9, 0.4, 0.2])"
   ]
  },
  {
   "cell_type": "code",
   "execution_count": 85,
   "metadata": {
    "id": "neVmpVEIF3fJ"
   },
   "outputs": [],
   "source": [
    "def mnist_loss(predictions, targets):\n",
    "                                   #Where not 1    #Where 1\n",
    "    return torch.where(targets==1, 1-predictions, predictions).mean()"
   ]
  },
  {
   "cell_type": "code",
   "execution_count": 42,
   "metadata": {
    "id": "AXOznLH9F3fJ"
   },
   "outputs": [
    {
     "data": {
      "text/plain": [
       "tensor([0.1000, 0.4000, 0.8000])"
      ]
     },
     "execution_count": 42,
     "metadata": {},
     "output_type": "execute_result"
    }
   ],
   "source": [
    "torch.where(trgts==1, 1-prds, prds)"
   ]
  },
  {
   "cell_type": "code",
   "execution_count": 43,
   "metadata": {
    "id": "KivsjZ_fF3fJ"
   },
   "outputs": [
    {
     "data": {
      "text/plain": [
       "tensor(0.4333)"
      ]
     },
     "execution_count": 43,
     "metadata": {},
     "output_type": "execute_result"
    }
   ],
   "source": [
    "mnist_loss(prds,trgts)"
   ]
  },
  {
   "cell_type": "code",
   "execution_count": 45,
   "metadata": {
    "id": "KdmNPm6aF3fJ"
   },
   "outputs": [
    {
     "data": {
      "text/plain": [
       "tensor(0.2333)"
      ]
     },
     "execution_count": 45,
     "metadata": {},
     "output_type": "execute_result"
    }
   ],
   "source": [
    "mnist_loss(tensor([0.9, 0.4, 0.8]),trgts) #What happens when we change the last pred (loss gets better)"
   ]
  },
  {
   "cell_type": "markdown",
   "metadata": {
    "id": "_Q-JqJMrF3fK"
   },
   "source": [
    "### Sigmoid"
   ]
  },
  {
   "cell_type": "code",
   "execution_count": 86,
   "metadata": {
    "id": "JLg5FutOF3fK"
   },
   "outputs": [],
   "source": [
    "def sigmoid(x): return 1/(1+torch.exp(-x))"
   ]
  },
  {
   "cell_type": "code",
   "execution_count": 87,
   "metadata": {
    "id": "xI-0mgbAF3fK"
   },
   "outputs": [
    {
     "data": {
      "image/png": "[encoded data removed]",
      "text/plain": [
       "<Figure size 432x288 with 1 Axes>"
      ]
     },
     "metadata": {
      "needs_background": "light"
     },
     "output_type": "display_data"
    }
   ],
   "source": [
    "plot_function(torch.sigmoid, title='Sigmoid', min=-4, max=4)"
   ]
  },
  {
   "cell_type": "code",
   "execution_count": 88,
   "metadata": {
    "id": "p-EsNMitF3fK"
   },
   "outputs": [],
   "source": [
    "def mnist_loss(predictions, targets):\n",
    "    predictions = predictions.sigmoid() #squishing predictions between 0-1\n",
    "    return torch.where(targets==1, 1-predictions, predictions).mean()"
   ]
  },
  {
   "cell_type": "markdown",
   "metadata": {
    "id": "rESZZjRXF3fK"
   },
   "source": [
    "### SGD and Mini-Batches"
   ]
  },
  {
   "cell_type": "code",
   "execution_count": 89,
   "metadata": {
    "id": "G74TmbrqF3fK"
   },
   "outputs": [
    {
     "data": {
      "text/plain": [
       "[tensor([ 3, 12,  8, 10,  2]),\n",
       " tensor([ 9,  4,  7, 14,  5]),\n",
       " tensor([ 1, 13,  0,  6, 11])]"
      ]
     },
     "execution_count": 89,
     "metadata": {},
     "output_type": "execute_result"
    }
   ],
   "source": [
    "coll = range(15)\n",
    "dl = DataLoader(coll, batch_size=5, shuffle=True) #creates minibatches\n",
    "list(dl)"
   ]
  },
  {
   "cell_type": "code",
   "execution_count": 90,
   "metadata": {
    "id": "bu5zZdSGF3fK"
   },
   "outputs": [
    {
     "data": {
      "text/plain": [
       "(#26) [(0, 'a'),(1, 'b'),(2, 'c'),(3, 'd'),(4, 'e'),(5, 'f'),(6, 'g'),(7, 'h'),(8, 'i'),(9, 'j')...]"
      ]
     },
     "execution_count": 90,
     "metadata": {},
     "output_type": "execute_result"
    }
   ],
   "source": [
    "ds = L(enumerate(string.ascii_lowercase)) \n",
    "ds"
   ]
  },
  {
   "cell_type": "code",
   "execution_count": 91,
   "metadata": {
    "id": "tQRX-U7nF3fL"
   },
   "outputs": [
    {
     "data": {
      "text/plain": [
       "[(tensor([17, 18, 10, 22,  8, 14]), ('r', 's', 'k', 'w', 'i', 'o')),\n",
       " (tensor([20, 15,  9, 13, 21, 12]), ('u', 'p', 'j', 'n', 'v', 'm')),\n",
       " (tensor([ 7, 25,  6,  5, 11, 23]), ('h', 'z', 'g', 'f', 'l', 'x')),\n",
       " (tensor([ 1,  3,  0, 24, 19, 16]), ('b', 'd', 'a', 'y', 't', 'q')),\n",
       " (tensor([2, 4]), ('c', 'e'))]"
      ]
     },
     "execution_count": 91,
     "metadata": {},
     "output_type": "execute_result"
    }
   ],
   "source": [
    "dl = DataLoader(ds, batch_size=6, shuffle=True)  #Works with tuples as well\n",
    "list(dl)"
   ]
  },
  {
   "cell_type": "markdown",
   "metadata": {
    "id": "UPm2_qQ7F3fL"
   },
   "source": [
    "## Putting It All Together"
   ]
  },
  {
   "cell_type": "code",
   "execution_count": 92,
   "metadata": {
    "id": "Stc5ZqPjF3fL"
   },
   "outputs": [],
   "source": [
    "#get initial weights and bias\n",
    "weights = init_params((28*28,1))\n",
    "bias = init_params(1)"
   ]
  },
  {
   "cell_type": "code",
   "execution_count": 95,
   "metadata": {
    "id": "dqS2QnP6F3fL"
   },
   "outputs": [
    {
     "data": {
      "text/plain": [
       "(torch.Size([256, 784]), torch.Size([256, 1]))"
      ]
     },
     "execution_count": 95,
     "metadata": {},
     "output_type": "execute_result"
    }
   ],
   "source": [
    "dl = DataLoader(dset, batch_size=256) #create minibatches\n",
    "\n",
    "#We can grab the first batch and take a look at it\n",
    "xb,yb = first(dl)\n",
    "xb.shape,yb.shape"
   ]
  },
  {
   "cell_type": "code",
   "execution_count": 96,
   "metadata": {
    "id": "hg-QWEh0F3fL"
   },
   "outputs": [],
   "source": [
    "valid_dl = DataLoader(valid_dset, batch_size=256) #Create minibatch for validation set"
   ]
  },
  {
   "cell_type": "markdown",
   "metadata": {},
   "source": [
    "### Creating and testing with our own batch first"
   ]
  },
  {
   "cell_type": "code",
   "execution_count": 97,
   "metadata": {
    "id": "bASyijgQF3fL"
   },
   "outputs": [
    {
     "data": {
      "text/plain": [
       "torch.Size([4, 784])"
      ]
     },
     "execution_count": 97,
     "metadata": {},
     "output_type": "execute_result"
    }
   ],
   "source": [
    "#Create batch\n",
    "batch = train_x[:4]\n",
    "batch.shape"
   ]
  },
  {
   "cell_type": "code",
   "execution_count": null,
   "metadata": {},
   "outputs": [],
   "source": [
    "linear1??"
   ]
  },
  {
   "cell_type": "code",
   "execution_count": 99,
   "metadata": {
    "id": "XQCI4qlzF3fL"
   },
   "outputs": [
    {
     "data": {
      "text/plain": [
       "tensor([[10.1946],\n",
       "        [ 3.4763],\n",
       "        [12.7263],\n",
       "        [ 7.4847]], grad_fn=<AddBackward0>)"
      ]
     },
     "execution_count": 99,
     "metadata": {},
     "output_type": "execute_result"
    }
   ],
   "source": [
    "#Get pred\n",
    "preds = linear1(batch)\n",
    "preds"
   ]
  },
  {
   "cell_type": "code",
   "execution_count": 100,
   "metadata": {
    "id": "HZaTtYYiF3fM"
   },
   "outputs": [
    {
     "data": {
      "text/plain": [
       "tensor(0.0076, grad_fn=<MeanBackward0>)"
      ]
     },
     "execution_count": 100,
     "metadata": {},
     "output_type": "execute_result"
    }
   ],
   "source": [
    "#Calc loss\n",
    "loss = mnist_loss(preds, train_y[:4])\n",
    "loss"
   ]
  },
  {
   "cell_type": "code",
   "execution_count": 125,
   "metadata": {},
   "outputs": [],
   "source": [
    "mnist_loss??"
   ]
  },
  {
   "cell_type": "code",
   "execution_count": 101,
   "metadata": {
    "id": "xsFgQthsF3fM"
   },
   "outputs": [
    {
     "data": {
      "text/plain": [
       "(torch.Size([784, 1]), tensor(-0.0011), tensor([-0.0074]))"
      ]
     },
     "execution_count": 101,
     "metadata": {},
     "output_type": "execute_result"
    }
   ],
   "source": [
    "#Calc grad\n",
    "loss.backward()\n",
    "weights.grad.shape, weights.grad.mean(), bias.grad"
   ]
  },
  {
   "cell_type": "markdown",
   "metadata": {},
   "source": [
    "### Put the above into a single func"
   ]
  },
  {
   "cell_type": "code",
   "execution_count": 102,
   "metadata": {
    "id": "yPYmQCU1F3fM"
   },
   "outputs": [],
   "source": [
    "def calc_grad(xb, yb, model):\n",
    "    preds = model(xb)\n",
    "    loss = mnist_loss(preds, yb)\n",
    "    loss.backward()"
   ]
  },
  {
   "cell_type": "code",
   "execution_count": 262,
   "metadata": {
    "id": "O8Cxp1kTF3fM"
   },
   "outputs": [
    {
     "data": {
      "text/plain": [
       "(tensor(-7.1430e-05), tensor([-0.0005]))"
      ]
     },
     "execution_count": 262,
     "metadata": {},
     "output_type": "execute_result"
    }
   ],
   "source": [
    "calc_grad(batch, train_y[:4], linear1)\n",
    "weights.grad.mean(),bias.grad"
   ]
  },
  {
   "cell_type": "code",
   "execution_count": 263,
   "metadata": {
    "id": "rS_Yr6htF3fM"
   },
   "outputs": [
    {
     "data": {
      "text/plain": [
       "(tensor(-0.0001), tensor([-0.0008]))"
      ]
     },
     "execution_count": 263,
     "metadata": {},
     "output_type": "execute_result"
    }
   ],
   "source": [
    "#If we call it again, the values change: This should NOT happen\n",
    "calc_grad(batch, train_y[:4], linear1)\n",
    "weights.grad.mean(),bias.grad"
   ]
  },
  {
   "cell_type": "code",
   "execution_count": 264,
   "metadata": {
    "id": "cShdPKNZF3fM"
   },
   "outputs": [],
   "source": [
    "#Fix the issue above by setting to 0\n",
    "weights.grad.zero_()\n",
    "bias.grad.zero_();"
   ]
  },
  {
   "cell_type": "markdown",
   "metadata": {},
   "source": [
    "### How to do an epoch"
   ]
  },
  {
   "cell_type": "code",
   "execution_count": 105,
   "metadata": {
    "id": "GaXaSl-iF3fM"
   },
   "outputs": [],
   "source": [
    "def train_epoch(model, lr, params):\n",
    "    for xb,yb in dl: #get x and y batch\n",
    "        calc_grad(xb, yb, model) #Calc grad\n",
    "        \n",
    "        for p in params: \n",
    "            p.data -= p.grad*lr #Update/take a step\n",
    "            p.grad.zero_() #Set grad to zero"
   ]
  },
  {
   "cell_type": "code",
   "execution_count": 106,
   "metadata": {
    "id": "kNeWTxJuF3fN",
    "scrolled": false
   },
   "outputs": [
    {
     "data": {
      "text/plain": [
       "tensor([[True],\n",
       "        [True],\n",
       "        [True],\n",
       "        [True]])"
      ]
     },
     "execution_count": 106,
     "metadata": {},
     "output_type": "execute_result"
    }
   ],
   "source": [
    "(preds>0.0).float() == train_y[:4]"
   ]
  },
  {
   "cell_type": "code",
   "execution_count": 107,
   "metadata": {
    "id": "47WbHp_JF3fN"
   },
   "outputs": [],
   "source": [
    "def batch_accuracy(xb, yb):\n",
    "    preds = xb.sigmoid()\n",
    "    correct = (preds>0.5).float() == yb  #.5 because sigmoid(0) = .5\n",
    "    return correct.float().mean()"
   ]
  },
  {
   "cell_type": "code",
   "execution_count": 108,
   "metadata": {
    "id": "ciRsPFNdF3fN"
   },
   "outputs": [
    {
     "data": {
      "text/plain": [
       "tensor(1.)"
      ]
     },
     "execution_count": 108,
     "metadata": {},
     "output_type": "execute_result"
    }
   ],
   "source": [
    "batch_accuracy(linear1(batch), train_y[:4])"
   ]
  },
  {
   "cell_type": "code",
   "execution_count": 109,
   "metadata": {
    "id": "hOSHS7SRF3fN"
   },
   "outputs": [],
   "source": [
    "def validate_epoch(model):\n",
    "    accs = [batch_accuracy(model(xb), yb) for xb,yb in valid_dl]\n",
    "    return round(torch.stack(accs).mean().item(), 4)"
   ]
  },
  {
   "cell_type": "code",
   "execution_count": 110,
   "metadata": {
    "id": "jzI-0VzdF3fN"
   },
   "outputs": [
    {
     "data": {
      "text/plain": [
       "0.4607"
      ]
     },
     "execution_count": 110,
     "metadata": {},
     "output_type": "execute_result"
    }
   ],
   "source": [
    "validate_epoch(linear1)"
   ]
  },
  {
   "cell_type": "code",
   "execution_count": 111,
   "metadata": {
    "id": "XXS5a97-F3fN"
   },
   "outputs": [
    {
     "data": {
      "text/plain": [
       "0.637"
      ]
     },
     "execution_count": 111,
     "metadata": {},
     "output_type": "execute_result"
    }
   ],
   "source": [
    "lr = 1.\n",
    "params = weights,bias\n",
    "train_epoch(linear1, lr, params)\n",
    "validate_epoch(linear1)"
   ]
  },
  {
   "cell_type": "code",
   "execution_count": 112,
   "metadata": {
    "id": "6q2rBim5F3fN"
   },
   "outputs": [
    {
     "name": "stdout",
     "output_type": "stream",
     "text": [
      "0.791\n",
      "0.8925\n",
      "0.9315\n",
      "0.9476\n",
      "0.9515\n",
      "0.9579\n",
      "0.9637\n",
      "0.9652\n",
      "0.9667\n",
      "0.9672\n",
      "0.9677\n",
      "0.9701\n",
      "0.9706\n",
      "0.9711\n",
      "0.9725\n",
      "0.9735\n",
      "0.9735\n",
      "0.974\n",
      "0.974\n",
      "0.9745\n"
     ]
    }
   ],
   "source": [
    "for i in range(20):\n",
    "    train_epoch(linear1, lr, params)\n",
    "    print(validate_epoch(linear1))"
   ]
  },
  {
   "cell_type": "markdown",
   "metadata": {
    "id": "QQB5IkX6F3fO"
   },
   "source": [
    "### Creating an Optimizer - Basically optimizing the above stuff we did"
   ]
  },
  {
   "cell_type": "code",
   "execution_count": 115,
   "metadata": {
    "id": "7aDM5v7oF3fO"
   },
   "outputs": [],
   "source": [
    "                      #Weights #Bias\n",
    "linear_model = nn.Linear(28*28,1) #Does exactly what out funtion linear1 does and initialzes our parameters for us"
   ]
  },
  {
   "cell_type": "code",
   "execution_count": 116,
   "metadata": {
    "id": "N-MVjRXbF3fO"
   },
   "outputs": [
    {
     "data": {
      "text/plain": [
       "(torch.Size([1, 784]), torch.Size([1]))"
      ]
     },
     "execution_count": 116,
     "metadata": {},
     "output_type": "execute_result"
    }
   ],
   "source": [
    " #Viewing the parameters\n",
    "w,b = linear_model.parameters()\n",
    "w.shape,b.shape"
   ]
  },
  {
   "cell_type": "code",
   "execution_count": 118,
   "metadata": {
    "id": "LNKASVGpF3fO"
   },
   "outputs": [],
   "source": [
    "class BasicOptim:\n",
    "    def __init__(self,params,lr): \n",
    "        self.params = list(params)\n",
    "        self.lr = lr\n",
    " \n",
    "    def step(self, *args, **kwargs):\n",
    "        for p in self.params: \n",
    "            p.data -= p.grad.data * self.lr\n",
    "\n",
    "    def zero_grad(self, *args, **kwargs):\n",
    "        for p in self.params: \n",
    "            p.grad = None"
   ]
  },
  {
   "cell_type": "code",
   "execution_count": 119,
   "metadata": {
    "id": "m9or1NurF3fO"
   },
   "outputs": [],
   "source": [
    "opt = BasicOptim(linear_model.parameters(), lr)"
   ]
  },
  {
   "cell_type": "code",
   "execution_count": 120,
   "metadata": {
    "id": "K1egKaE7F3fR"
   },
   "outputs": [],
   "source": [
    "def train_epoch(model):\n",
    "    for xb,yb in dl:\n",
    "        calc_grad(xb, yb, model)\n",
    "        opt.step()\n",
    "        opt.zero_grad()"
   ]
  },
  {
   "cell_type": "code",
   "execution_count": 121,
   "metadata": {
    "id": "2AXwK6uWF3fR"
   },
   "outputs": [
    {
     "data": {
      "text/plain": [
       "0.3794"
      ]
     },
     "execution_count": 121,
     "metadata": {},
     "output_type": "execute_result"
    }
   ],
   "source": [
    "validate_epoch(linear_model)"
   ]
  },
  {
   "cell_type": "code",
   "execution_count": 122,
   "metadata": {
    "id": "B9X1FLq5F3fR"
   },
   "outputs": [],
   "source": [
    "def train_model(model, epochs):\n",
    "    for i in range(epochs):\n",
    "        train_epoch(model)\n",
    "        print(validate_epoch(model), end=' ')"
   ]
  },
  {
   "cell_type": "code",
   "execution_count": 123,
   "metadata": {
    "id": "RQPJ8JYYF3fR",
    "scrolled": true
   },
   "outputs": [
    {
     "name": "stdout",
     "output_type": "stream",
     "text": [
      "0.4932 0.7476 0.8511 0.9155 0.9346 0.9482 0.9555 0.9629 0.9658 0.9673 0.9707 0.9722 0.9736 0.9751 0.9761 0.9766 0.9775 0.9775 0.9785 0.9785 "
     ]
    }
   ],
   "source": [
    "train_model(linear_model, 20)"
   ]
  },
  {
   "cell_type": "markdown",
   "metadata": {},
   "source": [
    "## Can further optimize by using fastai  "
   ]
  },
  {
   "cell_type": "code",
   "execution_count": 124,
   "metadata": {
    "id": "CJX9kCE_F3fR",
    "scrolled": true
   },
   "outputs": [
    {
     "name": "stdout",
     "output_type": "stream",
     "text": [
      "0.4932 0.7393 0.8613 0.9175 0.9365 0.9497 0.957 0.9634 0.9663 0.9673 0.9702 0.9727 0.9736 0.9751 0.9761 0.9766 0.9775 0.978 0.978 0.979 "
     ]
    }
   ],
   "source": [
    "linear_model = nn.Linear(28*28,1)\n",
    "opt = SGD(linear_model.parameters(), lr) \n",
    "train_model(linear_model, 20)"
   ]
  },
  {
   "cell_type": "markdown",
   "metadata": {},
   "source": [
    "### Finally the most simplest way"
   ]
  },
  {
   "cell_type": "code",
   "execution_count": 126,
   "metadata": {
    "id": "A9v90LZNF3fS"
   },
   "outputs": [],
   "source": [
    "dls = DataLoaders(dl, valid_dl) #NOT dataLoader, this class stores away the train and valid data into a single obj"
   ]
  },
  {
   "cell_type": "code",
   "execution_count": 127,
   "metadata": {
    "id": "npIrQheIF3fS"
   },
   "outputs": [],
   "source": [
    "learn = Learner(dls, nn.Linear(28*28,1), opt_func=SGD,\n",
    "                loss_func=mnist_loss, metrics=batch_accuracy)"
   ]
  },
  {
   "cell_type": "code",
   "execution_count": 128,
   "metadata": {
    "id": "vWlc0Q-bF3fS"
   },
   "outputs": [
    {
     "data": {
      "text/html": [
       "<table border=\"1\" class=\"dataframe\">\n",
       "  <thead>\n",
       "    <tr style=\"text-align: left;\">\n",
       "      <th>epoch</th>\n",
       "      <th>train_loss</th>\n",
       "      <th>valid_loss</th>\n",
       "      <th>batch_accuracy</th>\n",
       "      <th>time</th>\n",
       "    </tr>\n",
       "  </thead>\n",
       "  <tbody>\n",
       "    <tr>\n",
       "      <td>0</td>\n",
       "      <td>0.636365</td>\n",
       "      <td>0.503465</td>\n",
       "      <td>0.495584</td>\n",
       "      <td>00:00</td>\n",
       "    </tr>\n",
       "    <tr>\n",
       "      <td>1</td>\n",
       "      <td>0.521433</td>\n",
       "      <td>0.170448</td>\n",
       "      <td>0.864082</td>\n",
       "      <td>00:00</td>\n",
       "    </tr>\n",
       "    <tr>\n",
       "      <td>2</td>\n",
       "      <td>0.191138</td>\n",
       "      <td>0.189521</td>\n",
       "      <td>0.824828</td>\n",
       "      <td>00:00</td>\n",
       "    </tr>\n",
       "    <tr>\n",
       "      <td>3</td>\n",
       "      <td>0.083866</td>\n",
       "      <td>0.109406</td>\n",
       "      <td>0.910697</td>\n",
       "      <td>00:00</td>\n",
       "    </tr>\n",
       "    <tr>\n",
       "      <td>4</td>\n",
       "      <td>0.044337</td>\n",
       "      <td>0.079229</td>\n",
       "      <td>0.932777</td>\n",
       "      <td>00:00</td>\n",
       "    </tr>\n",
       "    <tr>\n",
       "      <td>5</td>\n",
       "      <td>0.028900</td>\n",
       "      <td>0.063259</td>\n",
       "      <td>0.947007</td>\n",
       "      <td>00:00</td>\n",
       "    </tr>\n",
       "    <tr>\n",
       "      <td>6</td>\n",
       "      <td>0.022547</td>\n",
       "      <td>0.053348</td>\n",
       "      <td>0.954367</td>\n",
       "      <td>00:00</td>\n",
       "    </tr>\n",
       "    <tr>\n",
       "      <td>7</td>\n",
       "      <td>0.019723</td>\n",
       "      <td>0.046764</td>\n",
       "      <td>0.961727</td>\n",
       "      <td>00:00</td>\n",
       "    </tr>\n",
       "    <tr>\n",
       "      <td>8</td>\n",
       "      <td>0.018294</td>\n",
       "      <td>0.042152</td>\n",
       "      <td>0.965653</td>\n",
       "      <td>00:00</td>\n",
       "    </tr>\n",
       "    <tr>\n",
       "      <td>9</td>\n",
       "      <td>0.017439</td>\n",
       "      <td>0.038766</td>\n",
       "      <td>0.967615</td>\n",
       "      <td>00:00</td>\n",
       "    </tr>\n",
       "  </tbody>\n",
       "</table>"
      ],
      "text/plain": [
       "<IPython.core.display.HTML object>"
      ]
     },
     "metadata": {},
     "output_type": "display_data"
    }
   ],
   "source": [
    "learn.fit(10, lr=lr)"
   ]
  },
  {
   "cell_type": "markdown",
   "metadata": {
    "id": "yioPMd8XF3fS"
   },
   "source": [
    "## Adding a Nonlinearity"
   ]
  },
  {
   "cell_type": "code",
   "execution_count": 129,
   "metadata": {
    "id": "nS0DdO5DF3fS"
   },
   "outputs": [],
   "source": [
    "def simple_net(xb): \n",
    "    res = xb@w1 + b1 #Linear func\n",
    "    res = res.max(tensor(0.0)) #Activation func: ReLU\n",
    "    res = res@w2 + b2 #Linear func\n",
    "    return res"
   ]
  },
  {
   "cell_type": "code",
   "execution_count": 130,
   "metadata": {
    "id": "QFVe7uO4F3fT"
   },
   "outputs": [],
   "source": [
    "w1 = init_params((28*28,30))\n",
    "b1 = init_params(30)\n",
    "w2 = init_params((30,1))\n",
    "b2 = init_params(1)"
   ]
  },
  {
   "cell_type": "code",
   "execution_count": 131,
   "metadata": {
    "id": "wDA1POorF3fT"
   },
   "outputs": [
    {
     "data": {
      "image/png": "[encoded data removed]",
      "text/plain": [
       "<Figure size 432x288 with 1 Axes>"
      ]
     },
     "metadata": {
      "needs_background": "light"
     },
     "output_type": "display_data"
    }
   ],
   "source": [
    "plot_function(F.relu)"
   ]
  },
  {
   "cell_type": "code",
   "execution_count": 134,
   "metadata": {
    "id": "k0UEELnCF3fT"
   },
   "outputs": [],
   "source": [
    "#Can use sequential method to create nonlinearity\n",
    "simple_net = nn.Sequential(\n",
    "    nn.Linear(28*28,30), #30 sets of weights\n",
    "    nn.ReLU(),\n",
    "    nn.Linear(30,1) #convert back into 1 set of weights\n",
    ")"
   ]
  },
  {
   "cell_type": "code",
   "execution_count": 135,
   "metadata": {
    "id": "w7xFBkRLF3fT"
   },
   "outputs": [],
   "source": [
    "learn = Learner(dls, simple_net, opt_func=SGD,\n",
    "                loss_func=mnist_loss, metrics=batch_accuracy)"
   ]
  },
  {
   "cell_type": "code",
   "execution_count": 136,
   "metadata": {
    "id": "hb8fW0bDF3fT"
   },
   "outputs": [
    {
     "data": {
      "text/html": [
       "<table border=\"1\" class=\"dataframe\">\n",
       "  <thead>\n",
       "    <tr style=\"text-align: left;\">\n",
       "      <th>epoch</th>\n",
       "      <th>train_loss</th>\n",
       "      <th>valid_loss</th>\n",
       "      <th>batch_accuracy</th>\n",
       "      <th>time</th>\n",
       "    </tr>\n",
       "  </thead>\n",
       "  <tbody>\n",
       "    <tr>\n",
       "      <td>0</td>\n",
       "      <td>0.324376</td>\n",
       "      <td>0.404988</td>\n",
       "      <td>0.505888</td>\n",
       "      <td>00:00</td>\n",
       "    </tr>\n",
       "    <tr>\n",
       "      <td>1</td>\n",
       "      <td>0.150483</td>\n",
       "      <td>0.233413</td>\n",
       "      <td>0.803238</td>\n",
       "      <td>00:00</td>\n",
       "    </tr>\n",
       "    <tr>\n",
       "      <td>2</td>\n",
       "      <td>0.083043</td>\n",
       "      <td>0.117188</td>\n",
       "      <td>0.912169</td>\n",
       "      <td>00:00</td>\n",
       "    </tr>\n",
       "    <tr>\n",
       "      <td>3</td>\n",
       "      <td>0.054295</td>\n",
       "      <td>0.078788</td>\n",
       "      <td>0.940628</td>\n",
       "      <td>00:00</td>\n",
       "    </tr>\n",
       "    <tr>\n",
       "      <td>4</td>\n",
       "      <td>0.040957</td>\n",
       "      <td>0.061365</td>\n",
       "      <td>0.956330</td>\n",
       "      <td>00:00</td>\n",
       "    </tr>\n",
       "    <tr>\n",
       "      <td>5</td>\n",
       "      <td>0.034142</td>\n",
       "      <td>0.051610</td>\n",
       "      <td>0.962709</td>\n",
       "      <td>00:00</td>\n",
       "    </tr>\n",
       "    <tr>\n",
       "      <td>6</td>\n",
       "      <td>0.030232</td>\n",
       "      <td>0.045451</td>\n",
       "      <td>0.965653</td>\n",
       "      <td>00:00</td>\n",
       "    </tr>\n",
       "    <tr>\n",
       "      <td>7</td>\n",
       "      <td>0.027697</td>\n",
       "      <td>0.041252</td>\n",
       "      <td>0.967125</td>\n",
       "      <td>00:00</td>\n",
       "    </tr>\n",
       "    <tr>\n",
       "      <td>8</td>\n",
       "      <td>0.025878</td>\n",
       "      <td>0.038205</td>\n",
       "      <td>0.968106</td>\n",
       "      <td>00:00</td>\n",
       "    </tr>\n",
       "    <tr>\n",
       "      <td>9</td>\n",
       "      <td>0.024475</td>\n",
       "      <td>0.035891</td>\n",
       "      <td>0.970069</td>\n",
       "      <td>00:00</td>\n",
       "    </tr>\n",
       "    <tr>\n",
       "      <td>10</td>\n",
       "      <td>0.023342</td>\n",
       "      <td>0.034062</td>\n",
       "      <td>0.972522</td>\n",
       "      <td>00:00</td>\n",
       "    </tr>\n",
       "    <tr>\n",
       "      <td>11</td>\n",
       "      <td>0.022400</td>\n",
       "      <td>0.032572</td>\n",
       "      <td>0.973013</td>\n",
       "      <td>00:00</td>\n",
       "    </tr>\n",
       "    <tr>\n",
       "      <td>12</td>\n",
       "      <td>0.021602</td>\n",
       "      <td>0.031321</td>\n",
       "      <td>0.973994</td>\n",
       "      <td>00:00</td>\n",
       "    </tr>\n",
       "    <tr>\n",
       "      <td>13</td>\n",
       "      <td>0.020913</td>\n",
       "      <td>0.030250</td>\n",
       "      <td>0.973994</td>\n",
       "      <td>00:00</td>\n",
       "    </tr>\n",
       "    <tr>\n",
       "      <td>14</td>\n",
       "      <td>0.020312</td>\n",
       "      <td>0.029316</td>\n",
       "      <td>0.974975</td>\n",
       "      <td>00:00</td>\n",
       "    </tr>\n",
       "    <tr>\n",
       "      <td>15</td>\n",
       "      <td>0.019781</td>\n",
       "      <td>0.028492</td>\n",
       "      <td>0.976448</td>\n",
       "      <td>00:00</td>\n",
       "    </tr>\n",
       "    <tr>\n",
       "      <td>16</td>\n",
       "      <td>0.019307</td>\n",
       "      <td>0.027757</td>\n",
       "      <td>0.977920</td>\n",
       "      <td>00:00</td>\n",
       "    </tr>\n",
       "    <tr>\n",
       "      <td>17</td>\n",
       "      <td>0.018882</td>\n",
       "      <td>0.027094</td>\n",
       "      <td>0.978901</td>\n",
       "      <td>00:00</td>\n",
       "    </tr>\n",
       "    <tr>\n",
       "      <td>18</td>\n",
       "      <td>0.018496</td>\n",
       "      <td>0.026495</td>\n",
       "      <td>0.978901</td>\n",
       "      <td>00:00</td>\n",
       "    </tr>\n",
       "    <tr>\n",
       "      <td>19</td>\n",
       "      <td>0.018143</td>\n",
       "      <td>0.025950</td>\n",
       "      <td>0.979392</td>\n",
       "      <td>00:00</td>\n",
       "    </tr>\n",
       "    <tr>\n",
       "      <td>20</td>\n",
       "      <td>0.017820</td>\n",
       "      <td>0.025452</td>\n",
       "      <td>0.979392</td>\n",
       "      <td>00:00</td>\n",
       "    </tr>\n",
       "    <tr>\n",
       "      <td>21</td>\n",
       "      <td>0.017520</td>\n",
       "      <td>0.024996</td>\n",
       "      <td>0.979392</td>\n",
       "      <td>00:00</td>\n",
       "    </tr>\n",
       "    <tr>\n",
       "      <td>22</td>\n",
       "      <td>0.017242</td>\n",
       "      <td>0.024576</td>\n",
       "      <td>0.979882</td>\n",
       "      <td>00:00</td>\n",
       "    </tr>\n",
       "    <tr>\n",
       "      <td>23</td>\n",
       "      <td>0.016983</td>\n",
       "      <td>0.024189</td>\n",
       "      <td>0.980864</td>\n",
       "      <td>00:00</td>\n",
       "    </tr>\n",
       "    <tr>\n",
       "      <td>24</td>\n",
       "      <td>0.016740</td>\n",
       "      <td>0.023832</td>\n",
       "      <td>0.981354</td>\n",
       "      <td>00:00</td>\n",
       "    </tr>\n",
       "    <tr>\n",
       "      <td>25</td>\n",
       "      <td>0.016511</td>\n",
       "      <td>0.023501</td>\n",
       "      <td>0.981354</td>\n",
       "      <td>00:00</td>\n",
       "    </tr>\n",
       "    <tr>\n",
       "      <td>26</td>\n",
       "      <td>0.016295</td>\n",
       "      <td>0.023195</td>\n",
       "      <td>0.981354</td>\n",
       "      <td>00:00</td>\n",
       "    </tr>\n",
       "    <tr>\n",
       "      <td>27</td>\n",
       "      <td>0.016090</td>\n",
       "      <td>0.022910</td>\n",
       "      <td>0.981354</td>\n",
       "      <td>00:00</td>\n",
       "    </tr>\n",
       "    <tr>\n",
       "      <td>28</td>\n",
       "      <td>0.015896</td>\n",
       "      <td>0.022645</td>\n",
       "      <td>0.982826</td>\n",
       "      <td>00:00</td>\n",
       "    </tr>\n",
       "    <tr>\n",
       "      <td>29</td>\n",
       "      <td>0.015711</td>\n",
       "      <td>0.022398</td>\n",
       "      <td>0.982826</td>\n",
       "      <td>00:00</td>\n",
       "    </tr>\n",
       "    <tr>\n",
       "      <td>30</td>\n",
       "      <td>0.015535</td>\n",
       "      <td>0.022167</td>\n",
       "      <td>0.982336</td>\n",
       "      <td>00:00</td>\n",
       "    </tr>\n",
       "    <tr>\n",
       "      <td>31</td>\n",
       "      <td>0.015367</td>\n",
       "      <td>0.021952</td>\n",
       "      <td>0.982826</td>\n",
       "      <td>00:00</td>\n",
       "    </tr>\n",
       "    <tr>\n",
       "      <td>32</td>\n",
       "      <td>0.015206</td>\n",
       "      <td>0.021750</td>\n",
       "      <td>0.982826</td>\n",
       "      <td>00:00</td>\n",
       "    </tr>\n",
       "    <tr>\n",
       "      <td>33</td>\n",
       "      <td>0.015052</td>\n",
       "      <td>0.021560</td>\n",
       "      <td>0.982826</td>\n",
       "      <td>00:00</td>\n",
       "    </tr>\n",
       "    <tr>\n",
       "      <td>34</td>\n",
       "      <td>0.014904</td>\n",
       "      <td>0.021382</td>\n",
       "      <td>0.982826</td>\n",
       "      <td>00:00</td>\n",
       "    </tr>\n",
       "    <tr>\n",
       "      <td>35</td>\n",
       "      <td>0.014762</td>\n",
       "      <td>0.021215</td>\n",
       "      <td>0.982826</td>\n",
       "      <td>00:00</td>\n",
       "    </tr>\n",
       "    <tr>\n",
       "      <td>36</td>\n",
       "      <td>0.014625</td>\n",
       "      <td>0.021057</td>\n",
       "      <td>0.982826</td>\n",
       "      <td>00:00</td>\n",
       "    </tr>\n",
       "    <tr>\n",
       "      <td>37</td>\n",
       "      <td>0.014494</td>\n",
       "      <td>0.020908</td>\n",
       "      <td>0.982826</td>\n",
       "      <td>00:00</td>\n",
       "    </tr>\n",
       "    <tr>\n",
       "      <td>38</td>\n",
       "      <td>0.014367</td>\n",
       "      <td>0.020767</td>\n",
       "      <td>0.982826</td>\n",
       "      <td>00:00</td>\n",
       "    </tr>\n",
       "    <tr>\n",
       "      <td>39</td>\n",
       "      <td>0.014245</td>\n",
       "      <td>0.020634</td>\n",
       "      <td>0.982826</td>\n",
       "      <td>00:00</td>\n",
       "    </tr>\n",
       "  </tbody>\n",
       "</table>"
      ],
      "text/plain": [
       "<IPython.core.display.HTML object>"
      ]
     },
     "metadata": {},
     "output_type": "display_data"
    }
   ],
   "source": [
    "learn.fit(40, 0.1)"
   ]
  },
  {
   "cell_type": "code",
   "execution_count": 137,
   "metadata": {
    "id": "_0K34hRcF3fT"
   },
   "outputs": [
    {
     "data": {
      "image/png": "[encoded data removed]",
      "text/plain": [
       "<Figure size 432x288 with 1 Axes>"
      ]
     },
     "metadata": {
      "needs_background": "light"
     },
     "output_type": "display_data"
    }
   ],
   "source": [
    "plt.plot(L(learn.recorder.values).itemgot(2));"
   ]
  },
  {
   "cell_type": "code",
   "execution_count": 138,
   "metadata": {
    "id": "ueb-OJ8sF3fU",
    "scrolled": true
   },
   "outputs": [
    {
     "data": {
      "text/plain": [
       "0.982826292514801"
      ]
     },
     "execution_count": 138,
     "metadata": {},
     "output_type": "execute_result"
    }
   ],
   "source": [
    "learn.recorder.values[-1][2]"
   ]
  },
  {
   "cell_type": "code",
   "execution_count": 139,
   "metadata": {},
   "outputs": [
    {
     "data": {
      "text/plain": [
       "Sequential(\n",
       "  (0): Linear(in_features=784, out_features=30, bias=True)\n",
       "  (1): ReLU()\n",
       "  (2): Linear(in_features=30, out_features=1, bias=True)\n",
       ")"
      ]
     },
     "execution_count": 139,
     "metadata": {},
     "output_type": "execute_result"
    }
   ],
   "source": [
    "m = learn.model\n",
    "m"
   ]
  },
  {
   "cell_type": "code",
   "execution_count": 140,
   "metadata": {},
   "outputs": [],
   "source": [
    "w, b = m[0].parameters()"
   ]
  },
  {
   "cell_type": "code",
   "execution_count": 141,
   "metadata": {
    "scrolled": true
   },
   "outputs": [
    {
     "data": {
      "text/plain": [
       "torch.Size([30, 784])"
      ]
     },
     "execution_count": 141,
     "metadata": {},
     "output_type": "execute_result"
    }
   ],
   "source": [
    "w.shape"
   ]
  },
  {
   "cell_type": "code",
   "execution_count": null,
   "metadata": {
    "scrolled": false
   },
   "outputs": [],
   "source": [
    "#w[0].view(28,28)"
   ]
  },
  {
   "cell_type": "code",
   "execution_count": 147,
   "metadata": {
    "scrolled": true
   },
   "outputs": [
    {
     "data": {
      "text/plain": [
       "<AxesSubplot:>"
      ]
     },
     "execution_count": 147,
     "metadata": {},
     "output_type": "execute_result"
    },
    {
     "data": {
      "image/png": "[encoded data removed]",
      "text/plain": [
       "<Figure size 72x72 with 1 Axes>"
      ]
     },
     "metadata": {
      "needs_background": "light"
     },
     "output_type": "display_data"
    }
   ],
   "source": [
    "show_image(w[2].view(28,28))"
   ]
  },
  {
   "cell_type": "markdown",
   "metadata": {
    "id": "I3z9_AOUF3fU"
   },
   "source": [
    "### Going Deeper - Using FastAI's model resnet18"
   ]
  },
  {
   "cell_type": "code",
   "execution_count": 148,
   "metadata": {
    "id": "1XVLpMXFF3fU",
    "scrolled": false
   },
   "outputs": [
    {
     "data": {
      "text/html": [
       "<table border=\"1\" class=\"dataframe\">\n",
       "  <thead>\n",
       "    <tr style=\"text-align: left;\">\n",
       "      <th>epoch</th>\n",
       "      <th>train_loss</th>\n",
       "      <th>valid_loss</th>\n",
       "      <th>accuracy</th>\n",
       "      <th>time</th>\n",
       "    </tr>\n",
       "  </thead>\n",
       "  <tbody>\n",
       "    <tr>\n",
       "      <td>0</td>\n",
       "      <td>0.132423</td>\n",
       "      <td>0.036220</td>\n",
       "      <td>0.995093</td>\n",
       "      <td>00:17</td>\n",
       "    </tr>\n",
       "  </tbody>\n",
       "</table>"
      ],
      "text/plain": [
       "<IPython.core.display.HTML object>"
      ]
     },
     "metadata": {},
     "output_type": "display_data"
    }
   ],
   "source": [
    "dls = ImageDataLoaders.from_folder(path)\n",
    "learn = cnn_learner(dls, resnet18, pretrained=False,\n",
    "                    loss_func=F.cross_entropy, metrics=accuracy)\n",
    "learn.fit_one_cycle(1, 0.1) \n",
    "\n",
    "#Thats insane"
   ]
  },
  {
   "cell_type": "markdown",
   "metadata": {
    "id": "8Yj2MrvNF3fU"
   },
   "source": [
    "## Questionnaire"
   ]
  },
  {
   "cell_type": "markdown",
   "metadata": {
    "id": "EtYGdjUEF3fU"
   },
   "source": [
    "1. **How is a grayscale image represented on a computer? How about a color image?**  \n",
    "Image on the computer are represented by a number value, where 0=white, 255=black, and the grayscale inbetween.  \n",
    "A grayscale image is rank 2 (No color channels)  \n",
    "A color image is rank 3 (Has the 3 color channels, RGB)\n",
    "1. **How are the files and folders in the `MNIST_SAMPLE` dataset structured? Why?**  \n",
    "Files are split into train, valid, labels. This makes it easier as the training and validation set have already been presplit for for.\n",
    "1. **Explain how the \"pixel similarity\" approach to classifying digits works.**  \n",
    "This is similer to the Nearest neighbors approach, where one compare each test image with all training images. Only here, the image being compared to is an average of all the training images. Then using a distance metric we can find the abs difference between the images to identify it. \n",
    "1. **What is a list comprehension? Create one now that selects odd numbers from a list and doubles them.** \n",
    "A python condensing technique used with for-loop.  \n",
    "\n",
    "```python\n",
    "l = [i for i in range(20)]\n",
    "oddList = [i**2 for i in l if i%2 != 0]\n",
    "```\n",
    "1. **What is a \"rank-3 tensor\"?**  \n",
    "A 3 dimensional tensor (Also known as a volumn).\n",
    "1. **What is the difference between tensor rank and shape? How do you get the rank from the shape?**  \n",
    "Rank refers to the number of dimensions in a tensor  \n",
    "Shape is the size of each dimension of a tensor  \n",
    "  \n",
    "  Taking the len(shape) = rank\n",
    "1. **What are RMSE and L1 norm?**  \n",
    "Loss functions\n",
    "1. **How can you apply a calculation on thousands of numbers at once, many thousands of times faster than a Python loop?**  \n",
    "Broadcasting\n",
    "1. **Create a 3×3 tensor or array containing the numbers from 1 to 9. Double it. Select the bottom-right four numbers.**  \n",
    "```python\n",
    "t = tensor(list(range(1,10))).view(3,3)\n",
    "t[1:,0:2]\n",
    "```\n",
    "1. **What is broadcasting?**  \n",
    "A technique of applying an operation onto all values within an object, often, regardless of tensor (Exceptions do apply).  \n",
    "1. **Are metrics generally calculated using the training set, or the validation set? Why?**  \n",
    "Validation set as it contains unseen data. \n",
    "1. **What is SGD?**  \n",
    "Optimization algorithm. This is what causes the loss to decrease as it steps/updates the parameters. \n",
    "1. **Why does SGD use mini-batches?**  \n",
    "Minibatches are faster and more efficient on GPU. Also, they gradient is calculated more appropriately as doing it across the entire batch could cause unstable and imprecise gradients. \n",
    "1. **What are the seven steps in SGD for machine learning?**  \n",
    "Initialize parameters  \n",
    "Compute perdiction  \n",
    "Get loss  \n",
    "Get gradients  \n",
    "Update wieghts  \n",
    "Repeat  \n",
    "Stop\n",
    "1. **How do we initialize the weights in a model?**  \n",
    "Randomly\n",
    "1. **What is \"loss\"?**  \n",
    "A metric used by the computer to determine its performance\n",
    "1. **Why can't we always use a high learning rate?**  \n",
    "Stepping to far can cause the model to increase loss or bounce and diverge\n",
    "1. **What is a \"gradient\"?**  \n",
    "Slope. This tell us how much we have to change each weight to make our model better.\n",
    "1. **Do you need to know how to calculate gradients yourself?**  \n",
    "No\n",
    "1. **Why can't we use accuracy as a loss function?**  \n",
    "A loss function needs to change as the weights are being adjusted. Accuracy only changes if the predictions of the model changes. \n",
    "1. **Draw the sigmoid function. What is special about its shape?** \n",
    "![](https://forums.fast.ai/uploads/default/original/3X/1/1/11fa5da9a15e9b4db282ff9bc1f8237073173e7d.png)  \n",
    "Squishes all values between 0-1\n",
    "1. **What is the difference between a loss function and a metric?**  \n",
    "The loss function is understood by the computer, while a metric is understood by us humans.\n",
    "1. **What is the function to calculate new weights using a learning rate?**  \n",
    "The optimizer step function (Ex: SGD).\n",
    "1. **What does the `DataLoader` class do?**  \n",
    "Creates minibatches\n",
    "1. **Write pseudocode showing the basic steps taken in each epoch for SGD.**  \n",
    "```python\n",
    "for x,y in data:\n",
    "    pred = model(x)\n",
    "    loss = loss_func(pred, y)\n",
    "    loss.backward()\n",
    "    \n",
    "    for p in self.params:\n",
    "        p -= parameters.grad * lr\n",
    "        p.grad = None\n",
    "```\n",
    "1. **Create a function that, if passed two arguments `[1,2,3,4]` and `'abcd'`, returns `[(1, 'a'), (2, 'b'), (3, 'c'), (4, 'd')]`. What is special about that output data structure?**  \n",
    "```python\n",
    "def func(l1,l2):\n",
    "    return list(zip(l1,l2))\n",
    "```\n",
    "1. **What does `view` do in PyTorch?**  \n",
    "Reshapes tensor\n",
    "1. **What are the \"bias\" parameters in a neural network? Why do we need them?**  \n",
    "So that the gradient isnt set to 0 during the first iteration.\n",
    "1. **What does the `@` operator do in Python?**  \n",
    "Matrix multi\n",
    "1. **What does the `backward` method do?**  \n",
    "Calculated gradients\n",
    "1. **Why do we have to zero the gradients?**  \n",
    "PyTorch remembers the previously stored gradients\n",
    "1. **What information do we have to pass to `Learner`?**  \n",
    "dataset (DataLoaders), model (Ex:  nn.Linear), opt func (Ex: SGD), loss func (Ex: mnist_loss), metric(Optional)\n",
    "1. **Show Python or pseudocode for the basic steps of a training loop.**  \n",
    "```python\n",
    "    def train_epoch(model,lr,params):\n",
    "        for x,y in dl:\n",
    "            calc_grad(x,y,model)\n",
    "\n",
    "        for p in self.params:\n",
    "            p -= parameters.grad * lr\n",
    "            p.grad = None\n",
    "\n",
    "    for i in range(epochs):\n",
    "        train_epoch(model, lr, params)\n",
    "```\n",
    "    \n",
    "1. **What is \"ReLU\"? Draw a plot of it for values from `-2` to `+2`.**  \n",
    "Activation function\n",
    "1. **What is an \"activation function\"?**  \n",
    "The purpose of an activation function is to add non-linearity to the model. \n",
    "1. **What's the difference between `F.relu` and `nn.ReLU`?**  \n",
    "F.relu is a Python function\n",
    "nn.ReLU is a PyTorch module (So part of a class)\n",
    "1. **The universal approximation theorem shows that any function can be approximated as closely as needed using just one nonlinearity. So why do we normally use more?**  \n",
    "There are performance benefits to using more than one nonlinearity"
   ]
  },
  {
   "cell_type": "markdown",
   "metadata": {
    "id": "5bO4j56rF3fV"
   },
   "source": [
    "### Further Research"
   ]
  },
  {
   "cell_type": "markdown",
   "metadata": {
    "id": "wVuXxLBsF3fV"
   },
   "source": [
    "1. **Create your own implementation of `Learner` from scratch, based on the training loop shown in this chapter.**  \n",
    "1. **Complete all the steps in this chapter using the full MNIST datasets (that is, for all digits, not just 3s and 7s). This is a significant project and will take you quite a bit of time to complete! You'll need to do some of your own research to figure out how to overcome some obstacles you'll meet on the way.**  \n",
    "Completed. See https://usama280.github.io/PasteBlogs/"
   ]
  }
 ],
 "metadata": {
  "accelerator": "GPU",
  "colab": {
   "collapsed_sections": [
    "w0xQ0jfUF3fB",
    "W7uLCxewF3fB",
    "QA6v4Dv3F3fC",
    "V81Sx8esF3fC",
    "emoOEbh5F3fD",
    "RN0dLckxF3fD",
    "LPuqzfJKF3fD",
    "1P-RgMV6F3fF",
    "vBB0Gu6XF3fF",
    "npUG-MEjF3fF",
    "Fsv-gCCdF3fG",
    "_Q-JqJMrF3fK",
    "rESZZjRXF3fK",
    "UPm2_qQ7F3fL",
    "QQB5IkX6F3fO",
    "yioPMd8XF3fS",
    "I3z9_AOUF3fU",
    "SJhBlRs_F3fU",
    "8Yj2MrvNF3fU",
    "5bO4j56rF3fV"
   ],
   "name": "Copy of 04_mnist_basics.ipynb",
   "provenance": []
  },
  "jupytext": {
   "split_at_heading": true
  },
  "kernelspec": {
   "display_name": "Python 3",
   "language": "python",
   "name": "python3"
  },
  "language_info": {
   "codemirror_mode": {
    "name": "ipython",
    "version": 3
   },
   "file_extension": ".py",
   "mimetype": "text/x-python",
   "name": "python",
   "nbconvert_exporter": "python",
   "pygments_lexer": "ipython3",
   "version": "3.8.6"
  },
  "widgets": {
   "application/vnd.jupyter.widget-state+json": {
    "7c87cfef9dba4b4387e11331b95fc7d2": {
     "model_module": "@jupyter-widgets/controls",
     "model_name": "FileUploadModel",
     "state": {
      "_counter": 2,
      "_dom_classes": [],
      "_model_module": "@jupyter-widgets/controls",
      "_model_module_version": "1.5.0",
      "_model_name": "FileUploadModel",
      "_view_count": null,
      "_view_module": "@jupyter-widgets/controls",
      "_view_module_version": "1.5.0",
      "_view_name": "FileUploadView",
      "accept": "",
      "button_style": "",
      "data": [
       null
      ],
      "description": "Upload",
      "description_tooltip": null,
      "disabled": false,
      "error": "",
      "icon": "upload",
      "layout": "IPY_MODEL_f1a751648f224263a1435c228d5d1e32",
      "metadata": [
       {
        "lastModified": 1625425852661,
        "name": "Untitled.png",
        "size": 3289,
        "type": "image/png"
       }
      ],
      "multiple": false,
      "style": "IPY_MODEL_bb9b6f91c49d48fea4a1cbf4738b183e"
     }
    },
    "bb9b6f91c49d48fea4a1cbf4738b183e": {
     "model_module": "@jupyter-widgets/controls",
     "model_name": "ButtonStyleModel",
     "state": {
      "_model_module": "@jupyter-widgets/controls",
      "_model_module_version": "1.5.0",
      "_model_name": "ButtonStyleModel",
      "_view_count": null,
      "_view_module": "@jupyter-widgets/base",
      "_view_module_version": "1.2.0",
      "_view_name": "StyleView",
      "button_color": null,
      "font_weight": ""
     }
    },
    "f1a751648f224263a1435c228d5d1e32": {
     "model_module": "@jupyter-widgets/base",
     "model_name": "LayoutModel",
     "state": {
      "_model_module": "@jupyter-widgets/base",
      "_model_module_version": "1.2.0",
      "_model_name": "LayoutModel",
      "_view_count": null,
      "_view_module": "@jupyter-widgets/base",
      "_view_module_version": "1.2.0",
      "_view_name": "LayoutView",
      "align_content": null,
      "align_items": null,
      "align_self": null,
      "border": null,
      "bottom": null,
      "display": null,
      "flex": null,
      "flex_flow": null,
      "grid_area": null,
      "grid_auto_columns": null,
      "grid_auto_flow": null,
      "grid_auto_rows": null,
      "grid_column": null,
      "grid_gap": null,
      "grid_row": null,
      "grid_template_areas": null,
      "grid_template_columns": null,
      "grid_template_rows": null,
      "height": null,
      "justify_content": null,
      "justify_items": null,
      "left": null,
      "margin": null,
      "max_height": null,
      "max_width": null,
      "min_height": null,
      "min_width": null,
      "object_fit": null,
      "object_position": null,
      "order": null,
      "overflow": null,
      "overflow_x": null,
      "overflow_y": null,
      "padding": null,
      "right": null,
      "top": null,
      "visibility": null,
      "width": null
     }
    }
   }
  }
 },
 "nbformat": 4,
 "nbformat_minor": 1
}
