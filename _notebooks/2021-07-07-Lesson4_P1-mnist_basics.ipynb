{
 "cells": [
  {
   "cell_type": "markdown",
   "metadata": {},
   "source": [
    "# Lesson 4 P1 - FastAI"
   ]
  },
  {
   "cell_type": "markdown",
   "metadata": {
    "id": "tkHUr9H-F3e3"
   },
   "source": [
    "## Learning the basics of classification\n",
    "Now that we are comfortable creating models useing FastAI's toolkit, lets go back to the basics. Below is a simple MNIST dataset containing 3's and 7's. Lets try to classify this without using FastAI's toolkit."
   ]
  },
  {
   "cell_type": "markdown",
   "metadata": {},
   "source": [
    "### Getting and viewing data"
   ]
  },
  {
   "cell_type": "code",
   "execution_count": 3,
   "metadata": {
    "id": "BvoXaHi2F3e4"
   },
   "outputs": [],
   "source": [
    "path = untar_data(URLs.MNIST_SAMPLE)  #path for data"
   ]
  },
  {
   "cell_type": "code",
   "execution_count": 4,
   "metadata": {
    "id": "bH29ZnIrF3e4"
   },
   "outputs": [],
   "source": [
    "#hide\n",
    "Path.BASE_PATH = path"
   ]
  },
  {
   "cell_type": "code",
   "execution_count": 5,
   "metadata": {
    "colab": {
     "base_uri": "https://localhost:8080/"
    },
    "id": "cR4GPG7bF3e4",
    "outputId": "660f6c20-39e4-4f40-f04b-a4d067fb9cfc"
   },
   "outputs": [
    {
     "data": {
      "text/plain": [
       "(#3) [Path('train'),Path('labels.csv'),Path('valid')]"
      ]
     },
     "execution_count": 5,
     "metadata": {},
     "output_type": "execute_result"
    }
   ],
   "source": [
    "path.ls()\n"
   ]
  },
  {
   "cell_type": "code",
   "execution_count": 6,
   "metadata": {
    "colab": {
     "base_uri": "https://localhost:8080/"
    },
    "id": "C-06Q_6dF3e5",
    "outputId": "46de53f3-ec1a-4758-a476-7ebce1240764"
   },
   "outputs": [
    {
     "data": {
      "text/plain": [
       "(#2) [Path('train/3'),Path('train/7')]"
      ]
     },
     "execution_count": 6,
     "metadata": {},
     "output_type": "execute_result"
    }
   ],
   "source": [
    "(path/'train').ls()"
   ]
  },
  {
   "cell_type": "code",
   "execution_count": 7,
   "metadata": {
    "colab": {
     "base_uri": "https://localhost:8080/"
    },
    "id": "u49UqnZVF3e5",
    "outputId": "5ebc0d7a-e956-4b05-aaeb-3125af49c104"
   },
   "outputs": [
    {
     "data": {
      "text/plain": [
       "(#6131) [Path('train/3/10.png'),Path('train/3/10000.png'),Path('train/3/10011.png'),Path('train/3/10031.png'),Path('train/3/10034.png'),Path('train/3/10042.png'),Path('train/3/10052.png'),Path('train/3/1007.png'),Path('train/3/10074.png'),Path('train/3/10091.png')...]"
      ]
     },
     "execution_count": 7,
     "metadata": {},
     "output_type": "execute_result"
    }
   ],
   "source": [
    "threes = (path/'train'/'3').ls().sorted() #getting 3's data from path\n",
    "sevens = (path/'train'/'7').ls().sorted() #getting 7's data from path\n",
    "threes"
   ]
  },
  {
   "cell_type": "code",
   "execution_count": 8,
   "metadata": {
    "colab": {
     "base_uri": "https://localhost:8080/",
     "height": 45
    },
    "id": "tAviT2VUF3e5",
    "outputId": "9b2d38c2-2a49-45a8-8328-28313c02a624"
   },
   "outputs": [
    {
     "data": {
      "image/png": "[encoded data removed]",
      "text/plain": [
       "<PIL.PngImagePlugin.PngImageFile image mode=L size=28x28 at 0x7FA34E27C910>"
      ]
     },
     "execution_count": 8,
     "metadata": {},
     "output_type": "execute_result"
    }
   ],
   "source": [
    "im3_path = threes[1]\n",
    "im3 = Image.open(im3_path) #shows image\n",
    "im3"
   ]
  },
  {
   "cell_type": "code",
   "execution_count": 9,
   "metadata": {
    "colab": {
     "base_uri": "https://localhost:8080/"
    },
    "id": "rW3cIOp8F3e5",
    "outputId": "fb64d6ac-7b99-437e-bed2-4505f813ccb5"
   },
   "outputs": [
    {
     "data": {
      "text/plain": [
       "array([[  0,   0,   0,   0,   0,   0],\n",
       "       [  0,   0,   0,   0,   0,  29],\n",
       "       [  0,   0,   0,  48, 166, 224],\n",
       "       [  0,  93, 244, 249, 253, 187],\n",
       "       [  0, 107, 253, 253, 230,  48],\n",
       "       [  0,   3,  20,  20,  15,   0]], dtype=uint8)"
      ]
     },
     "execution_count": 9,
     "metadata": {},
     "output_type": "execute_result"
    }
   ],
   "source": [
    "array(im3)[4:10,4:10] #numpy to convert image into quantitative rep"
   ]
  },
  {
   "cell_type": "code",
   "execution_count": 10,
   "metadata": {
    "colab": {
     "base_uri": "https://localhost:8080/"
    },
    "id": "2N5Mq_xDF3e5",
    "outputId": "c83fa859-bd79-4ff0-cc1a-8d8c94a4b104"
   },
   "outputs": [
    {
     "data": {
      "text/plain": [
       "tensor([[  0,   0,   0,   0,   0,   0],\n",
       "        [  0,   0,   0,   0,   0,  29],\n",
       "        [  0,   0,   0,  48, 166, 224],\n",
       "        [  0,  93, 244, 249, 253, 187],\n",
       "        [  0, 107, 253, 253, 230,  48],\n",
       "        [  0,   3,  20,  20,  15,   0]], dtype=torch.uint8)"
      ]
     },
     "execution_count": 10,
     "metadata": {},
     "output_type": "execute_result"
    }
   ],
   "source": [
    "tensor(im3)[4:10,4:10] #same thing as numpy array but work better on GPU's (preferred)"
   ]
  },
  {
   "cell_type": "code",
   "execution_count": 11,
   "metadata": {
    "colab": {
     "base_uri": "https://localhost:8080/"
    },
    "id": "2ImEf3fnwWaZ",
    "outputId": "412e2a74-52e4-412d-cb55-afb9ab1c1be1"
   },
   "outputs": [
    {
     "data": {
      "text/plain": [
       "(28, 28)"
      ]
     },
     "execution_count": 11,
     "metadata": {},
     "output_type": "execute_result"
    }
   ],
   "source": [
    "im3.shape"
   ]
  },
  {
   "cell_type": "code",
   "execution_count": 12,
   "metadata": {
    "colab": {
     "base_uri": "https://localhost:8080/",
     "height": 258
    },
    "id": "CbU6mH8aF3e6",
    "outputId": "55ff50cb-fc57-4956-9996-f073c58846b9"
   },
   "outputs": [
    {
     "data": {
      "text/html": [
       "<style  type=\"text/css\" >\n",
       "#T_a0057490_de75_11eb_a28d_92db55bb3f12row0_col0,#T_a0057490_de75_11eb_a28d_92db55bb3f12row0_col1,#T_a0057490_de75_11eb_a28d_92db55bb3f12row0_col2,#T_a0057490_de75_11eb_a28d_92db55bb3f12row0_col3,#T_a0057490_de75_11eb_a28d_92db55bb3f12row0_col4,#T_a0057490_de75_11eb_a28d_92db55bb3f12row0_col5,#T_a0057490_de75_11eb_a28d_92db55bb3f12row0_col6,#T_a0057490_de75_11eb_a28d_92db55bb3f12row0_col7,#T_a0057490_de75_11eb_a28d_92db55bb3f12row0_col8,#T_a0057490_de75_11eb_a28d_92db55bb3f12row0_col9,#T_a0057490_de75_11eb_a28d_92db55bb3f12row0_col10,#T_a0057490_de75_11eb_a28d_92db55bb3f12row0_col11,#T_a0057490_de75_11eb_a28d_92db55bb3f12row0_col12,#T_a0057490_de75_11eb_a28d_92db55bb3f12row0_col13,#T_a0057490_de75_11eb_a28d_92db55bb3f12row0_col14,#T_a0057490_de75_11eb_a28d_92db55bb3f12row0_col15,#T_a0057490_de75_11eb_a28d_92db55bb3f12row0_col16,#T_a0057490_de75_11eb_a28d_92db55bb3f12row0_col17,#T_a0057490_de75_11eb_a28d_92db55bb3f12row1_col0,#T_a0057490_de75_11eb_a28d_92db55bb3f12row1_col1,#T_a0057490_de75_11eb_a28d_92db55bb3f12row1_col2,#T_a0057490_de75_11eb_a28d_92db55bb3f12row1_col3,#T_a0057490_de75_11eb_a28d_92db55bb3f12row1_col4,#T_a0057490_de75_11eb_a28d_92db55bb3f12row1_col15,#T_a0057490_de75_11eb_a28d_92db55bb3f12row1_col16,#T_a0057490_de75_11eb_a28d_92db55bb3f12row1_col17,#T_a0057490_de75_11eb_a28d_92db55bb3f12row2_col0,#T_a0057490_de75_11eb_a28d_92db55bb3f12row2_col1,#T_a0057490_de75_11eb_a28d_92db55bb3f12row2_col2,#T_a0057490_de75_11eb_a28d_92db55bb3f12row2_col15,#T_a0057490_de75_11eb_a28d_92db55bb3f12row2_col16,#T_a0057490_de75_11eb_a28d_92db55bb3f12row2_col17,#T_a0057490_de75_11eb_a28d_92db55bb3f12row3_col0,#T_a0057490_de75_11eb_a28d_92db55bb3f12row3_col15,#T_a0057490_de75_11eb_a28d_92db55bb3f12row3_col16,#T_a0057490_de75_11eb_a28d_92db55bb3f12row3_col17,#T_a0057490_de75_11eb_a28d_92db55bb3f12row4_col0,#T_a0057490_de75_11eb_a28d_92db55bb3f12row4_col6,#T_a0057490_de75_11eb_a28d_92db55bb3f12row4_col7,#T_a0057490_de75_11eb_a28d_92db55bb3f12row4_col8,#T_a0057490_de75_11eb_a28d_92db55bb3f12row4_col9,#T_a0057490_de75_11eb_a28d_92db55bb3f12row4_col10,#T_a0057490_de75_11eb_a28d_92db55bb3f12row4_col15,#T_a0057490_de75_11eb_a28d_92db55bb3f12row4_col16,#T_a0057490_de75_11eb_a28d_92db55bb3f12row4_col17,#T_a0057490_de75_11eb_a28d_92db55bb3f12row5_col0,#T_a0057490_de75_11eb_a28d_92db55bb3f12row5_col5,#T_a0057490_de75_11eb_a28d_92db55bb3f12row5_col6,#T_a0057490_de75_11eb_a28d_92db55bb3f12row5_col7,#T_a0057490_de75_11eb_a28d_92db55bb3f12row5_col8,#T_a0057490_de75_11eb_a28d_92db55bb3f12row5_col9,#T_a0057490_de75_11eb_a28d_92db55bb3f12row5_col15,#T_a0057490_de75_11eb_a28d_92db55bb3f12row5_col16,#T_a0057490_de75_11eb_a28d_92db55bb3f12row5_col17,#T_a0057490_de75_11eb_a28d_92db55bb3f12row6_col0,#T_a0057490_de75_11eb_a28d_92db55bb3f12row6_col1,#T_a0057490_de75_11eb_a28d_92db55bb3f12row6_col2,#T_a0057490_de75_11eb_a28d_92db55bb3f12row6_col3,#T_a0057490_de75_11eb_a28d_92db55bb3f12row6_col4,#T_a0057490_de75_11eb_a28d_92db55bb3f12row6_col5,#T_a0057490_de75_11eb_a28d_92db55bb3f12row6_col6,#T_a0057490_de75_11eb_a28d_92db55bb3f12row6_col7,#T_a0057490_de75_11eb_a28d_92db55bb3f12row6_col8,#T_a0057490_de75_11eb_a28d_92db55bb3f12row6_col9,#T_a0057490_de75_11eb_a28d_92db55bb3f12row6_col14,#T_a0057490_de75_11eb_a28d_92db55bb3f12row6_col15,#T_a0057490_de75_11eb_a28d_92db55bb3f12row6_col16,#T_a0057490_de75_11eb_a28d_92db55bb3f12row6_col17,#T_a0057490_de75_11eb_a28d_92db55bb3f12row7_col0,#T_a0057490_de75_11eb_a28d_92db55bb3f12row7_col1,#T_a0057490_de75_11eb_a28d_92db55bb3f12row7_col2,#T_a0057490_de75_11eb_a28d_92db55bb3f12row7_col3,#T_a0057490_de75_11eb_a28d_92db55bb3f12row7_col4,#T_a0057490_de75_11eb_a28d_92db55bb3f12row7_col5,#T_a0057490_de75_11eb_a28d_92db55bb3f12row7_col6,#T_a0057490_de75_11eb_a28d_92db55bb3f12row7_col13,#T_a0057490_de75_11eb_a28d_92db55bb3f12row7_col14,#T_a0057490_de75_11eb_a28d_92db55bb3f12row7_col15,#T_a0057490_de75_11eb_a28d_92db55bb3f12row7_col16,#T_a0057490_de75_11eb_a28d_92db55bb3f12row7_col17,#T_a0057490_de75_11eb_a28d_92db55bb3f12row8_col0,#T_a0057490_de75_11eb_a28d_92db55bb3f12row8_col1,#T_a0057490_de75_11eb_a28d_92db55bb3f12row8_col2,#T_a0057490_de75_11eb_a28d_92db55bb3f12row8_col3,#T_a0057490_de75_11eb_a28d_92db55bb3f12row8_col4,#T_a0057490_de75_11eb_a28d_92db55bb3f12row8_col13,#T_a0057490_de75_11eb_a28d_92db55bb3f12row8_col14,#T_a0057490_de75_11eb_a28d_92db55bb3f12row8_col15,#T_a0057490_de75_11eb_a28d_92db55bb3f12row8_col16,#T_a0057490_de75_11eb_a28d_92db55bb3f12row8_col17,#T_a0057490_de75_11eb_a28d_92db55bb3f12row9_col0,#T_a0057490_de75_11eb_a28d_92db55bb3f12row9_col1,#T_a0057490_de75_11eb_a28d_92db55bb3f12row9_col2,#T_a0057490_de75_11eb_a28d_92db55bb3f12row9_col3,#T_a0057490_de75_11eb_a28d_92db55bb3f12row9_col4,#T_a0057490_de75_11eb_a28d_92db55bb3f12row9_col16,#T_a0057490_de75_11eb_a28d_92db55bb3f12row9_col17,#T_a0057490_de75_11eb_a28d_92db55bb3f12row10_col0,#T_a0057490_de75_11eb_a28d_92db55bb3f12row10_col1,#T_a0057490_de75_11eb_a28d_92db55bb3f12row10_col2,#T_a0057490_de75_11eb_a28d_92db55bb3f12row10_col3,#T_a0057490_de75_11eb_a28d_92db55bb3f12row10_col4,#T_a0057490_de75_11eb_a28d_92db55bb3f12row10_col5,#T_a0057490_de75_11eb_a28d_92db55bb3f12row10_col6,#T_a0057490_de75_11eb_a28d_92db55bb3f12row10_col17{\n",
       "            font-size:  6pt;\n",
       "            background-color:  #ffffff;\n",
       "            color:  #000000;\n",
       "        }#T_a0057490_de75_11eb_a28d_92db55bb3f12row1_col5{\n",
       "            font-size:  6pt;\n",
       "            background-color:  #efefef;\n",
       "            color:  #000000;\n",
       "        }#T_a0057490_de75_11eb_a28d_92db55bb3f12row1_col6,#T_a0057490_de75_11eb_a28d_92db55bb3f12row1_col13{\n",
       "            font-size:  6pt;\n",
       "            background-color:  #7c7c7c;\n",
       "            color:  #000000;\n",
       "        }#T_a0057490_de75_11eb_a28d_92db55bb3f12row1_col7{\n",
       "            font-size:  6pt;\n",
       "            background-color:  #4a4a4a;\n",
       "            color:  #f1f1f1;\n",
       "        }#T_a0057490_de75_11eb_a28d_92db55bb3f12row1_col8,#T_a0057490_de75_11eb_a28d_92db55bb3f12row1_col9,#T_a0057490_de75_11eb_a28d_92db55bb3f12row1_col10,#T_a0057490_de75_11eb_a28d_92db55bb3f12row2_col5,#T_a0057490_de75_11eb_a28d_92db55bb3f12row2_col6,#T_a0057490_de75_11eb_a28d_92db55bb3f12row2_col7,#T_a0057490_de75_11eb_a28d_92db55bb3f12row2_col11,#T_a0057490_de75_11eb_a28d_92db55bb3f12row2_col12,#T_a0057490_de75_11eb_a28d_92db55bb3f12row2_col13,#T_a0057490_de75_11eb_a28d_92db55bb3f12row3_col4,#T_a0057490_de75_11eb_a28d_92db55bb3f12row3_col12,#T_a0057490_de75_11eb_a28d_92db55bb3f12row3_col13,#T_a0057490_de75_11eb_a28d_92db55bb3f12row4_col1,#T_a0057490_de75_11eb_a28d_92db55bb3f12row4_col2,#T_a0057490_de75_11eb_a28d_92db55bb3f12row4_col3,#T_a0057490_de75_11eb_a28d_92db55bb3f12row4_col12,#T_a0057490_de75_11eb_a28d_92db55bb3f12row4_col13,#T_a0057490_de75_11eb_a28d_92db55bb3f12row5_col12,#T_a0057490_de75_11eb_a28d_92db55bb3f12row6_col11,#T_a0057490_de75_11eb_a28d_92db55bb3f12row9_col11,#T_a0057490_de75_11eb_a28d_92db55bb3f12row10_col11,#T_a0057490_de75_11eb_a28d_92db55bb3f12row10_col12,#T_a0057490_de75_11eb_a28d_92db55bb3f12row10_col13,#T_a0057490_de75_11eb_a28d_92db55bb3f12row10_col14,#T_a0057490_de75_11eb_a28d_92db55bb3f12row10_col15,#T_a0057490_de75_11eb_a28d_92db55bb3f12row10_col16{\n",
       "            font-size:  6pt;\n",
       "            background-color:  #000000;\n",
       "            color:  #f1f1f1;\n",
       "        }#T_a0057490_de75_11eb_a28d_92db55bb3f12row1_col11{\n",
       "            font-size:  6pt;\n",
       "            background-color:  #606060;\n",
       "            color:  #f1f1f1;\n",
       "        }#T_a0057490_de75_11eb_a28d_92db55bb3f12row1_col12{\n",
       "            font-size:  6pt;\n",
       "            background-color:  #4d4d4d;\n",
       "            color:  #f1f1f1;\n",
       "        }#T_a0057490_de75_11eb_a28d_92db55bb3f12row1_col14{\n",
       "            font-size:  6pt;\n",
       "            background-color:  #bbbbbb;\n",
       "            color:  #000000;\n",
       "        }#T_a0057490_de75_11eb_a28d_92db55bb3f12row2_col3{\n",
       "            font-size:  6pt;\n",
       "            background-color:  #e4e4e4;\n",
       "            color:  #000000;\n",
       "        }#T_a0057490_de75_11eb_a28d_92db55bb3f12row2_col4,#T_a0057490_de75_11eb_a28d_92db55bb3f12row8_col6{\n",
       "            font-size:  6pt;\n",
       "            background-color:  #6b6b6b;\n",
       "            color:  #000000;\n",
       "        }#T_a0057490_de75_11eb_a28d_92db55bb3f12row2_col8,#T_a0057490_de75_11eb_a28d_92db55bb3f12row2_col14,#T_a0057490_de75_11eb_a28d_92db55bb3f12row3_col14{\n",
       "            font-size:  6pt;\n",
       "            background-color:  #171717;\n",
       "            color:  #f1f1f1;\n",
       "        }#T_a0057490_de75_11eb_a28d_92db55bb3f12row2_col9,#T_a0057490_de75_11eb_a28d_92db55bb3f12row3_col11{\n",
       "            font-size:  6pt;\n",
       "            background-color:  #4b4b4b;\n",
       "            color:  #f1f1f1;\n",
       "        }#T_a0057490_de75_11eb_a28d_92db55bb3f12row2_col10,#T_a0057490_de75_11eb_a28d_92db55bb3f12row7_col10,#T_a0057490_de75_11eb_a28d_92db55bb3f12row8_col8,#T_a0057490_de75_11eb_a28d_92db55bb3f12row8_col10,#T_a0057490_de75_11eb_a28d_92db55bb3f12row9_col8,#T_a0057490_de75_11eb_a28d_92db55bb3f12row9_col10{\n",
       "            font-size:  6pt;\n",
       "            background-color:  #010101;\n",
       "            color:  #f1f1f1;\n",
       "        }#T_a0057490_de75_11eb_a28d_92db55bb3f12row3_col1{\n",
       "            font-size:  6pt;\n",
       "            background-color:  #272727;\n",
       "            color:  #f1f1f1;\n",
       "        }#T_a0057490_de75_11eb_a28d_92db55bb3f12row3_col2{\n",
       "            font-size:  6pt;\n",
       "            background-color:  #0a0a0a;\n",
       "            color:  #f1f1f1;\n",
       "        }#T_a0057490_de75_11eb_a28d_92db55bb3f12row3_col3{\n",
       "            font-size:  6pt;\n",
       "            background-color:  #050505;\n",
       "            color:  #f1f1f1;\n",
       "        }#T_a0057490_de75_11eb_a28d_92db55bb3f12row3_col5{\n",
       "            font-size:  6pt;\n",
       "            background-color:  #333333;\n",
       "            color:  #f1f1f1;\n",
       "        }#T_a0057490_de75_11eb_a28d_92db55bb3f12row3_col6{\n",
       "            font-size:  6pt;\n",
       "            background-color:  #e6e6e6;\n",
       "            color:  #000000;\n",
       "        }#T_a0057490_de75_11eb_a28d_92db55bb3f12row3_col7,#T_a0057490_de75_11eb_a28d_92db55bb3f12row3_col10{\n",
       "            font-size:  6pt;\n",
       "            background-color:  #fafafa;\n",
       "            color:  #000000;\n",
       "        }#T_a0057490_de75_11eb_a28d_92db55bb3f12row3_col8{\n",
       "            font-size:  6pt;\n",
       "            background-color:  #fbfbfb;\n",
       "            color:  #000000;\n",
       "        }#T_a0057490_de75_11eb_a28d_92db55bb3f12row3_col9{\n",
       "            font-size:  6pt;\n",
       "            background-color:  #fdfdfd;\n",
       "            color:  #000000;\n",
       "        }#T_a0057490_de75_11eb_a28d_92db55bb3f12row4_col4{\n",
       "            font-size:  6pt;\n",
       "            background-color:  #1b1b1b;\n",
       "            color:  #f1f1f1;\n",
       "        }#T_a0057490_de75_11eb_a28d_92db55bb3f12row4_col5{\n",
       "            font-size:  6pt;\n",
       "            background-color:  #e0e0e0;\n",
       "            color:  #000000;\n",
       "        }#T_a0057490_de75_11eb_a28d_92db55bb3f12row4_col11{\n",
       "            font-size:  6pt;\n",
       "            background-color:  #4e4e4e;\n",
       "            color:  #f1f1f1;\n",
       "        }#T_a0057490_de75_11eb_a28d_92db55bb3f12row4_col14{\n",
       "            font-size:  6pt;\n",
       "            background-color:  #767676;\n",
       "            color:  #000000;\n",
       "        }#T_a0057490_de75_11eb_a28d_92db55bb3f12row5_col1{\n",
       "            font-size:  6pt;\n",
       "            background-color:  #fcfcfc;\n",
       "            color:  #000000;\n",
       "        }#T_a0057490_de75_11eb_a28d_92db55bb3f12row5_col2,#T_a0057490_de75_11eb_a28d_92db55bb3f12row5_col3{\n",
       "            font-size:  6pt;\n",
       "            background-color:  #f6f6f6;\n",
       "            color:  #000000;\n",
       "        }#T_a0057490_de75_11eb_a28d_92db55bb3f12row5_col4,#T_a0057490_de75_11eb_a28d_92db55bb3f12row7_col7{\n",
       "            font-size:  6pt;\n",
       "            background-color:  #f8f8f8;\n",
       "            color:  #000000;\n",
       "        }#T_a0057490_de75_11eb_a28d_92db55bb3f12row5_col10,#T_a0057490_de75_11eb_a28d_92db55bb3f12row10_col7{\n",
       "            font-size:  6pt;\n",
       "            background-color:  #e8e8e8;\n",
       "            color:  #000000;\n",
       "        }#T_a0057490_de75_11eb_a28d_92db55bb3f12row5_col11{\n",
       "            font-size:  6pt;\n",
       "            background-color:  #222222;\n",
       "            color:  #f1f1f1;\n",
       "        }#T_a0057490_de75_11eb_a28d_92db55bb3f12row5_col13,#T_a0057490_de75_11eb_a28d_92db55bb3f12row6_col12{\n",
       "            font-size:  6pt;\n",
       "            background-color:  #090909;\n",
       "            color:  #f1f1f1;\n",
       "        }#T_a0057490_de75_11eb_a28d_92db55bb3f12row5_col14{\n",
       "            font-size:  6pt;\n",
       "            background-color:  #d0d0d0;\n",
       "            color:  #000000;\n",
       "        }#T_a0057490_de75_11eb_a28d_92db55bb3f12row6_col10,#T_a0057490_de75_11eb_a28d_92db55bb3f12row7_col11,#T_a0057490_de75_11eb_a28d_92db55bb3f12row9_col6{\n",
       "            font-size:  6pt;\n",
       "            background-color:  #060606;\n",
       "            color:  #f1f1f1;\n",
       "        }#T_a0057490_de75_11eb_a28d_92db55bb3f12row6_col13{\n",
       "            font-size:  6pt;\n",
       "            background-color:  #979797;\n",
       "            color:  #000000;\n",
       "        }#T_a0057490_de75_11eb_a28d_92db55bb3f12row7_col8{\n",
       "            font-size:  6pt;\n",
       "            background-color:  #b6b6b6;\n",
       "            color:  #000000;\n",
       "        }#T_a0057490_de75_11eb_a28d_92db55bb3f12row7_col9{\n",
       "            font-size:  6pt;\n",
       "            background-color:  #252525;\n",
       "            color:  #f1f1f1;\n",
       "        }#T_a0057490_de75_11eb_a28d_92db55bb3f12row7_col12{\n",
       "            font-size:  6pt;\n",
       "            background-color:  #999999;\n",
       "            color:  #000000;\n",
       "        }#T_a0057490_de75_11eb_a28d_92db55bb3f12row8_col5{\n",
       "            font-size:  6pt;\n",
       "            background-color:  #f9f9f9;\n",
       "            color:  #000000;\n",
       "        }#T_a0057490_de75_11eb_a28d_92db55bb3f12row8_col7{\n",
       "            font-size:  6pt;\n",
       "            background-color:  #101010;\n",
       "            color:  #f1f1f1;\n",
       "        }#T_a0057490_de75_11eb_a28d_92db55bb3f12row8_col9,#T_a0057490_de75_11eb_a28d_92db55bb3f12row9_col9{\n",
       "            font-size:  6pt;\n",
       "            background-color:  #020202;\n",
       "            color:  #f1f1f1;\n",
       "        }#T_a0057490_de75_11eb_a28d_92db55bb3f12row8_col11{\n",
       "            font-size:  6pt;\n",
       "            background-color:  #545454;\n",
       "            color:  #f1f1f1;\n",
       "        }#T_a0057490_de75_11eb_a28d_92db55bb3f12row8_col12{\n",
       "            font-size:  6pt;\n",
       "            background-color:  #f1f1f1;\n",
       "            color:  #000000;\n",
       "        }#T_a0057490_de75_11eb_a28d_92db55bb3f12row9_col5{\n",
       "            font-size:  6pt;\n",
       "            background-color:  #f7f7f7;\n",
       "            color:  #000000;\n",
       "        }#T_a0057490_de75_11eb_a28d_92db55bb3f12row9_col7{\n",
       "            font-size:  6pt;\n",
       "            background-color:  #030303;\n",
       "            color:  #f1f1f1;\n",
       "        }#T_a0057490_de75_11eb_a28d_92db55bb3f12row9_col12{\n",
       "            font-size:  6pt;\n",
       "            background-color:  #181818;\n",
       "            color:  #f1f1f1;\n",
       "        }#T_a0057490_de75_11eb_a28d_92db55bb3f12row9_col13{\n",
       "            font-size:  6pt;\n",
       "            background-color:  #303030;\n",
       "            color:  #f1f1f1;\n",
       "        }#T_a0057490_de75_11eb_a28d_92db55bb3f12row9_col14{\n",
       "            font-size:  6pt;\n",
       "            background-color:  #a9a9a9;\n",
       "            color:  #000000;\n",
       "        }#T_a0057490_de75_11eb_a28d_92db55bb3f12row9_col15{\n",
       "            font-size:  6pt;\n",
       "            background-color:  #fefefe;\n",
       "            color:  #000000;\n",
       "        }#T_a0057490_de75_11eb_a28d_92db55bb3f12row10_col8,#T_a0057490_de75_11eb_a28d_92db55bb3f12row10_col9{\n",
       "            font-size:  6pt;\n",
       "            background-color:  #bababa;\n",
       "            color:  #000000;\n",
       "        }#T_a0057490_de75_11eb_a28d_92db55bb3f12row10_col10{\n",
       "            font-size:  6pt;\n",
       "            background-color:  #393939;\n",
       "            color:  #f1f1f1;\n",
       "        }</style><table id=\"T_a0057490_de75_11eb_a28d_92db55bb3f12\" ><thead>    <tr>        <th class=\"blank level0\" ></th>        <th class=\"col_heading level0 col0\" >0</th>        <th class=\"col_heading level0 col1\" >1</th>        <th class=\"col_heading level0 col2\" >2</th>        <th class=\"col_heading level0 col3\" >3</th>        <th class=\"col_heading level0 col4\" >4</th>        <th class=\"col_heading level0 col5\" >5</th>        <th class=\"col_heading level0 col6\" >6</th>        <th class=\"col_heading level0 col7\" >7</th>        <th class=\"col_heading level0 col8\" >8</th>        <th class=\"col_heading level0 col9\" >9</th>        <th class=\"col_heading level0 col10\" >10</th>        <th class=\"col_heading level0 col11\" >11</th>        <th class=\"col_heading level0 col12\" >12</th>        <th class=\"col_heading level0 col13\" >13</th>        <th class=\"col_heading level0 col14\" >14</th>        <th class=\"col_heading level0 col15\" >15</th>        <th class=\"col_heading level0 col16\" >16</th>        <th class=\"col_heading level0 col17\" >17</th>    </tr></thead><tbody>\n",
       "                <tr>\n",
       "                        <th id=\"T_a0057490_de75_11eb_a28d_92db55bb3f12level0_row0\" class=\"row_heading level0 row0\" >0</th>\n",
       "                        <td id=\"T_a0057490_de75_11eb_a28d_92db55bb3f12row0_col0\" class=\"data row0 col0\" >0</td>\n",
       "                        <td id=\"T_a0057490_de75_11eb_a28d_92db55bb3f12row0_col1\" class=\"data row0 col1\" >0</td>\n",
       "                        <td id=\"T_a0057490_de75_11eb_a28d_92db55bb3f12row0_col2\" class=\"data row0 col2\" >0</td>\n",
       "                        <td id=\"T_a0057490_de75_11eb_a28d_92db55bb3f12row0_col3\" class=\"data row0 col3\" >0</td>\n",
       "                        <td id=\"T_a0057490_de75_11eb_a28d_92db55bb3f12row0_col4\" class=\"data row0 col4\" >0</td>\n",
       "                        <td id=\"T_a0057490_de75_11eb_a28d_92db55bb3f12row0_col5\" class=\"data row0 col5\" >0</td>\n",
       "                        <td id=\"T_a0057490_de75_11eb_a28d_92db55bb3f12row0_col6\" class=\"data row0 col6\" >0</td>\n",
       "                        <td id=\"T_a0057490_de75_11eb_a28d_92db55bb3f12row0_col7\" class=\"data row0 col7\" >0</td>\n",
       "                        <td id=\"T_a0057490_de75_11eb_a28d_92db55bb3f12row0_col8\" class=\"data row0 col8\" >0</td>\n",
       "                        <td id=\"T_a0057490_de75_11eb_a28d_92db55bb3f12row0_col9\" class=\"data row0 col9\" >0</td>\n",
       "                        <td id=\"T_a0057490_de75_11eb_a28d_92db55bb3f12row0_col10\" class=\"data row0 col10\" >0</td>\n",
       "                        <td id=\"T_a0057490_de75_11eb_a28d_92db55bb3f12row0_col11\" class=\"data row0 col11\" >0</td>\n",
       "                        <td id=\"T_a0057490_de75_11eb_a28d_92db55bb3f12row0_col12\" class=\"data row0 col12\" >0</td>\n",
       "                        <td id=\"T_a0057490_de75_11eb_a28d_92db55bb3f12row0_col13\" class=\"data row0 col13\" >0</td>\n",
       "                        <td id=\"T_a0057490_de75_11eb_a28d_92db55bb3f12row0_col14\" class=\"data row0 col14\" >0</td>\n",
       "                        <td id=\"T_a0057490_de75_11eb_a28d_92db55bb3f12row0_col15\" class=\"data row0 col15\" >0</td>\n",
       "                        <td id=\"T_a0057490_de75_11eb_a28d_92db55bb3f12row0_col16\" class=\"data row0 col16\" >0</td>\n",
       "                        <td id=\"T_a0057490_de75_11eb_a28d_92db55bb3f12row0_col17\" class=\"data row0 col17\" >0</td>\n",
       "            </tr>\n",
       "            <tr>\n",
       "                        <th id=\"T_a0057490_de75_11eb_a28d_92db55bb3f12level0_row1\" class=\"row_heading level0 row1\" >1</th>\n",
       "                        <td id=\"T_a0057490_de75_11eb_a28d_92db55bb3f12row1_col0\" class=\"data row1 col0\" >0</td>\n",
       "                        <td id=\"T_a0057490_de75_11eb_a28d_92db55bb3f12row1_col1\" class=\"data row1 col1\" >0</td>\n",
       "                        <td id=\"T_a0057490_de75_11eb_a28d_92db55bb3f12row1_col2\" class=\"data row1 col2\" >0</td>\n",
       "                        <td id=\"T_a0057490_de75_11eb_a28d_92db55bb3f12row1_col3\" class=\"data row1 col3\" >0</td>\n",
       "                        <td id=\"T_a0057490_de75_11eb_a28d_92db55bb3f12row1_col4\" class=\"data row1 col4\" >0</td>\n",
       "                        <td id=\"T_a0057490_de75_11eb_a28d_92db55bb3f12row1_col5\" class=\"data row1 col5\" >29</td>\n",
       "                        <td id=\"T_a0057490_de75_11eb_a28d_92db55bb3f12row1_col6\" class=\"data row1 col6\" >150</td>\n",
       "                        <td id=\"T_a0057490_de75_11eb_a28d_92db55bb3f12row1_col7\" class=\"data row1 col7\" >195</td>\n",
       "                        <td id=\"T_a0057490_de75_11eb_a28d_92db55bb3f12row1_col8\" class=\"data row1 col8\" >254</td>\n",
       "                        <td id=\"T_a0057490_de75_11eb_a28d_92db55bb3f12row1_col9\" class=\"data row1 col9\" >255</td>\n",
       "                        <td id=\"T_a0057490_de75_11eb_a28d_92db55bb3f12row1_col10\" class=\"data row1 col10\" >254</td>\n",
       "                        <td id=\"T_a0057490_de75_11eb_a28d_92db55bb3f12row1_col11\" class=\"data row1 col11\" >176</td>\n",
       "                        <td id=\"T_a0057490_de75_11eb_a28d_92db55bb3f12row1_col12\" class=\"data row1 col12\" >193</td>\n",
       "                        <td id=\"T_a0057490_de75_11eb_a28d_92db55bb3f12row1_col13\" class=\"data row1 col13\" >150</td>\n",
       "                        <td id=\"T_a0057490_de75_11eb_a28d_92db55bb3f12row1_col14\" class=\"data row1 col14\" >96</td>\n",
       "                        <td id=\"T_a0057490_de75_11eb_a28d_92db55bb3f12row1_col15\" class=\"data row1 col15\" >0</td>\n",
       "                        <td id=\"T_a0057490_de75_11eb_a28d_92db55bb3f12row1_col16\" class=\"data row1 col16\" >0</td>\n",
       "                        <td id=\"T_a0057490_de75_11eb_a28d_92db55bb3f12row1_col17\" class=\"data row1 col17\" >0</td>\n",
       "            </tr>\n",
       "            <tr>\n",
       "                        <th id=\"T_a0057490_de75_11eb_a28d_92db55bb3f12level0_row2\" class=\"row_heading level0 row2\" >2</th>\n",
       "                        <td id=\"T_a0057490_de75_11eb_a28d_92db55bb3f12row2_col0\" class=\"data row2 col0\" >0</td>\n",
       "                        <td id=\"T_a0057490_de75_11eb_a28d_92db55bb3f12row2_col1\" class=\"data row2 col1\" >0</td>\n",
       "                        <td id=\"T_a0057490_de75_11eb_a28d_92db55bb3f12row2_col2\" class=\"data row2 col2\" >0</td>\n",
       "                        <td id=\"T_a0057490_de75_11eb_a28d_92db55bb3f12row2_col3\" class=\"data row2 col3\" >48</td>\n",
       "                        <td id=\"T_a0057490_de75_11eb_a28d_92db55bb3f12row2_col4\" class=\"data row2 col4\" >166</td>\n",
       "                        <td id=\"T_a0057490_de75_11eb_a28d_92db55bb3f12row2_col5\" class=\"data row2 col5\" >224</td>\n",
       "                        <td id=\"T_a0057490_de75_11eb_a28d_92db55bb3f12row2_col6\" class=\"data row2 col6\" >253</td>\n",
       "                        <td id=\"T_a0057490_de75_11eb_a28d_92db55bb3f12row2_col7\" class=\"data row2 col7\" >253</td>\n",
       "                        <td id=\"T_a0057490_de75_11eb_a28d_92db55bb3f12row2_col8\" class=\"data row2 col8\" >234</td>\n",
       "                        <td id=\"T_a0057490_de75_11eb_a28d_92db55bb3f12row2_col9\" class=\"data row2 col9\" >196</td>\n",
       "                        <td id=\"T_a0057490_de75_11eb_a28d_92db55bb3f12row2_col10\" class=\"data row2 col10\" >253</td>\n",
       "                        <td id=\"T_a0057490_de75_11eb_a28d_92db55bb3f12row2_col11\" class=\"data row2 col11\" >253</td>\n",
       "                        <td id=\"T_a0057490_de75_11eb_a28d_92db55bb3f12row2_col12\" class=\"data row2 col12\" >253</td>\n",
       "                        <td id=\"T_a0057490_de75_11eb_a28d_92db55bb3f12row2_col13\" class=\"data row2 col13\" >253</td>\n",
       "                        <td id=\"T_a0057490_de75_11eb_a28d_92db55bb3f12row2_col14\" class=\"data row2 col14\" >233</td>\n",
       "                        <td id=\"T_a0057490_de75_11eb_a28d_92db55bb3f12row2_col15\" class=\"data row2 col15\" >0</td>\n",
       "                        <td id=\"T_a0057490_de75_11eb_a28d_92db55bb3f12row2_col16\" class=\"data row2 col16\" >0</td>\n",
       "                        <td id=\"T_a0057490_de75_11eb_a28d_92db55bb3f12row2_col17\" class=\"data row2 col17\" >0</td>\n",
       "            </tr>\n",
       "            <tr>\n",
       "                        <th id=\"T_a0057490_de75_11eb_a28d_92db55bb3f12level0_row3\" class=\"row_heading level0 row3\" >3</th>\n",
       "                        <td id=\"T_a0057490_de75_11eb_a28d_92db55bb3f12row3_col0\" class=\"data row3 col0\" >0</td>\n",
       "                        <td id=\"T_a0057490_de75_11eb_a28d_92db55bb3f12row3_col1\" class=\"data row3 col1\" >93</td>\n",
       "                        <td id=\"T_a0057490_de75_11eb_a28d_92db55bb3f12row3_col2\" class=\"data row3 col2\" >244</td>\n",
       "                        <td id=\"T_a0057490_de75_11eb_a28d_92db55bb3f12row3_col3\" class=\"data row3 col3\" >249</td>\n",
       "                        <td id=\"T_a0057490_de75_11eb_a28d_92db55bb3f12row3_col4\" class=\"data row3 col4\" >253</td>\n",
       "                        <td id=\"T_a0057490_de75_11eb_a28d_92db55bb3f12row3_col5\" class=\"data row3 col5\" >187</td>\n",
       "                        <td id=\"T_a0057490_de75_11eb_a28d_92db55bb3f12row3_col6\" class=\"data row3 col6\" >46</td>\n",
       "                        <td id=\"T_a0057490_de75_11eb_a28d_92db55bb3f12row3_col7\" class=\"data row3 col7\" >10</td>\n",
       "                        <td id=\"T_a0057490_de75_11eb_a28d_92db55bb3f12row3_col8\" class=\"data row3 col8\" >8</td>\n",
       "                        <td id=\"T_a0057490_de75_11eb_a28d_92db55bb3f12row3_col9\" class=\"data row3 col9\" >4</td>\n",
       "                        <td id=\"T_a0057490_de75_11eb_a28d_92db55bb3f12row3_col10\" class=\"data row3 col10\" >10</td>\n",
       "                        <td id=\"T_a0057490_de75_11eb_a28d_92db55bb3f12row3_col11\" class=\"data row3 col11\" >194</td>\n",
       "                        <td id=\"T_a0057490_de75_11eb_a28d_92db55bb3f12row3_col12\" class=\"data row3 col12\" >253</td>\n",
       "                        <td id=\"T_a0057490_de75_11eb_a28d_92db55bb3f12row3_col13\" class=\"data row3 col13\" >253</td>\n",
       "                        <td id=\"T_a0057490_de75_11eb_a28d_92db55bb3f12row3_col14\" class=\"data row3 col14\" >233</td>\n",
       "                        <td id=\"T_a0057490_de75_11eb_a28d_92db55bb3f12row3_col15\" class=\"data row3 col15\" >0</td>\n",
       "                        <td id=\"T_a0057490_de75_11eb_a28d_92db55bb3f12row3_col16\" class=\"data row3 col16\" >0</td>\n",
       "                        <td id=\"T_a0057490_de75_11eb_a28d_92db55bb3f12row3_col17\" class=\"data row3 col17\" >0</td>\n",
       "            </tr>\n",
       "            <tr>\n",
       "                        <th id=\"T_a0057490_de75_11eb_a28d_92db55bb3f12level0_row4\" class=\"row_heading level0 row4\" >4</th>\n",
       "                        <td id=\"T_a0057490_de75_11eb_a28d_92db55bb3f12row4_col0\" class=\"data row4 col0\" >0</td>\n",
       "                        <td id=\"T_a0057490_de75_11eb_a28d_92db55bb3f12row4_col1\" class=\"data row4 col1\" >107</td>\n",
       "                        <td id=\"T_a0057490_de75_11eb_a28d_92db55bb3f12row4_col2\" class=\"data row4 col2\" >253</td>\n",
       "                        <td id=\"T_a0057490_de75_11eb_a28d_92db55bb3f12row4_col3\" class=\"data row4 col3\" >253</td>\n",
       "                        <td id=\"T_a0057490_de75_11eb_a28d_92db55bb3f12row4_col4\" class=\"data row4 col4\" >230</td>\n",
       "                        <td id=\"T_a0057490_de75_11eb_a28d_92db55bb3f12row4_col5\" class=\"data row4 col5\" >48</td>\n",
       "                        <td id=\"T_a0057490_de75_11eb_a28d_92db55bb3f12row4_col6\" class=\"data row4 col6\" >0</td>\n",
       "                        <td id=\"T_a0057490_de75_11eb_a28d_92db55bb3f12row4_col7\" class=\"data row4 col7\" >0</td>\n",
       "                        <td id=\"T_a0057490_de75_11eb_a28d_92db55bb3f12row4_col8\" class=\"data row4 col8\" >0</td>\n",
       "                        <td id=\"T_a0057490_de75_11eb_a28d_92db55bb3f12row4_col9\" class=\"data row4 col9\" >0</td>\n",
       "                        <td id=\"T_a0057490_de75_11eb_a28d_92db55bb3f12row4_col10\" class=\"data row4 col10\" >0</td>\n",
       "                        <td id=\"T_a0057490_de75_11eb_a28d_92db55bb3f12row4_col11\" class=\"data row4 col11\" >192</td>\n",
       "                        <td id=\"T_a0057490_de75_11eb_a28d_92db55bb3f12row4_col12\" class=\"data row4 col12\" >253</td>\n",
       "                        <td id=\"T_a0057490_de75_11eb_a28d_92db55bb3f12row4_col13\" class=\"data row4 col13\" >253</td>\n",
       "                        <td id=\"T_a0057490_de75_11eb_a28d_92db55bb3f12row4_col14\" class=\"data row4 col14\" >156</td>\n",
       "                        <td id=\"T_a0057490_de75_11eb_a28d_92db55bb3f12row4_col15\" class=\"data row4 col15\" >0</td>\n",
       "                        <td id=\"T_a0057490_de75_11eb_a28d_92db55bb3f12row4_col16\" class=\"data row4 col16\" >0</td>\n",
       "                        <td id=\"T_a0057490_de75_11eb_a28d_92db55bb3f12row4_col17\" class=\"data row4 col17\" >0</td>\n",
       "            </tr>\n",
       "            <tr>\n",
       "                        <th id=\"T_a0057490_de75_11eb_a28d_92db55bb3f12level0_row5\" class=\"row_heading level0 row5\" >5</th>\n",
       "                        <td id=\"T_a0057490_de75_11eb_a28d_92db55bb3f12row5_col0\" class=\"data row5 col0\" >0</td>\n",
       "                        <td id=\"T_a0057490_de75_11eb_a28d_92db55bb3f12row5_col1\" class=\"data row5 col1\" >3</td>\n",
       "                        <td id=\"T_a0057490_de75_11eb_a28d_92db55bb3f12row5_col2\" class=\"data row5 col2\" >20</td>\n",
       "                        <td id=\"T_a0057490_de75_11eb_a28d_92db55bb3f12row5_col3\" class=\"data row5 col3\" >20</td>\n",
       "                        <td id=\"T_a0057490_de75_11eb_a28d_92db55bb3f12row5_col4\" class=\"data row5 col4\" >15</td>\n",
       "                        <td id=\"T_a0057490_de75_11eb_a28d_92db55bb3f12row5_col5\" class=\"data row5 col5\" >0</td>\n",
       "                        <td id=\"T_a0057490_de75_11eb_a28d_92db55bb3f12row5_col6\" class=\"data row5 col6\" >0</td>\n",
       "                        <td id=\"T_a0057490_de75_11eb_a28d_92db55bb3f12row5_col7\" class=\"data row5 col7\" >0</td>\n",
       "                        <td id=\"T_a0057490_de75_11eb_a28d_92db55bb3f12row5_col8\" class=\"data row5 col8\" >0</td>\n",
       "                        <td id=\"T_a0057490_de75_11eb_a28d_92db55bb3f12row5_col9\" class=\"data row5 col9\" >0</td>\n",
       "                        <td id=\"T_a0057490_de75_11eb_a28d_92db55bb3f12row5_col10\" class=\"data row5 col10\" >43</td>\n",
       "                        <td id=\"T_a0057490_de75_11eb_a28d_92db55bb3f12row5_col11\" class=\"data row5 col11\" >224</td>\n",
       "                        <td id=\"T_a0057490_de75_11eb_a28d_92db55bb3f12row5_col12\" class=\"data row5 col12\" >253</td>\n",
       "                        <td id=\"T_a0057490_de75_11eb_a28d_92db55bb3f12row5_col13\" class=\"data row5 col13\" >245</td>\n",
       "                        <td id=\"T_a0057490_de75_11eb_a28d_92db55bb3f12row5_col14\" class=\"data row5 col14\" >74</td>\n",
       "                        <td id=\"T_a0057490_de75_11eb_a28d_92db55bb3f12row5_col15\" class=\"data row5 col15\" >0</td>\n",
       "                        <td id=\"T_a0057490_de75_11eb_a28d_92db55bb3f12row5_col16\" class=\"data row5 col16\" >0</td>\n",
       "                        <td id=\"T_a0057490_de75_11eb_a28d_92db55bb3f12row5_col17\" class=\"data row5 col17\" >0</td>\n",
       "            </tr>\n",
       "            <tr>\n",
       "                        <th id=\"T_a0057490_de75_11eb_a28d_92db55bb3f12level0_row6\" class=\"row_heading level0 row6\" >6</th>\n",
       "                        <td id=\"T_a0057490_de75_11eb_a28d_92db55bb3f12row6_col0\" class=\"data row6 col0\" >0</td>\n",
       "                        <td id=\"T_a0057490_de75_11eb_a28d_92db55bb3f12row6_col1\" class=\"data row6 col1\" >0</td>\n",
       "                        <td id=\"T_a0057490_de75_11eb_a28d_92db55bb3f12row6_col2\" class=\"data row6 col2\" >0</td>\n",
       "                        <td id=\"T_a0057490_de75_11eb_a28d_92db55bb3f12row6_col3\" class=\"data row6 col3\" >0</td>\n",
       "                        <td id=\"T_a0057490_de75_11eb_a28d_92db55bb3f12row6_col4\" class=\"data row6 col4\" >0</td>\n",
       "                        <td id=\"T_a0057490_de75_11eb_a28d_92db55bb3f12row6_col5\" class=\"data row6 col5\" >0</td>\n",
       "                        <td id=\"T_a0057490_de75_11eb_a28d_92db55bb3f12row6_col6\" class=\"data row6 col6\" >0</td>\n",
       "                        <td id=\"T_a0057490_de75_11eb_a28d_92db55bb3f12row6_col7\" class=\"data row6 col7\" >0</td>\n",
       "                        <td id=\"T_a0057490_de75_11eb_a28d_92db55bb3f12row6_col8\" class=\"data row6 col8\" >0</td>\n",
       "                        <td id=\"T_a0057490_de75_11eb_a28d_92db55bb3f12row6_col9\" class=\"data row6 col9\" >0</td>\n",
       "                        <td id=\"T_a0057490_de75_11eb_a28d_92db55bb3f12row6_col10\" class=\"data row6 col10\" >249</td>\n",
       "                        <td id=\"T_a0057490_de75_11eb_a28d_92db55bb3f12row6_col11\" class=\"data row6 col11\" >253</td>\n",
       "                        <td id=\"T_a0057490_de75_11eb_a28d_92db55bb3f12row6_col12\" class=\"data row6 col12\" >245</td>\n",
       "                        <td id=\"T_a0057490_de75_11eb_a28d_92db55bb3f12row6_col13\" class=\"data row6 col13\" >126</td>\n",
       "                        <td id=\"T_a0057490_de75_11eb_a28d_92db55bb3f12row6_col14\" class=\"data row6 col14\" >0</td>\n",
       "                        <td id=\"T_a0057490_de75_11eb_a28d_92db55bb3f12row6_col15\" class=\"data row6 col15\" >0</td>\n",
       "                        <td id=\"T_a0057490_de75_11eb_a28d_92db55bb3f12row6_col16\" class=\"data row6 col16\" >0</td>\n",
       "                        <td id=\"T_a0057490_de75_11eb_a28d_92db55bb3f12row6_col17\" class=\"data row6 col17\" >0</td>\n",
       "            </tr>\n",
       "            <tr>\n",
       "                        <th id=\"T_a0057490_de75_11eb_a28d_92db55bb3f12level0_row7\" class=\"row_heading level0 row7\" >7</th>\n",
       "                        <td id=\"T_a0057490_de75_11eb_a28d_92db55bb3f12row7_col0\" class=\"data row7 col0\" >0</td>\n",
       "                        <td id=\"T_a0057490_de75_11eb_a28d_92db55bb3f12row7_col1\" class=\"data row7 col1\" >0</td>\n",
       "                        <td id=\"T_a0057490_de75_11eb_a28d_92db55bb3f12row7_col2\" class=\"data row7 col2\" >0</td>\n",
       "                        <td id=\"T_a0057490_de75_11eb_a28d_92db55bb3f12row7_col3\" class=\"data row7 col3\" >0</td>\n",
       "                        <td id=\"T_a0057490_de75_11eb_a28d_92db55bb3f12row7_col4\" class=\"data row7 col4\" >0</td>\n",
       "                        <td id=\"T_a0057490_de75_11eb_a28d_92db55bb3f12row7_col5\" class=\"data row7 col5\" >0</td>\n",
       "                        <td id=\"T_a0057490_de75_11eb_a28d_92db55bb3f12row7_col6\" class=\"data row7 col6\" >0</td>\n",
       "                        <td id=\"T_a0057490_de75_11eb_a28d_92db55bb3f12row7_col7\" class=\"data row7 col7\" >14</td>\n",
       "                        <td id=\"T_a0057490_de75_11eb_a28d_92db55bb3f12row7_col8\" class=\"data row7 col8\" >101</td>\n",
       "                        <td id=\"T_a0057490_de75_11eb_a28d_92db55bb3f12row7_col9\" class=\"data row7 col9\" >223</td>\n",
       "                        <td id=\"T_a0057490_de75_11eb_a28d_92db55bb3f12row7_col10\" class=\"data row7 col10\" >253</td>\n",
       "                        <td id=\"T_a0057490_de75_11eb_a28d_92db55bb3f12row7_col11\" class=\"data row7 col11\" >248</td>\n",
       "                        <td id=\"T_a0057490_de75_11eb_a28d_92db55bb3f12row7_col12\" class=\"data row7 col12\" >124</td>\n",
       "                        <td id=\"T_a0057490_de75_11eb_a28d_92db55bb3f12row7_col13\" class=\"data row7 col13\" >0</td>\n",
       "                        <td id=\"T_a0057490_de75_11eb_a28d_92db55bb3f12row7_col14\" class=\"data row7 col14\" >0</td>\n",
       "                        <td id=\"T_a0057490_de75_11eb_a28d_92db55bb3f12row7_col15\" class=\"data row7 col15\" >0</td>\n",
       "                        <td id=\"T_a0057490_de75_11eb_a28d_92db55bb3f12row7_col16\" class=\"data row7 col16\" >0</td>\n",
       "                        <td id=\"T_a0057490_de75_11eb_a28d_92db55bb3f12row7_col17\" class=\"data row7 col17\" >0</td>\n",
       "            </tr>\n",
       "            <tr>\n",
       "                        <th id=\"T_a0057490_de75_11eb_a28d_92db55bb3f12level0_row8\" class=\"row_heading level0 row8\" >8</th>\n",
       "                        <td id=\"T_a0057490_de75_11eb_a28d_92db55bb3f12row8_col0\" class=\"data row8 col0\" >0</td>\n",
       "                        <td id=\"T_a0057490_de75_11eb_a28d_92db55bb3f12row8_col1\" class=\"data row8 col1\" >0</td>\n",
       "                        <td id=\"T_a0057490_de75_11eb_a28d_92db55bb3f12row8_col2\" class=\"data row8 col2\" >0</td>\n",
       "                        <td id=\"T_a0057490_de75_11eb_a28d_92db55bb3f12row8_col3\" class=\"data row8 col3\" >0</td>\n",
       "                        <td id=\"T_a0057490_de75_11eb_a28d_92db55bb3f12row8_col4\" class=\"data row8 col4\" >0</td>\n",
       "                        <td id=\"T_a0057490_de75_11eb_a28d_92db55bb3f12row8_col5\" class=\"data row8 col5\" >11</td>\n",
       "                        <td id=\"T_a0057490_de75_11eb_a28d_92db55bb3f12row8_col6\" class=\"data row8 col6\" >166</td>\n",
       "                        <td id=\"T_a0057490_de75_11eb_a28d_92db55bb3f12row8_col7\" class=\"data row8 col7\" >239</td>\n",
       "                        <td id=\"T_a0057490_de75_11eb_a28d_92db55bb3f12row8_col8\" class=\"data row8 col8\" >253</td>\n",
       "                        <td id=\"T_a0057490_de75_11eb_a28d_92db55bb3f12row8_col9\" class=\"data row8 col9\" >253</td>\n",
       "                        <td id=\"T_a0057490_de75_11eb_a28d_92db55bb3f12row8_col10\" class=\"data row8 col10\" >253</td>\n",
       "                        <td id=\"T_a0057490_de75_11eb_a28d_92db55bb3f12row8_col11\" class=\"data row8 col11\" >187</td>\n",
       "                        <td id=\"T_a0057490_de75_11eb_a28d_92db55bb3f12row8_col12\" class=\"data row8 col12\" >30</td>\n",
       "                        <td id=\"T_a0057490_de75_11eb_a28d_92db55bb3f12row8_col13\" class=\"data row8 col13\" >0</td>\n",
       "                        <td id=\"T_a0057490_de75_11eb_a28d_92db55bb3f12row8_col14\" class=\"data row8 col14\" >0</td>\n",
       "                        <td id=\"T_a0057490_de75_11eb_a28d_92db55bb3f12row8_col15\" class=\"data row8 col15\" >0</td>\n",
       "                        <td id=\"T_a0057490_de75_11eb_a28d_92db55bb3f12row8_col16\" class=\"data row8 col16\" >0</td>\n",
       "                        <td id=\"T_a0057490_de75_11eb_a28d_92db55bb3f12row8_col17\" class=\"data row8 col17\" >0</td>\n",
       "            </tr>\n",
       "            <tr>\n",
       "                        <th id=\"T_a0057490_de75_11eb_a28d_92db55bb3f12level0_row9\" class=\"row_heading level0 row9\" >9</th>\n",
       "                        <td id=\"T_a0057490_de75_11eb_a28d_92db55bb3f12row9_col0\" class=\"data row9 col0\" >0</td>\n",
       "                        <td id=\"T_a0057490_de75_11eb_a28d_92db55bb3f12row9_col1\" class=\"data row9 col1\" >0</td>\n",
       "                        <td id=\"T_a0057490_de75_11eb_a28d_92db55bb3f12row9_col2\" class=\"data row9 col2\" >0</td>\n",
       "                        <td id=\"T_a0057490_de75_11eb_a28d_92db55bb3f12row9_col3\" class=\"data row9 col3\" >0</td>\n",
       "                        <td id=\"T_a0057490_de75_11eb_a28d_92db55bb3f12row9_col4\" class=\"data row9 col4\" >0</td>\n",
       "                        <td id=\"T_a0057490_de75_11eb_a28d_92db55bb3f12row9_col5\" class=\"data row9 col5\" >16</td>\n",
       "                        <td id=\"T_a0057490_de75_11eb_a28d_92db55bb3f12row9_col6\" class=\"data row9 col6\" >248</td>\n",
       "                        <td id=\"T_a0057490_de75_11eb_a28d_92db55bb3f12row9_col7\" class=\"data row9 col7\" >250</td>\n",
       "                        <td id=\"T_a0057490_de75_11eb_a28d_92db55bb3f12row9_col8\" class=\"data row9 col8\" >253</td>\n",
       "                        <td id=\"T_a0057490_de75_11eb_a28d_92db55bb3f12row9_col9\" class=\"data row9 col9\" >253</td>\n",
       "                        <td id=\"T_a0057490_de75_11eb_a28d_92db55bb3f12row9_col10\" class=\"data row9 col10\" >253</td>\n",
       "                        <td id=\"T_a0057490_de75_11eb_a28d_92db55bb3f12row9_col11\" class=\"data row9 col11\" >253</td>\n",
       "                        <td id=\"T_a0057490_de75_11eb_a28d_92db55bb3f12row9_col12\" class=\"data row9 col12\" >232</td>\n",
       "                        <td id=\"T_a0057490_de75_11eb_a28d_92db55bb3f12row9_col13\" class=\"data row9 col13\" >213</td>\n",
       "                        <td id=\"T_a0057490_de75_11eb_a28d_92db55bb3f12row9_col14\" class=\"data row9 col14\" >111</td>\n",
       "                        <td id=\"T_a0057490_de75_11eb_a28d_92db55bb3f12row9_col15\" class=\"data row9 col15\" >2</td>\n",
       "                        <td id=\"T_a0057490_de75_11eb_a28d_92db55bb3f12row9_col16\" class=\"data row9 col16\" >0</td>\n",
       "                        <td id=\"T_a0057490_de75_11eb_a28d_92db55bb3f12row9_col17\" class=\"data row9 col17\" >0</td>\n",
       "            </tr>\n",
       "            <tr>\n",
       "                        <th id=\"T_a0057490_de75_11eb_a28d_92db55bb3f12level0_row10\" class=\"row_heading level0 row10\" >10</th>\n",
       "                        <td id=\"T_a0057490_de75_11eb_a28d_92db55bb3f12row10_col0\" class=\"data row10 col0\" >0</td>\n",
       "                        <td id=\"T_a0057490_de75_11eb_a28d_92db55bb3f12row10_col1\" class=\"data row10 col1\" >0</td>\n",
       "                        <td id=\"T_a0057490_de75_11eb_a28d_92db55bb3f12row10_col2\" class=\"data row10 col2\" >0</td>\n",
       "                        <td id=\"T_a0057490_de75_11eb_a28d_92db55bb3f12row10_col3\" class=\"data row10 col3\" >0</td>\n",
       "                        <td id=\"T_a0057490_de75_11eb_a28d_92db55bb3f12row10_col4\" class=\"data row10 col4\" >0</td>\n",
       "                        <td id=\"T_a0057490_de75_11eb_a28d_92db55bb3f12row10_col5\" class=\"data row10 col5\" >0</td>\n",
       "                        <td id=\"T_a0057490_de75_11eb_a28d_92db55bb3f12row10_col6\" class=\"data row10 col6\" >0</td>\n",
       "                        <td id=\"T_a0057490_de75_11eb_a28d_92db55bb3f12row10_col7\" class=\"data row10 col7\" >43</td>\n",
       "                        <td id=\"T_a0057490_de75_11eb_a28d_92db55bb3f12row10_col8\" class=\"data row10 col8\" >98</td>\n",
       "                        <td id=\"T_a0057490_de75_11eb_a28d_92db55bb3f12row10_col9\" class=\"data row10 col9\" >98</td>\n",
       "                        <td id=\"T_a0057490_de75_11eb_a28d_92db55bb3f12row10_col10\" class=\"data row10 col10\" >208</td>\n",
       "                        <td id=\"T_a0057490_de75_11eb_a28d_92db55bb3f12row10_col11\" class=\"data row10 col11\" >253</td>\n",
       "                        <td id=\"T_a0057490_de75_11eb_a28d_92db55bb3f12row10_col12\" class=\"data row10 col12\" >253</td>\n",
       "                        <td id=\"T_a0057490_de75_11eb_a28d_92db55bb3f12row10_col13\" class=\"data row10 col13\" >253</td>\n",
       "                        <td id=\"T_a0057490_de75_11eb_a28d_92db55bb3f12row10_col14\" class=\"data row10 col14\" >253</td>\n",
       "                        <td id=\"T_a0057490_de75_11eb_a28d_92db55bb3f12row10_col15\" class=\"data row10 col15\" >187</td>\n",
       "                        <td id=\"T_a0057490_de75_11eb_a28d_92db55bb3f12row10_col16\" class=\"data row10 col16\" >22</td>\n",
       "                        <td id=\"T_a0057490_de75_11eb_a28d_92db55bb3f12row10_col17\" class=\"data row10 col17\" >0</td>\n",
       "            </tr>\n",
       "    </tbody></table>"
      ],
      "text/plain": [
       "<pandas.io.formats.style.Styler at 0x7fa345483c40>"
      ]
     },
     "execution_count": 12,
     "metadata": {},
     "output_type": "execute_result"
    }
   ],
   "source": [
    "im3_t = tensor(im3)\n",
    "df = pd.DataFrame(im3_t[4:15,4:22])\n",
    "df.style.set_properties(**{'font-size':'6pt'}).background_gradient('Greys') #Using panda's framework"
   ]
  },
  {
   "cell_type": "markdown",
   "metadata": {
    "id": "3Q-zZ5wnF3e6"
   },
   "source": [
    "## First Try: Pixel Similarity\n",
    "Why don't we begin by creating an ideal image of a three based on the training set. Then having that ideal image compared with the other images of 3's and 7's to classify them?"
   ]
  },
  {
   "cell_type": "code",
   "execution_count": 13,
   "metadata": {
    "colab": {
     "base_uri": "https://localhost:8080/"
    },
    "id": "Lr0MJTYGF3e6",
    "outputId": "e7fa6e62-7fff-4dbe-a45c-c077c3b8417a"
   },
   "outputs": [
    {
     "data": {
      "text/plain": [
       "(6131, 6265)"
      ]
     },
     "execution_count": 13,
     "metadata": {},
     "output_type": "execute_result"
    }
   ],
   "source": [
    "#create list of all images in the form of tensors\n",
    "seven_tensors = [tensor(Image.open(o)) for o in sevens]\n",
    "three_tensors = [tensor(Image.open(o)) for o in threes]\n",
    "len(three_tensors), len(seven_tensors)"
   ]
  },
  {
   "cell_type": "code",
   "execution_count": 33,
   "metadata": {
    "colab": {
     "base_uri": "https://localhost:8080/",
     "height": 85
    },
    "id": "_qJzMNjPF3e6",
    "outputId": "c711456a-6e2b-4374-8f5c-ef82d0d3908e"
   },
   "outputs": [
    {
     "data": {
      "image/png": "[encoded data removed]",
      "text/plain": [
       "<Figure size 72x72 with 1 Axes>"
      ]
     },
     "metadata": {
      "needs_background": "light"
     },
     "output_type": "display_data"
    }
   ],
   "source": [
    "show_image(three_tensors[1]);"
   ]
  },
  {
   "cell_type": "code",
   "execution_count": null,
   "metadata": {
    "colab": {
     "base_uri": "https://localhost:8080/"
    },
    "id": "wrF5SIM-JEdf",
    "outputId": "8737bf9b-f9f5-4397-8a21-334344a09b42"
   },
   "outputs": [
    {
     "data": {
      "text/plain": [
       "list"
      ]
     },
     "execution_count": 16,
     "metadata": {
      "tags": []
     },
     "output_type": "execute_result"
    }
   ],
   "source": [
    "type(three_tensors)"
   ]
  },
  {
   "cell_type": "markdown",
   "metadata": {},
   "source": [
    "> Right now our tensors are lists. We must fix this by stacking them."
   ]
  },
  {
   "cell_type": "code",
   "execution_count": 14,
   "metadata": {
    "colab": {
     "base_uri": "https://localhost:8080/"
    },
    "id": "vzsO_h9xF3e6",
    "outputId": "8cd6097d-2d21-415e-c91f-ede5fdfc35ca"
   },
   "outputs": [
    {
     "data": {
      "text/plain": [
       "torch.Size([6131, 28, 28])"
      ]
     },
     "execution_count": 14,
     "metadata": {},
     "output_type": "execute_result"
    }
   ],
   "source": [
    "stacked_sevens = torch.stack(seven_tensors).float()/255\n",
    "stacked_threes = torch.stack(three_tensors).float()/255\n",
    "stacked_threes.shape"
   ]
  },
  {
   "cell_type": "code",
   "execution_count": 16,
   "metadata": {
    "colab": {
     "base_uri": "https://localhost:8080/"
    },
    "id": "7rpJI4yQF3e7",
    "outputId": "bdf01c02-b004-4ba2-fbee-5a169355a47b"
   },
   "outputs": [
    {
     "data": {
      "text/plain": [
       "3"
      ]
     },
     "execution_count": 16,
     "metadata": {},
     "output_type": "execute_result"
    }
   ],
   "source": [
    "len(stacked_threes.shape) #Returns rank. Rank means it has n dementions"
   ]
  },
  {
   "cell_type": "code",
   "execution_count": 17,
   "metadata": {
    "colab": {
     "base_uri": "https://localhost:8080/"
    },
    "id": "gmo62oraF3e7",
    "outputId": "95455f8a-ad3d-40ac-8260-940692b1efc5"
   },
   "outputs": [
    {
     "data": {
      "text/plain": [
       "3"
      ]
     },
     "execution_count": 17,
     "metadata": {},
     "output_type": "execute_result"
    }
   ],
   "source": [
    "stacked_threes.ndim"
   ]
  },
  {
   "cell_type": "code",
   "execution_count": 15,
   "metadata": {
    "colab": {
     "base_uri": "https://localhost:8080/"
    },
    "id": "wZKyf7w4J9KA",
    "outputId": "6b3932ed-8a28-4fc6-bdc7-89fd8ffd9831"
   },
   "outputs": [
    {
     "data": {
      "text/plain": [
       "tensor(0.1415)"
      ]
     },
     "execution_count": 15,
     "metadata": {},
     "output_type": "execute_result"
    }
   ],
   "source": [
    "mean3 = stacked_threes.mean() #notice taking mean gives a number\n",
    "mean3"
   ]
  },
  {
   "cell_type": "code",
   "execution_count": 16,
   "metadata": {
    "colab": {
     "base_uri": "https://localhost:8080/",
     "height": 85
    },
    "id": "rNHj8K3MF3e7",
    "outputId": "4214b47f-fd63-4da6-bc1b-8ecdb0525429"
   },
   "outputs": [
    {
     "data": {
      "image/png": "[encoded data removed]",
      "text/plain": [
       "<Figure size 72x72 with 1 Axes>"
      ]
     },
     "metadata": {
      "needs_background": "light"
     },
     "output_type": "display_data"
    }
   ],
   "source": [
    "mean3 = stacked_threes.mean(0) #the 0 represents the axis we are doing the mean across (In this case across the first axis 6131)\n",
    "show_image(mean3);"
   ]
  },
  {
   "cell_type": "markdown",
   "metadata": {},
   "source": [
    "> Here's our ideal 3"
   ]
  },
  {
   "cell_type": "code",
   "execution_count": 17,
   "metadata": {
    "colab": {
     "base_uri": "https://localhost:8080/",
     "height": 85
    },
    "id": "ZdakJASaF3e7",
    "outputId": "71b31451-3d06-4bfa-dd27-944e8a93ec9a"
   },
   "outputs": [
    {
     "data": {
      "image/png": "[encoded data removed]",
      "text/plain": [
       "<Figure size 72x72 with 1 Axes>"
      ]
     },
     "metadata": {
      "needs_background": "light"
     },
     "output_type": "display_data"
    }
   ],
   "source": [
    "mean7 = stacked_sevens.mean(0)\n",
    "show_image(mean7);"
   ]
  },
  {
   "cell_type": "markdown",
   "metadata": {},
   "source": [
    "> And our ideal 7, which we will also be using as a comparison"
   ]
  },
  {
   "cell_type": "code",
   "execution_count": 18,
   "metadata": {
    "colab": {
     "base_uri": "https://localhost:8080/",
     "height": 85
    },
    "id": "Hwhv0rXsF3e7",
    "outputId": "fda09b37-fc65-4135-dd4b-636aa53c0764"
   },
   "outputs": [
    {
     "data": {
      "image/png": "[encoded data removed]",
      "text/plain": [
       "<Figure size 72x72 with 1 Axes>"
      ]
     },
     "metadata": {
      "needs_background": "light"
     },
     "output_type": "display_data"
    }
   ],
   "source": [
    "a_3 = stacked_threes[1]\n",
    "show_image(a_3);"
   ]
  },
  {
   "cell_type": "markdown",
   "metadata": {},
   "source": [
    "### Difference formula\n",
    "To determine the difference between our ideal image and the training images we need to make use of some formula. Particularly, using either the **mean absolute difference(L1 norm)** or the **root mean squared error(L2 norm)**."
   ]
  },
  {
   "cell_type": "code",
   "execution_count": null,
   "metadata": {
    "colab": {
     "base_uri": "https://localhost:8080/"
    },
    "id": "47z6Wx-HF3e7",
    "outputId": "eb978f22-523a-429d-d85e-69921eba451d"
   },
   "outputs": [
    {
     "data": {
      "text/plain": [
       "(tensor(0.1114), tensor(0.2021))"
      ]
     },
     "execution_count": 31,
     "metadata": {
      "tags": []
     },
     "output_type": "execute_result"
    }
   ],
   "source": [
    "#Find difference between images using one of the following:\n",
    "dist_3_abs = (a_3 - mean3).abs().mean() #L1 norm\n",
    "dist_3_sqr = ((a_3 - mean3)**2).mean().sqrt() #RMSE or L2 norm\n",
    "dist_3_abs,dist_3_sqr"
   ]
  },
  {
   "cell_type": "code",
   "execution_count": null,
   "metadata": {
    "colab": {
     "base_uri": "https://localhost:8080/"
    },
    "id": "kWZAL4T2F3e8",
    "outputId": "fc84bde7-a712-4081-f89f-cb6865637c9c"
   },
   "outputs": [
    {
     "data": {
      "text/plain": [
       "(tensor(0.1586), tensor(0.3021))"
      ]
     },
     "execution_count": 32,
     "metadata": {
      "tags": []
     },
     "output_type": "execute_result"
    }
   ],
   "source": [
    "dist_7_abs = (a_3 - mean7).abs().mean()\n",
    "dist_7_sqr = ((a_3 - mean7)**2).mean().sqrt()\n",
    "dist_7_abs,dist_7_sqr"
   ]
  },
  {
   "cell_type": "code",
   "execution_count": null,
   "metadata": {
    "colab": {
     "base_uri": "https://localhost:8080/"
    },
    "id": "w_gdc5F7F3e8",
    "outputId": "92158161-3ef3-430e-db18-0e66aa8540ed"
   },
   "outputs": [
    {
     "data": {
      "text/plain": [
       "(tensor(0.1586), tensor(0.3021))"
      ]
     },
     "execution_count": 33,
     "metadata": {
      "tags": []
     },
     "output_type": "execute_result"
    }
   ],
   "source": [
    "#Another approach\n",
    "F.l1_loss(a_3.float(),mean7),   F.mse_loss(a_3,mean7).sqrt()"
   ]
  },
  {
   "cell_type": "markdown",
   "metadata": {
    "id": "oGrQbE-SF3e8"
   },
   "source": [
    "## Sidebar: NumPy Arrays and PyTorch Tensors \n",
    "#### ***Just some comparison between tensors and numpy arrays***"
   ]
  },
  {
   "cell_type": "code",
   "execution_count": null,
   "metadata": {
    "id": "eTbcts6cF3e8"
   },
   "outputs": [],
   "source": [
    "data = [[1,2,3],[4,5,6]]\n",
    "arr = array (data)\n",
    "tns = tensor(data)"
   ]
  },
  {
   "cell_type": "code",
   "execution_count": null,
   "metadata": {
    "colab": {
     "base_uri": "https://localhost:8080/"
    },
    "id": "bk290aj-F3e8",
    "outputId": "9415b3a6-aab7-4c77-f068-dab76b347665"
   },
   "outputs": [
    {
     "data": {
      "text/plain": [
       "array([[1, 2, 3],\n",
       "       [4, 5, 6]])"
      ]
     },
     "execution_count": 46,
     "metadata": {
      "tags": []
     },
     "output_type": "execute_result"
    }
   ],
   "source": [
    "arr  # numpy"
   ]
  },
  {
   "cell_type": "code",
   "execution_count": null,
   "metadata": {
    "colab": {
     "base_uri": "https://localhost:8080/"
    },
    "id": "eZ5gruUlF3e8",
    "outputId": "3e938f29-493e-474a-d053-97e67cad79df"
   },
   "outputs": [
    {
     "data": {
      "text/plain": [
       "tensor([[1, 2, 3],\n",
       "        [4, 5, 6]])"
      ]
     },
     "execution_count": 48,
     "metadata": {
      "tags": []
     },
     "output_type": "execute_result"
    }
   ],
   "source": [
    "tns  # pytorch"
   ]
  },
  {
   "cell_type": "code",
   "execution_count": null,
   "metadata": {
    "colab": {
     "base_uri": "https://localhost:8080/"
    },
    "id": "DtLi13PdF3e8",
    "outputId": "dc153971-3005-4fda-b842-ac3faa9bbb3f"
   },
   "outputs": [
    {
     "data": {
      "text/plain": [
       "tensor([4, 5, 6])"
      ]
     },
     "execution_count": 49,
     "metadata": {
      "tags": []
     },
     "output_type": "execute_result"
    }
   ],
   "source": [
    "tns[1]"
   ]
  },
  {
   "cell_type": "code",
   "execution_count": null,
   "metadata": {
    "colab": {
     "base_uri": "https://localhost:8080/"
    },
    "id": "WM_dMTo4F3e9",
    "outputId": "f53184af-008d-4923-dd02-fca618efb9c6"
   },
   "outputs": [
    {
     "data": {
      "text/plain": [
       "tensor([2, 5])"
      ]
     },
     "execution_count": 50,
     "metadata": {
      "tags": []
     },
     "output_type": "execute_result"
    }
   ],
   "source": [
    "tns[:,1]"
   ]
  },
  {
   "cell_type": "code",
   "execution_count": null,
   "metadata": {
    "colab": {
     "base_uri": "https://localhost:8080/"
    },
    "id": "I7oQ5y2fF3e9",
    "outputId": "72a9140e-4325-4f9d-ef94-36147c96c86c"
   },
   "outputs": [
    {
     "data": {
      "text/plain": [
       "tensor([5, 6])"
      ]
     },
     "execution_count": 51,
     "metadata": {
      "tags": []
     },
     "output_type": "execute_result"
    }
   ],
   "source": [
    "tns[1,1:3]"
   ]
  },
  {
   "cell_type": "code",
   "execution_count": null,
   "metadata": {
    "colab": {
     "base_uri": "https://localhost:8080/"
    },
    "id": "D0oQrZTMF3e9",
    "outputId": "869e39f8-0e20-428b-ebaf-9a1afac0b05a"
   },
   "outputs": [
    {
     "data": {
      "text/plain": [
       "tensor([[2, 3, 4],\n",
       "        [5, 6, 7]])"
      ]
     },
     "execution_count": 52,
     "metadata": {
      "tags": []
     },
     "output_type": "execute_result"
    }
   ],
   "source": [
    "tns+1"
   ]
  },
  {
   "cell_type": "code",
   "execution_count": null,
   "metadata": {
    "colab": {
     "base_uri": "https://localhost:8080/",
     "height": 35
    },
    "id": "9AuHhEb6F3e9",
    "outputId": "013a8df5-1c00-40bb-9302-63618be63f23"
   },
   "outputs": [
    {
     "data": {
      "application/vnd.google.colaboratory.intrinsic+json": {
       "type": "string"
      },
      "text/plain": [
       "'torch.LongTensor'"
      ]
     },
     "execution_count": 53,
     "metadata": {
      "tags": []
     },
     "output_type": "execute_result"
    }
   ],
   "source": [
    "tns.type()"
   ]
  },
  {
   "cell_type": "code",
   "execution_count": null,
   "metadata": {
    "colab": {
     "base_uri": "https://localhost:8080/"
    },
    "id": "_tpvyULwF3e9",
    "outputId": "dad68643-ad44-4c16-f851-873a4fdd3e54",
    "scrolled": true
   },
   "outputs": [
    {
     "data": {
      "text/plain": [
       "tensor([[1.5000, 3.0000, 4.5000],\n",
       "        [6.0000, 7.5000, 9.0000]])"
      ]
     },
     "execution_count": 54,
     "metadata": {
      "tags": []
     },
     "output_type": "execute_result"
    }
   ],
   "source": [
    "tns*1.5"
   ]
  },
  {
   "cell_type": "markdown",
   "metadata": {},
   "source": [
    "## End Sidebar"
   ]
  },
  {
   "cell_type": "markdown",
   "metadata": {},
   "source": [
    "### Training set\n",
    "As before, lets create our training set, or validation set in this case. Similer to before, we will be stacking all the images."
   ]
  },
  {
   "cell_type": "code",
   "execution_count": 19,
   "metadata": {
    "colab": {
     "base_uri": "https://localhost:8080/"
    },
    "id": "xfbuwiEYF3e9",
    "outputId": "34761951-bae0-4f3d-f7f9-b95f768aa502"
   },
   "outputs": [
    {
     "data": {
      "text/plain": [
       "(torch.Size([1010, 28, 28]), torch.Size([1028, 28, 28]))"
      ]
     },
     "execution_count": 19,
     "metadata": {},
     "output_type": "execute_result"
    }
   ],
   "source": [
    "valid_3_tens = torch.stack([tensor(Image.open(o)) \n",
    "                            for o in (path/'valid'/'3').ls()])\n",
    "valid_3_tens = valid_3_tens.float()/255\n",
    "\n",
    "valid_7_tens = torch.stack([tensor(Image.open(o)) \n",
    "                            for o in (path/'valid'/'7').ls()])\n",
    "valid_7_tens = valid_7_tens.float()/255\n",
    "\n",
    "\n",
    "valid_3_tens.shape,   valid_7_tens.shape"
   ]
  },
  {
   "cell_type": "markdown",
   "metadata": {},
   "source": [
    "### Loss function\n",
    "This is our chosen distance formula. We will be using this to classify 3's and 7's."
   ]
  },
  {
   "cell_type": "code",
   "execution_count": 20,
   "metadata": {
    "colab": {
     "base_uri": "https://localhost:8080/"
    },
    "id": "Am7Wh5NAF3e-",
    "outputId": "df88e418-9b00-41a5-a4b3-3d99dbe0efdf"
   },
   "outputs": [
    {
     "data": {
      "text/plain": [
       "tensor(0.1114)"
      ]
     },
     "execution_count": 20,
     "metadata": {},
     "output_type": "execute_result"
    }
   ],
   "source": [
    "def mnist_distance(a,b): \n",
    "  return (a-b).abs().mean((-1,-2)) #mean across 2nd and last axis (28,28)\n",
    "mnist_distance(a_3, mean3)"
   ]
  },
  {
   "cell_type": "markdown",
   "metadata": {
    "id": "g-DyAgOJF3e9"
   },
   "source": [
    "## Computing Metrics Using Broadcasting\n",
    "Broadcasting is a technique of vectorizing array operations so that looping occurs in C instead of Python. This is far more efficient and faster than looping. See below broadcasting in action, along with an example."
   ]
  },
  {
   "cell_type": "code",
   "execution_count": 21,
   "metadata": {
    "colab": {
     "base_uri": "https://localhost:8080/"
    },
    "id": "3V6Fn8YHF3e-",
    "outputId": "be20b1f6-d87a-4ee2-b826-ae56dff4837c"
   },
   "outputs": [
    {
     "data": {
      "text/plain": [
       "(tensor([0.1787, 0.1422, 0.1412,  ..., 0.1358, 0.1301, 0.1110]),\n",
       " torch.Size([1010]))"
      ]
     },
     "execution_count": 21,
     "metadata": {},
     "output_type": "execute_result"
    }
   ],
   "source": [
    "valid_3_dist = mnist_distance(valid_3_tens, mean3) #broadcast method across entire validation set\n",
    "valid_3_dist, valid_3_dist.shape"
   ]
  },
  {
   "cell_type": "code",
   "execution_count": null,
   "metadata": {
    "colab": {
     "base_uri": "https://localhost:8080/"
    },
    "id": "62rUfDGzF3e-",
    "outputId": "615535bd-e8a0-46d0-980e-479b180902d1"
   },
   "outputs": [
    {
     "data": {
      "text/plain": [
       "tensor([2, 3, 4])"
      ]
     },
     "execution_count": 37,
     "metadata": {
      "tags": []
     },
     "output_type": "execute_result"
    }
   ],
   "source": [
    "tensor([1,2,3]) + tensor([1]) #broadcasting example"
   ]
  },
  {
   "cell_type": "code",
   "execution_count": null,
   "metadata": {
    "colab": {
     "base_uri": "https://localhost:8080/"
    },
    "id": "73GNtXyvF3e-",
    "outputId": "700a830b-d092-4eb3-9ef4-7699692291e7"
   },
   "outputs": [
    {
     "data": {
      "text/plain": [
       "torch.Size([1010, 28, 28])"
      ]
     },
     "execution_count": 38,
     "metadata": {
      "tags": []
     },
     "output_type": "execute_result"
    }
   ],
   "source": [
    "(valid_3_tens-mean3).shape"
   ]
  },
  {
   "cell_type": "code",
   "execution_count": 19,
   "metadata": {
    "id": "ll-LfupMF3e-"
   },
   "outputs": [],
   "source": [
    "#Simple function that calls the loss func and returns true or false\n",
    "def is_3(x): return mnist_distance(x,mean3) < mnist_distance(x,mean7)"
   ]
  },
  {
   "cell_type": "code",
   "execution_count": null,
   "metadata": {
    "id": "x0vRSI9BW8v9"
   },
   "outputs": [],
   "source": [
    "a_7 = stacked_sevens[1]\n",
    "a_7"
   ]
  },
  {
   "cell_type": "code",
   "execution_count": 26,
   "metadata": {
    "colab": {
     "base_uri": "https://localhost:8080/",
     "height": 102
    },
    "id": "wPuPAUEvXBJC",
    "outputId": "b6d7ca14-7b3e-4438-9c92-aced84856ff5"
   },
   "outputs": [
    {
     "data": {
      "text/plain": [
       "<AxesSubplot:>"
      ]
     },
     "execution_count": 26,
     "metadata": {},
     "output_type": "execute_result"
    },
    {
     "data": {
      "image/png": "[encoded data removed]",
      "text/plain": [
       "<Figure size 72x72 with 1 Axes>"
      ]
     },
     "metadata": {
      "needs_background": "light"
     },
     "output_type": "display_data"
    }
   ],
   "source": [
    "show_image(a_7)"
   ]
  },
  {
   "cell_type": "code",
   "execution_count": null,
   "metadata": {
    "colab": {
     "base_uri": "https://localhost:8080/"
    },
    "id": "VBVsyquLXD12",
    "outputId": "9381a14c-d909-4a87-babf-1049f8cef3b0"
   },
   "outputs": [
    {
     "data": {
      "text/plain": [
       "(tensor(False), tensor(0.))"
      ]
     },
     "execution_count": 42,
     "metadata": {
      "tags": []
     },
     "output_type": "execute_result"
    }
   ],
   "source": [
    "is_3(a_7), is_3(a_7).float() #tensor val is 0"
   ]
  },
  {
   "cell_type": "markdown",
   "metadata": {},
   "source": [
    "> Nice it's working!"
   ]
  },
  {
   "cell_type": "code",
   "execution_count": null,
   "metadata": {
    "colab": {
     "base_uri": "https://localhost:8080/"
    },
    "id": "-BJwz0bkF3e_",
    "outputId": "96224f99-4220-4891-c919-6e3ffe6a0202",
    "scrolled": true
   },
   "outputs": [
    {
     "data": {
      "text/plain": [
       "tensor([True, True, True,  ..., True, True, True])"
      ]
     },
     "execution_count": 43,
     "metadata": {
      "tags": []
     },
     "output_type": "execute_result"
    }
   ],
   "source": [
    "is_3(valid_3_tens) #Broadcasting"
   ]
  },
  {
   "cell_type": "markdown",
   "metadata": {},
   "source": [
    "## Testing\n",
    "Now lets test it and view our accuracy!"
   ]
  },
  {
   "cell_type": "code",
   "execution_count": 20,
   "metadata": {
    "colab": {
     "base_uri": "https://localhost:8080/"
    },
    "id": "ojXwbucPF3e_",
    "outputId": "52277c3f-0d77-413c-f63a-7a74e1edede8"
   },
   "outputs": [
    {
     "data": {
      "text/plain": [
       "(tensor(0.9168), tensor(0.9854), tensor(0.9511))"
      ]
     },
     "execution_count": 20,
     "metadata": {},
     "output_type": "execute_result"
    }
   ],
   "source": [
    "accuracy_3s =      is_3(valid_3_tens).float() .mean()\n",
    "accuracy_7s = (1 - is_3(valid_7_tens).float()).mean()\n",
    "\n",
    "accuracy_3s,accuracy_7s,(accuracy_3s+accuracy_7s)/2"
   ]
  },
  {
   "cell_type": "markdown",
   "metadata": {},
   "source": [
    "> Wow 95% accuracy! You just created your very first model from scratch!"
   ]
  },
  {
   "cell_type": "markdown",
   "metadata": {
    "id": "GjunLX6PyrFs"
   },
   "source": [
    "## Lets test our model using our own image"
   ]
  },
  {
   "cell_type": "code",
   "execution_count": 65,
   "metadata": {
    "colab": {
     "base_uri": "https://localhost:8080/",
     "height": 49,
     "referenced_widgets": [
      "7c87cfef9dba4b4387e11331b95fc7d2",
      "bb9b6f91c49d48fea4a1cbf4738b183e",
      "f1a751648f224263a1435c228d5d1e32"
     ]
    },
    "id": "k6-JeSUoywGo",
    "outputId": "9903e10f-39c0-4723-86e0-f701de267b5f"
   },
   "outputs": [
    {
     "data": {
      "application/vnd.jupyter.widget-view+json": {
       "model_id": "53608ad378494b50b996a15c72de5c14",
       "version_major": 2,
       "version_minor": 0
      },
      "text/plain": [
       "FileUpload(value={}, description='Upload')"
      ]
     },
     "metadata": {},
     "output_type": "display_data"
    }
   ],
   "source": [
    "uploader = widgets.FileUpload()\n",
    "uploader"
   ]
  },
  {
   "cell_type": "code",
   "execution_count": 66,
   "metadata": {
    "colab": {
     "base_uri": "https://localhost:8080/",
     "height": 57
    },
    "id": "f3z_yaotzRj-",
    "outputId": "fea974b5-e20a-46a7-d2aa-25ff40b6b53b"
   },
   "outputs": [
    {
     "data": {
      "image/png": "[encoded data removed]",
      "text/plain": [
       "<PIL.Image.Image image mode=RGB size=35x40 at 0x7FADD3B32460>"
      ]
     },
     "execution_count": 66,
     "metadata": {},
     "output_type": "execute_result"
    }
   ],
   "source": [
    "img = PILImage.create(uploader.data[0])\n",
    "img.to_thumb(40)"
   ]
  },
  {
   "cell_type": "markdown",
   "metadata": {},
   "source": [
    "> I drew this in paint"
   ]
  },
  {
   "cell_type": "code",
   "execution_count": 67,
   "metadata": {
    "id": "5_YcgQbBzZXr"
   },
   "outputs": [],
   "source": [
    "img = img.resize((28,28)) #Resizing img"
   ]
  },
  {
   "cell_type": "code",
   "execution_count": 68,
   "metadata": {
    "id": "WzKOslcz0sme"
   },
   "outputs": [],
   "source": [
    "t_3 = tensor(img) #converting to tensor"
   ]
  },
  {
   "cell_type": "code",
   "execution_count": 69,
   "metadata": {
    "colab": {
     "base_uri": "https://localhost:8080/"
    },
    "id": "ueo8Zp_80W1A",
    "outputId": "fd48c2bd-85c8-43bd-caf6-048bbc5d1a96"
   },
   "outputs": [],
   "source": [
    "#t_3.view(-1,28*28)"
   ]
  },
  {
   "cell_type": "code",
   "execution_count": 70,
   "metadata": {},
   "outputs": [
    {
     "data": {
      "text/plain": [
       "torch.Size([28, 28, 3])"
      ]
     },
     "execution_count": 70,
     "metadata": {},
     "output_type": "execute_result"
    }
   ],
   "source": [
    "t_3.shape"
   ]
  },
  {
   "cell_type": "code",
   "execution_count": 71,
   "metadata": {
    "id": "FM1fFpJT3fld"
   },
   "outputs": [],
   "source": [
    "t_3 = t_3[:,:,0] #dropping channels"
   ]
  },
  {
   "cell_type": "code",
   "execution_count": 72,
   "metadata": {
    "colab": {
     "base_uri": "https://localhost:8080/",
     "height": 102
    },
    "id": "6iUR7mpA371H",
    "outputId": "82da4488-1aa8-49d1-9d28-3bc7d2b9f32d"
   },
   "outputs": [
    {
     "data": {
      "text/plain": [
       "<AxesSubplot:>"
      ]
     },
     "execution_count": 72,
     "metadata": {},
     "output_type": "execute_result"
    },
    {
     "data": {
      "image/png": "[encoded data removed]",
      "text/plain": [
       "<Figure size 72x72 with 1 Axes>"
      ]
     },
     "metadata": {
      "needs_background": "light"
     },
     "output_type": "display_data"
    }
   ],
   "source": [
    "show_image(t_3) #Awesome now it looks like an image from our dataset"
   ]
  },
  {
   "cell_type": "code",
   "execution_count": 73,
   "metadata": {
    "colab": {
     "base_uri": "https://localhost:8080/"
    },
    "id": "DXKRtZ7i3JLw",
    "outputId": "3c774dfb-cf6f-47a6-fca4-88b7643b526b"
   },
   "outputs": [
    {
     "data": {
      "text/plain": [
       "torch.Size([28, 28])"
      ]
     },
     "execution_count": 73,
     "metadata": {},
     "output_type": "execute_result"
    }
   ],
   "source": [
    "t_3.shape"
   ]
  },
  {
   "cell_type": "code",
   "execution_count": 74,
   "metadata": {
    "colab": {
     "base_uri": "https://localhost:8080/"
    },
    "id": "R2OgPQjRzvJ5",
    "outputId": "79c46882-4173-4d7b-ffe5-0585304b5ce1"
   },
   "outputs": [
    {
     "data": {
      "text/plain": [
       "tensor(True)"
      ]
     },
     "execution_count": 74,
     "metadata": {},
     "output_type": "execute_result"
    }
   ],
   "source": [
    "is_3(t_3) #Nice, it got it right!"
   ]
  },
  {
   "cell_type": "markdown",
   "metadata": {},
   "source": [
    "## Conclusion\n",
    "I recommend you play around with this model we created, and try to spot some limitations to it. Although this is a ML model, it certainly is far from the ideal ML models."
   ]
  },
  {
   "cell_type": "code",
   "execution_count": null,
   "metadata": {},
   "outputs": [],
   "source": []
  },
  {
   "cell_type": "markdown",
   "metadata": {
    "id": "-Li-j2SMF3e_"
   },
   "source": [
    "## Stochastic Gradient Descent (SGD)\n",
    "What makes machine learning models truly learnable is SGD. Below you will see the influence of SGD on training a model."
   ]
  },
  {
   "cell_type": "markdown",
   "metadata": {
    "id": "W7uLCxewF3fB"
   },
   "source": [
    "### An End-to-End SGD Example"
   ]
  },
  {
   "cell_type": "code",
   "execution_count": 48,
   "metadata": {
    "id": "Ufw1d9PtF3fB",
    "scrolled": true
   },
   "outputs": [
    {
     "data": {
      "text/plain": [
       "tensor([ 0.,  1.,  2.,  3.,  4.,  5.,  6.,  7.,  8.,  9., 10., 11., 12., 13., 14., 15., 16., 17., 18., 19.])"
      ]
     },
     "execution_count": 48,
     "metadata": {},
     "output_type": "execute_result"
    }
   ],
   "source": [
    "time = torch.arange(0,20).float(); time"
   ]
  },
  {
   "cell_type": "code",
   "execution_count": 49,
   "metadata": {
    "id": "leos1DO-F3fB"
   },
   "outputs": [
    {
     "data": {
      "image/png": "[encoded data removed]",
      "text/plain": [
       "<Figure size 432x288 with 1 Axes>"
      ]
     },
     "metadata": {
      "needs_background": "light"
     },
     "output_type": "display_data"
    }
   ],
   "source": [
    "speed = torch.randn(20)*3 + 0.75*(time-9.5)**2 + 1\n",
    "plt.scatter(time,speed);"
   ]
  },
  {
   "cell_type": "markdown",
   "metadata": {},
   "source": [
    "> Lets assume we have this data given"
   ]
  },
  {
   "cell_type": "code",
   "execution_count": 50,
   "metadata": {
    "id": "dWcNOZcMF3fB"
   },
   "outputs": [],
   "source": [
    "#our assumed function for the above graph\n",
    "def f(t, params):\n",
    "    a,b,c = params\n",
    "    return a*(t**2) + (b*t) + c"
   ]
  },
  {
   "cell_type": "code",
   "execution_count": 51,
   "metadata": {
    "id": "RF_nzbSJF3fB"
   },
   "outputs": [],
   "source": [
    "#Our loss function from before\n",
    "def mse(preds, targets): \n",
    "    return ((preds-targets)**2).mean().sqrt() #mean squared error"
   ]
  },
  {
   "cell_type": "markdown",
   "metadata": {
    "id": "QA6v4Dv3F3fC"
   },
   "source": [
    "### Step 1: Initialize the parameters\n",
    "All ML models have parameters. Parameters are random values that represent the influence of each value on the output. We often refer to these as weights. "
   ]
  },
  {
   "cell_type": "code",
   "execution_count": 52,
   "metadata": {
    "id": "OvzuES29F3fC"
   },
   "outputs": [
    {
     "data": {
      "text/plain": [
       "tensor([0.2815, 0.0562, 0.5227], requires_grad=True)"
      ]
     },
     "execution_count": 52,
     "metadata": {},
     "output_type": "execute_result"
    }
   ],
   "source": [
    "params = torch.randn(3).requires_grad_() #Getting random weights and requiring gradient\n",
    "params"
   ]
  },
  {
   "cell_type": "markdown",
   "metadata": {},
   "source": [
    "> We are requiring gradients because this is what we will be using to improve our weights"
   ]
  },
  {
   "cell_type": "code",
   "execution_count": 53,
   "metadata": {
    "id": "JbVaQkamF3fC"
   },
   "outputs": [],
   "source": [
    "#hide\n",
    "orig_params = params.clone()"
   ]
  },
  {
   "cell_type": "markdown",
   "metadata": {
    "id": "V81Sx8esF3fC"
   },
   "source": [
    "### Step 2: Calculate the predictions\n",
    "Lets get a prediction using the random weights we initialzed above."
   ]
  },
  {
   "cell_type": "code",
   "execution_count": 54,
   "metadata": {
    "id": "IVISWPFZF3fC"
   },
   "outputs": [],
   "source": [
    "preds = f(time, params)"
   ]
  },
  {
   "cell_type": "code",
   "execution_count": 55,
   "metadata": {
    "id": "xqFrg6VvF3fC"
   },
   "outputs": [],
   "source": [
    "def show_preds(preds, ax=None):\n",
    "    if ax is None: ax=plt.subplots()[1]\n",
    "    ax.scatter(time, speed)\n",
    "    ax.scatter(time, to_np(preds), color='red')\n",
    "    ax.set_ylim(-300,100)"
   ]
  },
  {
   "cell_type": "code",
   "execution_count": 56,
   "metadata": {
    "id": "_svLEKVuF3fC"
   },
   "outputs": [
    {
     "data": {
      "image/png": "[encoded data removed]",
      "text/plain": [
       "<Figure size 432x288 with 1 Axes>"
      ]
     },
     "metadata": {
      "needs_background": "light"
     },
     "output_type": "display_data"
    }
   ],
   "source": [
    "show_preds(preds) #Red is our predictions, Blue is the labels"
   ]
  },
  {
   "cell_type": "markdown",
   "metadata": {},
   "source": [
    "> Not bad for an initial prediction"
   ]
  },
  {
   "cell_type": "markdown",
   "metadata": {
    "id": "emoOEbh5F3fD"
   },
   "source": [
    "### Step 3: Calculate the loss\n",
    "Lets now calculate the loss. Loss is a metric that is used by the model to determine it's performance."
   ]
  },
  {
   "cell_type": "code",
   "execution_count": 58,
   "metadata": {
    "id": "Jr_Qb5yPF3fD"
   },
   "outputs": [
    {
     "data": {
      "text/plain": [
       "tensor(35.6327, grad_fn=<SqrtBackward>)"
      ]
     },
     "execution_count": 58,
     "metadata": {},
     "output_type": "execute_result"
    }
   ],
   "source": [
    "loss = mse(preds, speed) #Current loss\n",
    "loss"
   ]
  },
  {
   "cell_type": "markdown",
   "metadata": {
    "id": "RN0dLckxF3fD"
   },
   "source": [
    "### Step 4: Calculate the gradients\n",
    "To improve the loss, the gradients of the weights need to be calculated. Why the gradient? Because the gradient gives us the slope, which we need to determine how to step the weights."
   ]
  },
  {
   "cell_type": "code",
   "execution_count": 59,
   "metadata": {
    "id": "XXRjP9xOF3fD"
   },
   "outputs": [
    {
     "data": {
      "text/plain": [
       "tensor([121.4830,   7.8875,   0.3013])"
      ]
     },
     "execution_count": 59,
     "metadata": {},
     "output_type": "execute_result"
    }
   ],
   "source": [
    "loss.backward()\n",
    "params.grad"
   ]
  },
  {
   "cell_type": "code",
   "execution_count": 60,
   "metadata": {
    "id": "y6q0X7hRF3fD"
   },
   "outputs": [
    {
     "data": {
      "text/plain": [
       "tensor([1.2148e-03, 7.8875e-05, 3.0131e-06])"
      ]
     },
     "execution_count": 60,
     "metadata": {},
     "output_type": "execute_result"
    }
   ],
   "source": [
    "params.grad * 1e-5      #1e-5 is the learning rate"
   ]
  },
  {
   "cell_type": "markdown",
   "metadata": {
    "id": "LPuqzfJKF3fD"
   },
   "source": [
    "### Step 5: Step the weights. \n",
    "Now that we have everything, lets update our weights"
   ]
  },
  {
   "cell_type": "code",
   "execution_count": 62,
   "metadata": {
    "id": "4AlZ8kYBF3fE"
   },
   "outputs": [],
   "source": [
    "lr = 1e-4\n",
    "params.data -= lr * params.grad.data\n",
    "params.grad = None"
   ]
  },
  {
   "cell_type": "code",
   "execution_count": 63,
   "metadata": {
    "id": "N3C2OGuIF3fE"
   },
   "outputs": [
    {
     "data": {
      "text/plain": [
       "tensor(34.1798, grad_fn=<SqrtBackward>)"
      ]
     },
     "execution_count": 63,
     "metadata": {},
     "output_type": "execute_result"
    }
   ],
   "source": [
    "preds = f(time,params)\n",
    "mse(preds, speed) #loss improved"
   ]
  },
  {
   "cell_type": "markdown",
   "metadata": {},
   "source": [
    "> Notice that our loss has improved with these new weights"
   ]
  },
  {
   "cell_type": "code",
   "execution_count": 64,
   "metadata": {
    "id": "gk-04vphF3fE"
   },
   "outputs": [
    {
     "data": {
      "image/png": "[encoded data removed]",
      "text/plain": [
       "<Figure size 432x288 with 1 Axes>"
      ]
     },
     "metadata": {
      "needs_background": "light"
     },
     "output_type": "display_data"
    }
   ],
   "source": [
    "show_preds(preds)"
   ]
  },
  {
   "cell_type": "markdown",
   "metadata": {},
   "source": [
    "## Putting all of the above into a simple function\n",
    "Lets grab all the steps we did above and put it into one function for simplicity."
   ]
  },
  {
   "cell_type": "code",
   "execution_count": 65,
   "metadata": {
    "id": "ESj5f-m9F3fE"
   },
   "outputs": [],
   "source": [
    "def apply_step(params, prn=True):\n",
    "    preds = f(time, params)\n",
    "    loss = mse(preds, speed)\n",
    "    loss.backward()\n",
    "    params.data -= lr * params.grad.data\n",
    "    params.grad = None\n",
    "    if prn: print(loss.item())\n",
    "    return preds"
   ]
  },
  {
   "cell_type": "markdown",
   "metadata": {
    "id": "1P-RgMV6F3fF"
   },
   "source": [
    "### Step 6: Repeat the process  (Training)\n",
    "Now we just need to trian our model."
   ]
  },
  {
   "cell_type": "code",
   "execution_count": 66,
   "metadata": {
    "id": "pjvP0EFNF3fF"
   },
   "outputs": [
    {
     "name": "stdout",
     "output_type": "stream",
     "text": [
      "34.17982482910156\n",
      "32.844730377197266\n",
      "31.63145637512207\n",
      "30.54193687438965\n",
      "29.575712203979492\n",
      "28.729764938354492\n",
      "27.998600006103516\n",
      "27.374542236328125\n",
      "26.84825325012207\n",
      "26.409330368041992\n"
     ]
    }
   ],
   "source": [
    "for i in range(10): apply_step(params) #running it 10 times (Notice loss improving)"
   ]
  },
  {
   "cell_type": "code",
   "execution_count": 67,
   "metadata": {
    "id": "nCUblazBF3fF"
   },
   "outputs": [],
   "source": [
    "#hide\n",
    "params = orig_params.detach().requires_grad_()"
   ]
  },
  {
   "cell_type": "code",
   "execution_count": 68,
   "metadata": {
    "id": "E7-gQY1XF3fF"
   },
   "outputs": [
    {
     "data": {
      "image/png": "[encoded data removed]",
      "text/plain": [
       "<Figure size 864x216 with 4 Axes>"
      ]
     },
     "metadata": {
      "needs_background": "light"
     },
     "output_type": "display_data"
    }
   ],
   "source": [
    "_,axs = plt.subplots(1,4,figsize=(12,3))\n",
    "for ax in axs: show_preds(apply_step(params, False), ax)\n",
    "plt.tight_layout()"
   ]
  },
  {
   "cell_type": "markdown",
   "metadata": {
    "id": "vBB0Gu6XF3fF"
   },
   "source": [
    "## Conclusion\n",
    "Compare this approach to the pixel similerity example. You will notice that here it truly seems like the model is learning: This is the approach we will be using from now on as it better fits the ideal ML model. \n",
    "\n",
    "I have chosen to split this lesson into 2 parts. On the next lesson we will apply what we have learned to the MNIST dataset once again. This time using the more approriate ML approach."
   ]
  }
 ],
 "metadata": {
  "accelerator": "GPU",
  "colab": {
   "collapsed_sections": [
    "w0xQ0jfUF3fB",
    "W7uLCxewF3fB",
    "QA6v4Dv3F3fC",
    "V81Sx8esF3fC",
    "emoOEbh5F3fD",
    "RN0dLckxF3fD",
    "LPuqzfJKF3fD",
    "1P-RgMV6F3fF",
    "vBB0Gu6XF3fF",
    "npUG-MEjF3fF",
    "Fsv-gCCdF3fG",
    "_Q-JqJMrF3fK",
    "rESZZjRXF3fK",
    "UPm2_qQ7F3fL",
    "QQB5IkX6F3fO",
    "yioPMd8XF3fS",
    "I3z9_AOUF3fU",
    "SJhBlRs_F3fU",
    "8Yj2MrvNF3fU",
    "5bO4j56rF3fV"
   ],
   "name": "Copy of 04_mnist_basics.ipynb",
   "provenance": []
  },
  "jupytext": {
   "split_at_heading": true
  },
  "kernelspec": {
   "display_name": "Python 3",
   "language": "python",
   "name": "python3"
  },
  "language_info": {
   "codemirror_mode": {
    "name": "ipython",
    "version": 3
   },
   "file_extension": ".py",
   "mimetype": "text/x-python",
   "name": "python",
   "nbconvert_exporter": "python",
   "pygments_lexer": "ipython3",
   "version": "3.8.6"
  },
  "widgets": {
   "application/vnd.jupyter.widget-state+json": {
    "7c87cfef9dba4b4387e11331b95fc7d2": {
     "model_module": "@jupyter-widgets/controls",
     "model_name": "FileUploadModel",
     "state": {
      "_counter": 2,
      "_dom_classes": [],
      "_model_module": "@jupyter-widgets/controls",
      "_model_module_version": "1.5.0",
      "_model_name": "FileUploadModel",
      "_view_count": null,
      "_view_module": "@jupyter-widgets/controls",
      "_view_module_version": "1.5.0",
      "_view_name": "FileUploadView",
      "accept": "",
      "button_style": "",
      "data": [
       null
      ],
      "description": "Upload",
      "description_tooltip": null,
      "disabled": false,
      "error": "",
      "icon": "upload",
      "layout": "IPY_MODEL_f1a751648f224263a1435c228d5d1e32",
      "metadata": [
       {
        "lastModified": 1625425852661,
        "name": "Untitled.png",
        "size": 3289,
        "type": "image/png"
       }
      ],
      "multiple": false,
      "style": "IPY_MODEL_bb9b6f91c49d48fea4a1cbf4738b183e"
     }
    },
    "bb9b6f91c49d48fea4a1cbf4738b183e": {
     "model_module": "@jupyter-widgets/controls",
     "model_name": "ButtonStyleModel",
     "state": {
      "_model_module": "@jupyter-widgets/controls",
      "_model_module_version": "1.5.0",
      "_model_name": "ButtonStyleModel",
      "_view_count": null,
      "_view_module": "@jupyter-widgets/base",
      "_view_module_version": "1.2.0",
      "_view_name": "StyleView",
      "button_color": null,
      "font_weight": ""
     }
    },
    "f1a751648f224263a1435c228d5d1e32": {
     "model_module": "@jupyter-widgets/base",
     "model_name": "LayoutModel",
     "state": {
      "_model_module": "@jupyter-widgets/base",
      "_model_module_version": "1.2.0",
      "_model_name": "LayoutModel",
      "_view_count": null,
      "_view_module": "@jupyter-widgets/base",
      "_view_module_version": "1.2.0",
      "_view_name": "LayoutView",
      "align_content": null,
      "align_items": null,
      "align_self": null,
      "border": null,
      "bottom": null,
      "display": null,
      "flex": null,
      "flex_flow": null,
      "grid_area": null,
      "grid_auto_columns": null,
      "grid_auto_flow": null,
      "grid_auto_rows": null,
      "grid_column": null,
      "grid_gap": null,
      "grid_row": null,
      "grid_template_areas": null,
      "grid_template_columns": null,
      "grid_template_rows": null,
      "height": null,
      "justify_content": null,
      "justify_items": null,
      "left": null,
      "margin": null,
      "max_height": null,
      "max_width": null,
      "min_height": null,
      "min_width": null,
      "object_fit": null,
      "object_position": null,
      "order": null,
      "overflow": null,
      "overflow_x": null,
      "overflow_y": null,
      "padding": null,
      "right": null,
      "top": null,
      "visibility": null,
      "width": null
     }
    }
   }
  }
 },
 "nbformat": 4,
 "nbformat_minor": 1
}
